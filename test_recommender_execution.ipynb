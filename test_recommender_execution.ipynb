{
 "cells": [
  {
   "cell_type": "code",
   "execution_count": 1,
   "metadata": {},
   "outputs": [
    {
     "name": "stdout",
     "output_type": "stream",
     "text": [
      "/Users/ReddingSkinnyRobot/Galvanize/capstone_project/website\n"
     ]
    }
   ],
   "source": [
    "cd website"
   ]
  },
  {
   "cell_type": "code",
   "execution_count": 2,
   "metadata": {
    "collapsed": true
   },
   "outputs": [],
   "source": [
    "from recommender_model import *\n",
    "import pandas as pd\n",
    "import numpy as np\n",
    "from flask import request\n",
    "from google_api_functions import *\n",
    "import yaml"
   ]
  },
  {
   "cell_type": "code",
   "execution_count": 3,
   "metadata": {
    "collapsed": true
   },
   "outputs": [],
   "source": [
    "with open('/Users/ReddingSkinnyRobot/.secrets/google_api.yaml') as f:\n",
    "    google_secrets = yaml.load(f)"
   ]
  },
  {
   "cell_type": "code",
   "execution_count": 4,
   "metadata": {
    "collapsed": true
   },
   "outputs": [],
   "source": [
    "f1 = (0.5, 'Lovely ambiance')\n",
    "f2 = (0, 'Nice for studying and working')\n",
    "f3 = (0.2, 'High end coffee')\n",
    "lat, lng = 47.612133, -122.335908"
   ]
  },
  {
   "cell_type": "code",
   "execution_count": null,
   "metadata": {
    "collapsed": true
   },
   "outputs": [],
   "source": []
  },
  {
   "cell_type": "code",
   "execution_count": 5,
   "metadata": {
    "collapsed": true
   },
   "outputs": [],
   "source": [
    "df = pd.read_csv('../data/df_with_features.csv', index_col=0)\n",
    "mapping_df = pd.read_csv('../data/mapping_df.csv', index_col=0)"
   ]
  },
  {
   "cell_type": "code",
   "execution_count": 6,
   "metadata": {
    "collapsed": true
   },
   "outputs": [],
   "source": [
    "model = RecommenderModel(df, mapping_df)"
   ]
  },
  {
   "cell_type": "code",
   "execution_count": 7,
   "metadata": {
    "scrolled": false
   },
   "outputs": [
    {
     "name": "stderr",
     "output_type": "stream",
     "text": [
      "/Users/ReddingSkinnyRobot/Galvanize/capstone_project/website/recommender_model.py:79: SettingWithCopyWarning: \n",
      "A value is trying to be set on a copy of a slice from a DataFrame.\n",
      "Try using .loc[row_indexer,col_indexer] = value instead\n",
      "\n",
      "See the caveats in the documentation: http://pandas.pydata.org/pandas-docs/stable/indexing.html#indexing-view-versus-copy\n",
      "  / normalizing_weight)\n",
      "/Users/ReddingSkinnyRobot/Galvanize/capstone_project/website/recommender_model.py:84: SettingWithCopyWarning: \n",
      "A value is trying to be set on a copy of a slice from a DataFrame.\n",
      "Try using .loc[row_indexer,col_indexer] = value instead\n",
      "\n",
      "See the caveats in the documentation: http://pandas.pydata.org/pandas-docs/stable/indexing.html#indexing-view-versus-copy\n",
      "  axis=1)\n"
     ]
    }
   ],
   "source": [
    "recs = model.recommend(f1, f2, f3, lat, lng, r=1).to_dict('records')"
   ]
  },
  {
   "cell_type": "code",
   "execution_count": 8,
   "metadata": {},
   "outputs": [
    {
     "data": {
      "text/plain": [
       "[{'address': '1606 Pike Pl',\n",
       "  'combined_weights': 0.7301164631175981,\n",
       "  'distance_from_location': 0.3282748796047352,\n",
       "  'lat': 47.609651956354845,\n",
       "  'lng': -122.34191599431131,\n",
       "  'name': 'Local Color',\n",
       "  'shop_id': 179},\n",
       " {'address': '94 Pike St #34',\n",
       "  'combined_weights': 0.6151019544830175,\n",
       "  'distance_from_location': 0.3124560574991056,\n",
       "  'lat': 47.608968412285684,\n",
       "  'lng': -122.34069716145795,\n",
       "  'name': 'Storyville Coffee Company',\n",
       "  'shop_id': 177},\n",
       " {'address': '1500 Western Ave',\n",
       "  'combined_weights': 0.5760542350067106,\n",
       "  'distance_from_location': 0.34082115520522127,\n",
       "  'lat': 47.60866582823206,\n",
       "  'lng': -122.34110957140233,\n",
       "  'name': 'Coffee Inn',\n",
       "  'shop_id': 180}]"
      ]
     },
     "execution_count": 8,
     "metadata": {},
     "output_type": "execute_result"
    }
   ],
   "source": [
    "recs"
   ]
  },
  {
   "cell_type": "code",
   "execution_count": null,
   "metadata": {},
   "outputs": [],
   "source": [
    "df.max()-df.min()"
   ]
  },
  {
   "cell_type": "code",
   "execution_count": null,
   "metadata": {},
   "outputs": [],
   "source": [
    "model.distance_filtered_df"
   ]
  },
  {
   "cell_type": "code",
   "execution_count": null,
   "metadata": {},
   "outputs": [],
   "source": [
    "model.feature_names"
   ]
  },
  {
   "cell_type": "code",
   "execution_count": null,
   "metadata": {},
   "outputs": [],
   "source": [
    "model.sorted_df"
   ]
  },
  {
   "cell_type": "code",
   "execution_count": null,
   "metadata": {
    "collapsed": true
   },
   "outputs": [],
   "source": []
  }
 ],
 "metadata": {
  "kernelspec": {
   "display_name": "Python 3",
   "language": "python",
   "name": "python3"
  },
  "language_info": {
   "codemirror_mode": {
    "name": "ipython",
    "version": 3
   },
   "file_extension": ".py",
   "mimetype": "text/x-python",
   "name": "python",
   "nbconvert_exporter": "python",
   "pygments_lexer": "ipython3",
   "version": "3.6.3"
  }
 },
 "nbformat": 4,
 "nbformat_minor": 2
}
