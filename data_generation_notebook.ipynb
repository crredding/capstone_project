{
 "cells": [
  {
   "cell_type": "code",
   "execution_count": 4,
   "metadata": {},
   "outputs": [
    {
     "ename": "ModuleNotFoundError",
     "evalue": "No module named 'yaml'",
     "output_type": "error",
     "traceback": [
      "\u001b[0;31m---------------------------------------------------------------------------\u001b[0m",
      "\u001b[0;31mModuleNotFoundError\u001b[0m                       Traceback (most recent call last)",
      "\u001b[0;32m<ipython-input-4-d7154164d751>\u001b[0m in \u001b[0;36m<module>\u001b[0;34m()\u001b[0m\n\u001b[1;32m      3\u001b[0m \u001b[0;32mimport\u001b[0m \u001b[0mpandas\u001b[0m \u001b[0;32mas\u001b[0m \u001b[0mpd\u001b[0m\u001b[0;34m\u001b[0m\u001b[0m\n\u001b[1;32m      4\u001b[0m \u001b[0;32mfrom\u001b[0m \u001b[0mpandas\u001b[0m\u001b[0;34m.\u001b[0m\u001b[0mio\u001b[0m\u001b[0;34m.\u001b[0m\u001b[0mjson\u001b[0m \u001b[0;32mimport\u001b[0m \u001b[0mjson_normalize\u001b[0m\u001b[0;34m\u001b[0m\u001b[0m\n\u001b[0;32m----> 5\u001b[0;31m \u001b[0;32mimport\u001b[0m \u001b[0myaml\u001b[0m\u001b[0;34m\u001b[0m\u001b[0m\n\u001b[0m\u001b[1;32m      6\u001b[0m \u001b[0;32mimport\u001b[0m \u001b[0mast\u001b[0m\u001b[0;34m\u001b[0m\u001b[0m\n",
      "\u001b[0;31mModuleNotFoundError\u001b[0m: No module named 'yaml'"
     ]
    }
   ],
   "source": [
    "import json\n",
    "import numpy as np\n",
    "import pandas as pd\n",
    "from pandas.io.json import json_normalize\n",
    "import yaml\n",
    "import ast"
   ]
  },
  {
   "cell_type": "markdown",
   "metadata": {},
   "source": [
    "### Import secret Keys to use with Foursquare API"
   ]
  },
  {
   "cell_type": "code",
   "execution_count": 11,
   "metadata": {
    "collapsed": true
   },
   "outputs": [],
   "source": [
    "with open('/Users/ReddingSkinnyRobot/.secrets/foursquare_api.yaml') as f:\n",
    "    secrets = yaml.load(f)"
   ]
  },
  {
   "cell_type": "markdown",
   "metadata": {},
   "source": [
    "### Calculate bounding limits from http://boundingbox.klokantech.com/ TSV format"
   ]
  },
  {
   "cell_type": "code",
   "execution_count": 1,
   "metadata": {
    "collapsed": true
   },
   "outputs": [],
   "source": [
    "westlimit=-122.459696 #Longitude\n",
    "southlimit=47.491912  #Latitude\n",
    "eastlimit=-122.224433 #Longitude\n",
    "northlimit=47.734145  #Latitude"
   ]
  },
  {
   "cell_type": "code",
   "execution_count": 3,
   "metadata": {},
   "outputs": [
    {
     "data": {
      "text/plain": [
       "47.6130285"
      ]
     },
     "execution_count": 3,
     "metadata": {},
     "output_type": "execute_result"
    }
   ],
   "source": [
    "(southlimit + northlimit)/2"
   ]
  },
  {
   "cell_type": "code",
   "execution_count": 13,
   "metadata": {
    "collapsed": true
   },
   "outputs": [],
   "source": [
    "km_east_west = (eastlimit - westlimit) * 97\n",
    "km_north_south = (northlimit - southlimit) * 111"
   ]
  },
  {
   "cell_type": "code",
   "execution_count": 14,
   "metadata": {},
   "outputs": [
    {
     "data": {
      "text/plain": [
       "228.20510999998945"
      ]
     },
     "execution_count": 14,
     "metadata": {},
     "output_type": "execute_result"
    }
   ],
   "source": [
    "km_east_west/100*1000 #meters in each grid east west"
   ]
  },
  {
   "cell_type": "code",
   "execution_count": 15,
   "metadata": {},
   "outputs": [
    {
     "data": {
      "text/plain": [
       "268.8786299999987"
      ]
     },
     "execution_count": 15,
     "metadata": {},
     "output_type": "execute_result"
    }
   ],
   "source": [
    "km_north_south/100*1000 #meters in each grid north south"
   ]
  },
  {
   "cell_type": "markdown",
   "metadata": {},
   "source": [
    "Difference between degrees of Longitude is about 60 miles (97km) \n",
    "\n",
    "Difference between degrees of Latitude is about 69 miles (111km)"
   ]
  },
  {
   "cell_type": "markdown",
   "metadata": {},
   "source": [
    "### Define search functions"
   ]
  },
  {
   "cell_type": "code",
   "execution_count": 16,
   "metadata": {
    "collapsed": true
   },
   "outputs": [],
   "source": [
    "def populate_search_params(lat, long):\n",
    "    search_params = dict(\n",
    "        client_id=secrets['client_id'],\n",
    "        client_secret=secrets['client_secret'],\n",
    "        ll = '{}, {}'.format(lat, long),\n",
    "        intent='browse',\n",
    "        radius='200', #Meters\n",
    "        limit='50',\n",
    "        categoryId='4bf58dd8d48988d1e0931735',#Coffee shop\n",
    "        llAcc='1',#Accuracy of lat & long in meters\n",
    "        v='20180113' #Date of current version\n",
    "        )\n",
    "    return search_params"
   ]
  },
  {
   "cell_type": "code",
   "execution_count": 17,
   "metadata": {
    "collapsed": true
   },
   "outputs": [],
   "source": [
    "def get_venue_data(longitude_group, latitude_group):\n",
    "    '''\n",
    "    Takes in lists of longitudes and latitudes and performs a grid search of them, returning a max of 50 coffee\n",
    "    shops per each intersection formatted as a list of json objects.\n",
    "    '''\n",
    "    search_url = 'https://api.foursquare.com/v2/venues/search'\n",
    "    search_list = []\n",
    "    for i, long in enumerate(longitude_group):\n",
    "        for lat in latitude_group:\n",
    "            search_params = populate_search_params(lat, long)\n",
    "            try:\n",
    "                search_resp = requests.get(url=search_url, params=search_params)\n",
    "                search_data = json.loads(search_resp.text)\n",
    "                if search_data['meta']['code'] == 403:\n",
    "                    print('403 error - Exceeded rate limit')\n",
    "                    print(search_data)\n",
    "                    return search_list\n",
    "                search_list.append(search_data)\n",
    "            except:\n",
    "                search_list.append((lat, long))\n",
    "        print('Step {} of {}'.format(i+1, len(longitude_group)))\n",
    "    return search_list"
   ]
  },
  {
   "cell_type": "code",
   "execution_count": 18,
   "metadata": {
    "collapsed": true
   },
   "outputs": [],
   "source": [
    "def write_venue_info_to_file(search_data, filename):\n",
    "    '''\n",
    "    Takes in a list of loaded json objects and writes them to a text file.\n",
    "    '''\n",
    "    venues = []\n",
    "    for item in search_data:\n",
    "        # Checks for empty response\n",
    "        try:\n",
    "            if item['response']['venues'] != []:\n",
    "                for venue in item['response']['venues']:\n",
    "                    venues.append(venue)\n",
    "        except:\n",
    "            continue\n",
    "    with open(filename, 'a') as f:\n",
    "        for item in venues:\n",
    "            f.write(\"{}\\n\".format(item))\n",
    "    print('Done!')"
   ]
  },
  {
   "cell_type": "markdown",
   "metadata": {},
   "source": [
    "### Generate longitude & latitude grids and divide search into smaller groups to avoid breakage during API GET requests"
   ]
  },
  {
   "cell_type": "markdown",
   "metadata": {},
   "source": [
    "#### This needs to be broken into three groups to avoid Foursquare's 5000 requests limit"
   ]
  },
  {
   "cell_type": "code",
   "execution_count": 19,
   "metadata": {
    "collapsed": true
   },
   "outputs": [],
   "source": [
    "number_of_gridlines = 100\n",
    "longitude_grid = np.linspace(westlimit, eastlimit, number_of_gridlines)\n",
    "latitude_group = np.linspace(northlimit, southlimit, number_of_gridlines)"
   ]
  },
  {
   "cell_type": "code",
   "execution_count": 20,
   "metadata": {
    "collapsed": true
   },
   "outputs": [],
   "source": [
    "longitude_group1 = longitude_grid[:33]\n",
    "longitude_group2 = longitude_grid[33:66]\n",
    "longitude_group3 = longitude_grid[66:]"
   ]
  },
  {
   "cell_type": "markdown",
   "metadata": {},
   "source": [
    "### Test single GET from venues/search api"
   ]
  },
  {
   "cell_type": "code",
   "execution_count": 21,
   "metadata": {
    "collapsed": true
   },
   "outputs": [],
   "source": [
    "test_lat = latitude_group[49]"
   ]
  },
  {
   "cell_type": "code",
   "execution_count": 22,
   "metadata": {
    "collapsed": true
   },
   "outputs": [],
   "source": [
    "test_long = longitude_group2[15]"
   ]
  },
  {
   "cell_type": "markdown",
   "metadata": {},
   "source": [
    "<img src=\"images/test_venues_GET_map.jpeg\">"
   ]
  },
  {
   "cell_type": "code",
   "execution_count": 61,
   "metadata": {},
   "outputs": [
    {
     "name": "stdout",
     "output_type": "stream",
     "text": [
      "Step 1 of 1\n"
     ]
    },
    {
     "data": {
      "text/plain": [
       "[{'meta': {'code': 200, 'requestId': '5a6127009fb6b76466b01fb9'},\n",
       "  'response': {'venues': [{'allowMenuUrlEdit': True,\n",
       "     'beenHere': {'lastCheckinExpiredAt': 0},\n",
       "     'categories': [{'icon': {'prefix': 'https://ss3.4sqi.net/img/categories_v2/food/breakfast_',\n",
       "        'suffix': '.png'},\n",
       "       'id': '4bf58dd8d48988d143941735',\n",
       "       'name': 'Breakfast Spot',\n",
       "       'pluralName': 'Breakfast Spots',\n",
       "       'primary': True,\n",
       "       'shortName': 'Breakfast'}],\n",
       "     'contact': {'formattedPhone': '(206) 728-2219',\n",
       "      'phone': '2067282219',\n",
       "      'twitter': 'biscuitbitch'},\n",
       "     'hasPerk': False,\n",
       "     'id': '5510b894498e3dbab70b5d8d',\n",
       "     'location': {'address': '2303 3rd Ave',\n",
       "      'cc': 'US',\n",
       "      'city': 'Seattle',\n",
       "      'country': 'United States',\n",
       "      'crossStreet': '3rd Ave & Bell St',\n",
       "      'distance': 80,\n",
       "      'formattedAddress': ['2303 3rd Ave (3rd Ave & Bell St)',\n",
       "       'Seattle, WA 98121',\n",
       "       'United States'],\n",
       "      'labeledLatLngs': [{'label': 'display',\n",
       "        'lat': 47.614891697736034,\n",
       "        'lng': -122.3451303835674}],\n",
       "      'lat': 47.614891697736034,\n",
       "      'lng': -122.3451303835674,\n",
       "      'postalCode': '98121',\n",
       "      'state': 'WA'},\n",
       "     'menu': {'anchor': 'View Menu',\n",
       "      'externalUrl': 'http://biscuitbitch.com/images/menu.pdf',\n",
       "      'label': 'Menu',\n",
       "      'mobileUrl': 'http://biscuitbitch.com/images/menu.pdf',\n",
       "      'type': 'Menu',\n",
       "      'url': 'http://biscuitbitch.com/images/menu.pdf'},\n",
       "     'name': 'Biscuit Bitch - Belltown',\n",
       "     'referralId': 'v-1516316416',\n",
       "     'specials': {'count': 0, 'items': []},\n",
       "     'stats': {'checkinsCount': 2253, 'tipCount': 35, 'usersCount': 1331},\n",
       "     'url': 'http://biscuitbitch.com',\n",
       "     'venueChains': [],\n",
       "     'verified': False},\n",
       "    {'allowMenuUrlEdit': True,\n",
       "     'beenHere': {'lastCheckinExpiredAt': 0},\n",
       "     'categories': [{'icon': {'prefix': 'https://ss3.4sqi.net/img/categories_v2/food/coffeeshop_',\n",
       "        'suffix': '.png'},\n",
       "       'id': '4bf58dd8d48988d1e0931735',\n",
       "       'name': 'Coffee Shop',\n",
       "       'pluralName': 'Coffee Shops',\n",
       "       'primary': True,\n",
       "       'shortName': 'Coffee Shop'}],\n",
       "     'contact': {'facebook': '117036506160',\n",
       "      'facebookName': 'Bedlam Coffee',\n",
       "      'facebookUsername': 'BedlamCoffee',\n",
       "      'formattedPhone': '(206) 910-2300',\n",
       "      'phone': '2069102300',\n",
       "      'twitter': 'bedlamcoffee'},\n",
       "     'hasMenu': True,\n",
       "     'hasPerk': False,\n",
       "     'id': '4a26f5c5f964a520f47e1fe3',\n",
       "     'location': {'address': '2231 2nd Ave',\n",
       "      'cc': 'US',\n",
       "      'city': 'Seattle',\n",
       "      'country': 'United States',\n",
       "      'crossStreet': 'Bell St',\n",
       "      'distance': 35,\n",
       "      'formattedAddress': ['2231 2nd Ave (Bell St)',\n",
       "       'Seattle, WA 98121',\n",
       "       'United States'],\n",
       "      'labeledLatLngs': [{'label': 'display',\n",
       "        'lat': 47.613948460584,\n",
       "        'lng': -122.34548328955584}],\n",
       "      'lat': 47.613948460584,\n",
       "      'lng': -122.34548328955584,\n",
       "      'postalCode': '98121',\n",
       "      'state': 'WA'},\n",
       "     'menu': {'anchor': 'View Menu',\n",
       "      'label': 'Menu',\n",
       "      'mobileUrl': 'https://foursquare.com/v/4a26f5c5f964a520f47e1fe3/device_menu',\n",
       "      'type': 'Menu',\n",
       "      'url': 'https://foursquare.com/v/bedlam-coffee/4a26f5c5f964a520f47e1fe3/menu'},\n",
       "     'name': 'Bedlam Coffee',\n",
       "     'referralId': 'v-1516316416',\n",
       "     'specials': {'count': 0, 'items': []},\n",
       "     'stats': {'checkinsCount': 8582, 'tipCount': 85, 'usersCount': 2504},\n",
       "     'storeId': '',\n",
       "     'url': 'http://bedlamcoffee.com',\n",
       "     'venueChains': [],\n",
       "     'venuePage': {'id': '89452925'},\n",
       "     'verified': True},\n",
       "    {'allowMenuUrlEdit': True,\n",
       "     'beenHere': {'lastCheckinExpiredAt': 0},\n",
       "     'categories': [{'icon': {'prefix': 'https://ss3.4sqi.net/img/categories_v2/food/coffeeshop_',\n",
       "        'suffix': '.png'},\n",
       "       'id': '4bf58dd8d48988d1e0931735',\n",
       "       'name': 'Coffee Shop',\n",
       "       'pluralName': 'Coffee Shops',\n",
       "       'primary': True,\n",
       "       'shortName': 'Coffee Shop'}],\n",
       "     'contact': {'facebook': '22092443056',\n",
       "      'facebookName': 'Starbucks',\n",
       "      'facebookUsername': 'Starbucks',\n",
       "      'formattedPhone': '(206) 956-4322',\n",
       "      'phone': '2069564322',\n",
       "      'twitter': 'starbucks'},\n",
       "     'hasPerk': False,\n",
       "     'id': '52853dfd11d27f47f7b6162b',\n",
       "     'location': {'address': '2326 1st Avenue',\n",
       "      'cc': 'US',\n",
       "      'city': 'Seattle',\n",
       "      'country': 'United States',\n",
       "      'distance': 128,\n",
       "      'formattedAddress': ['2326 1st Avenue',\n",
       "       'Seattle, WA 98121',\n",
       "       'United States'],\n",
       "      'labeledLatLngs': [{'label': 'display',\n",
       "        'lat': 47.614048,\n",
       "        'lng': -122.34731}],\n",
       "      'lat': 47.614048,\n",
       "      'lng': -122.34731,\n",
       "      'postalCode': '98121',\n",
       "      'state': 'WA'},\n",
       "     'name': 'Starbucks',\n",
       "     'referralId': 'v-1516316416',\n",
       "     'specials': {'count': 0, 'items': []},\n",
       "     'stats': {'checkinsCount': 2596, 'tipCount': 2, 'usersCount': 700},\n",
       "     'storeId': '3218',\n",
       "     'url': 'http://www.starbucks.com/',\n",
       "     'venueChains': [{'id': '556f676fbd6a75a99038d8ec'}],\n",
       "     'verified': True},\n",
       "    {'allowMenuUrlEdit': True,\n",
       "     'beenHere': {'lastCheckinExpiredAt': 0},\n",
       "     'categories': [{'icon': {'prefix': 'https://ss3.4sqi.net/img/categories_v2/food/bakery_',\n",
       "        'suffix': '.png'},\n",
       "       'id': '4bf58dd8d48988d16a941735',\n",
       "       'name': 'Bakery',\n",
       "       'pluralName': 'Bakeries',\n",
       "       'primary': True,\n",
       "       'shortName': 'Bakery'}],\n",
       "     'contact': {'formattedPhone': '(206) 441-4240',\n",
       "      'phone': '2064414240',\n",
       "      'twitter': 'theyellowleaf'},\n",
       "     'hasMenu': True,\n",
       "     'hasPerk': False,\n",
       "     'id': '4a47da55f964a52030aa1fe3',\n",
       "     'location': {'address': '2209 4th Ave',\n",
       "      'cc': 'US',\n",
       "      'city': 'Seattle',\n",
       "      'country': 'United States',\n",
       "      'distance': 191,\n",
       "      'formattedAddress': ['2209 4th Ave',\n",
       "       'Seattle, WA 98121',\n",
       "       'United States'],\n",
       "      'labeledLatLngs': [{'label': 'display',\n",
       "        'lat': 47.61491480216013,\n",
       "        'lng': -122.34326929380106}],\n",
       "      'lat': 47.61491480216013,\n",
       "      'lng': -122.34326929380106,\n",
       "      'postalCode': '98121',\n",
       "      'state': 'WA'},\n",
       "     'menu': {'anchor': 'View Menu',\n",
       "      'externalUrl': 'http://www.theyellowleafcupcake.com/menu/',\n",
       "      'label': 'Menu',\n",
       "      'mobileUrl': 'http://www.theyellowleafcupcake.com/menu/',\n",
       "      'type': 'Menu',\n",
       "      'url': 'http://www.theyellowleafcupcake.com/menu/'},\n",
       "     'name': 'The Yellow Leaf Cupcake Co',\n",
       "     'referralId': 'v-1516316416',\n",
       "     'specials': {'count': 0, 'items': []},\n",
       "     'stats': {'checkinsCount': 2139, 'tipCount': 47, 'usersCount': 1299},\n",
       "     'url': 'http://www.theyellowleafcupcake.com/',\n",
       "     'venueChains': [],\n",
       "     'venuePage': {'id': '151454504'},\n",
       "     'verified': True},\n",
       "    {'allowMenuUrlEdit': True,\n",
       "     'beenHere': {'lastCheckinExpiredAt': 0},\n",
       "     'categories': [{'icon': {'prefix': 'https://ss3.4sqi.net/img/categories_v2/food/italian_',\n",
       "        'suffix': '.png'},\n",
       "       'id': '4bf58dd8d48988d110941735',\n",
       "       'name': 'Italian Restaurant',\n",
       "       'pluralName': 'Italian Restaurants',\n",
       "       'primary': True,\n",
       "       'shortName': 'Italian'}],\n",
       "     'contact': {'formattedPhone': '(206) 441-5322', 'phone': '2064415322'},\n",
       "     'hasMenu': True,\n",
       "     'hasPerk': False,\n",
       "     'id': '427ff980f964a520d7211fe3',\n",
       "     'location': {'address': '2411 2nd Ave',\n",
       "      'cc': 'US',\n",
       "      'city': 'Seattle',\n",
       "      'country': 'United States',\n",
       "      'crossStreet': 'at Wall St and Battery St',\n",
       "      'distance': 159,\n",
       "      'formattedAddress': ['2411 2nd Ave (at Wall St and Battery St)',\n",
       "       'Seattle, WA 98121',\n",
       "       'United States'],\n",
       "      'labeledLatLngs': [{'label': 'display',\n",
       "        'lat': 47.61503812158681,\n",
       "        'lng': -122.34739868446559}],\n",
       "      'lat': 47.61503812158681,\n",
       "      'lng': -122.34739868446559,\n",
       "      'postalCode': '98121',\n",
       "      'state': 'WA'},\n",
       "     'menu': {'anchor': 'View Menu',\n",
       "      'label': 'Menu',\n",
       "      'mobileUrl': 'https://foursquare.com/v/427ff980f964a520d7211fe3/device_menu',\n",
       "      'type': 'Menu',\n",
       "      'url': 'https://foursquare.com/v/la-vita-e-bella/427ff980f964a520d7211fe3/menu'},\n",
       "     'name': 'La Vita e Bella',\n",
       "     'referralId': 'v-1516316416',\n",
       "     'specials': {'count': 0, 'items': []},\n",
       "     'stats': {'checkinsCount': 2212, 'tipCount': 29, 'usersCount': 1228},\n",
       "     'url': 'http://www.lavitaebella.us/',\n",
       "     'venueChains': [],\n",
       "     'verified': False},\n",
       "    {'allowMenuUrlEdit': True,\n",
       "     'beenHere': {'lastCheckinExpiredAt': 0},\n",
       "     'categories': [{'icon': {'prefix': 'https://ss3.4sqi.net/img/categories_v2/food/italian_',\n",
       "        'suffix': '.png'},\n",
       "       'id': '4bf58dd8d48988d110941735',\n",
       "       'name': 'Italian Restaurant',\n",
       "       'pluralName': 'Italian Restaurants',\n",
       "       'primary': True,\n",
       "       'shortName': 'Italian'}],\n",
       "     'contact': {},\n",
       "     'hasPerk': False,\n",
       "     'id': '4b40ee96f964a520b7bd25e3',\n",
       "     'location': {'address': '2417 2nd Ave',\n",
       "      'cc': 'US',\n",
       "      'city': 'Seattle',\n",
       "      'country': 'United States',\n",
       "      'distance': 168,\n",
       "      'formattedAddress': ['2417 2nd Ave', 'Seattle, WA', 'United States'],\n",
       "      'labeledLatLngs': [{'label': 'display',\n",
       "        'lat': 47.615099441621844,\n",
       "        'lng': -122.34748723963246}],\n",
       "      'lat': 47.615099441621844,\n",
       "      'lng': -122.34748723963246,\n",
       "      'state': 'WA'},\n",
       "     'name': 'La Vita e Bella Express',\n",
       "     'referralId': 'v-1516316416',\n",
       "     'specials': {'count': 0, 'items': []},\n",
       "     'stats': {'checkinsCount': 183, 'tipCount': 3, 'usersCount': 69},\n",
       "     'venueChains': [],\n",
       "     'verified': False}]}}]"
      ]
     },
     "execution_count": 61,
     "metadata": {},
     "output_type": "execute_result"
    }
   ],
   "source": [
    "get_venue_data([test_long], [test_lat])"
   ]
  },
  {
   "cell_type": "markdown",
   "metadata": {},
   "source": [
    "### Search for all venues that match my search params & write them to txt file"
   ]
  },
  {
   "cell_type": "markdown",
   "metadata": {},
   "source": [
    "#### Instantiate an empty venue search list which the following for loops and GET requests will populate"
   ]
  },
  {
   "cell_type": "code",
   "execution_count": null,
   "metadata": {
    "collapsed": true
   },
   "outputs": [],
   "source": [
    "venue_search_list = []\n",
    "search_url = 'https://api.foursquare.com/v2/venues/search'"
   ]
  },
  {
   "cell_type": "markdown",
   "metadata": {},
   "source": [
    "##### Longitude_group 1"
   ]
  },
  {
   "cell_type": "code",
   "execution_count": 15,
   "metadata": {
    "collapsed": true
   },
   "outputs": [
    {
     "name": "stdout",
     "output_type": "stream",
     "text": [
      "Step 1 of 33\n",
      "Step 2 of 33\n",
      "Step 3 of 33\n",
      "Step 4 of 33\n",
      "Step 5 of 33\n",
      "Step 6 of 33\n",
      "Step 7 of 33\n",
      "Step 8 of 33\n",
      "Step 9 of 33\n",
      "Step 10 of 33\n",
      "Step 11 of 33\n",
      "Step 12 of 33\n",
      "Step 13 of 33\n",
      "Step 14 of 33\n",
      "Step 15 of 33\n",
      "Step 16 of 33\n",
      "Step 17 of 33\n",
      "Step 18 of 33\n",
      "Step 19 of 33\n",
      "Step 20 of 33\n",
      "Step 21 of 33\n",
      "Step 22 of 33\n",
      "Step 23 of 33\n",
      "Step 24 of 33\n",
      "Step 25 of 33\n",
      "Step 26 of 33\n",
      "Step 27 of 33\n",
      "Step 28 of 33\n",
      "Step 29 of 33\n",
      "Step 30 of 33\n",
      "Step 31 of 33\n",
      "Step 32 of 33\n",
      "Step 33 of 33\n"
     ]
    }
   ],
   "source": [
    "search_list = get_venue_data(longitude_group1, latitude_group)"
   ]
  },
  {
   "cell_type": "code",
   "execution_count": 32,
   "metadata": {},
   "outputs": [
    {
     "name": "stdout",
     "output_type": "stream",
     "text": [
      "Done!\n"
     ]
    }
   ],
   "source": [
    "write_venue_info_to_file(search_list, 'seattle_venues.txt')"
   ]
  },
  {
   "cell_type": "markdown",
   "metadata": {},
   "source": [
    "##### Longitude_group 2"
   ]
  },
  {
   "cell_type": "code",
   "execution_count": 33,
   "metadata": {
    "collapsed": true
   },
   "outputs": [
    {
     "name": "stdout",
     "output_type": "stream",
     "text": [
      "Step 1 of 33\n",
      "Step 2 of 33\n",
      "Step 3 of 33\n",
      "Step 4 of 33\n",
      "Step 5 of 33\n",
      "Step 6 of 33\n",
      "Step 7 of 33\n",
      "Step 8 of 33\n",
      "Step 9 of 33\n",
      "Step 10 of 33\n",
      "Step 11 of 33\n",
      "Step 12 of 33\n",
      "Step 13 of 33\n",
      "Step 14 of 33\n",
      "Step 15 of 33\n",
      "Step 16 of 33\n",
      "Step 17 of 33\n",
      "Step 18 of 33\n",
      "Step 19 of 33\n",
      "Step 20 of 33\n",
      "Step 21 of 33\n",
      "Step 22 of 33\n",
      "Step 23 of 33\n",
      "Step 24 of 33\n",
      "Step 25 of 33\n",
      "Step 26 of 33\n",
      "Step 27 of 33\n",
      "Step 28 of 33\n",
      "Step 29 of 33\n",
      "Step 30 of 33\n",
      "Step 31 of 33\n",
      "Step 32 of 33\n",
      "Step 33 of 33\n"
     ]
    }
   ],
   "source": [
    "search_list = get_venue_data(longitude_group2, latitude_group)"
   ]
  },
  {
   "cell_type": "code",
   "execution_count": 39,
   "metadata": {},
   "outputs": [
    {
     "name": "stdout",
     "output_type": "stream",
     "text": [
      "Done!\n"
     ]
    }
   ],
   "source": [
    "write_venue_info_to_file(search_list, 'seattle_venues.txt')"
   ]
  },
  {
   "cell_type": "markdown",
   "metadata": {},
   "source": [
    "##### Longitude_group 3"
   ]
  },
  {
   "cell_type": "code",
   "execution_count": 62,
   "metadata": {
    "collapsed": true
   },
   "outputs": [
    {
     "name": "stdout",
     "output_type": "stream",
     "text": [
      "Step 1 of 34\n",
      "Step 2 of 34\n",
      "Step 3 of 34\n",
      "Step 4 of 34\n",
      "Step 5 of 34\n",
      "Step 6 of 34\n",
      "Step 7 of 34\n",
      "Step 8 of 34\n",
      "Step 9 of 34\n",
      "Step 10 of 34\n",
      "Step 11 of 34\n",
      "Step 12 of 34\n",
      "Step 13 of 34\n",
      "Step 14 of 34\n",
      "Step 15 of 34\n",
      "Step 16 of 34\n",
      "Step 17 of 34\n",
      "Step 18 of 34\n",
      "Step 19 of 34\n",
      "Step 20 of 34\n",
      "Step 21 of 34\n",
      "Step 22 of 34\n",
      "Step 23 of 34\n",
      "Step 24 of 34\n",
      "Step 25 of 34\n",
      "Step 26 of 34\n",
      "Step 27 of 34\n",
      "Step 28 of 34\n",
      "Step 29 of 34\n",
      "Step 30 of 34\n",
      "Step 31 of 34\n",
      "Step 32 of 34\n",
      "Step 33 of 34\n",
      "Step 34 of 34\n"
     ]
    }
   ],
   "source": [
    "search_list = get_venue_data(longitude_group3, latitude_group)"
   ]
  },
  {
   "cell_type": "code",
   "execution_count": 67,
   "metadata": {},
   "outputs": [
    {
     "name": "stdout",
     "output_type": "stream",
     "text": [
      "Done!\n"
     ]
    }
   ],
   "source": [
    "write_venue_info_to_file(search_list, 'test2.txt')"
   ]
  },
  {
   "cell_type": "markdown",
   "metadata": {},
   "source": [
    "### Iterate through file and extract json info into database"
   ]
  },
  {
   "cell_type": "code",
   "execution_count": 226,
   "metadata": {
    "collapsed": true
   },
   "outputs": [],
   "source": [
    "with open('seattle_venues.txt') as f:\n",
    "    all_venues = []\n",
    "    for item in f:\n",
    "        all_venues.append(ast.literal_eval(item))"
   ]
  },
  {
   "cell_type": "code",
   "execution_count": 231,
   "metadata": {
    "collapsed": true
   },
   "outputs": [],
   "source": [
    "data = json_normalize(all_venues)"
   ]
  },
  {
   "cell_type": "markdown",
   "metadata": {},
   "source": [
    "### Clean database"
   ]
  },
  {
   "cell_type": "code",
   "execution_count": 262,
   "metadata": {
    "collapsed": true
   },
   "outputs": [],
   "source": [
    "columns_to_drop = ['allowMenuUrlEdit', 'beenHere.lastCheckinExpiredAt', 'categories',\n",
    "       'contact.facebook', 'contact.facebookName', 'contact.facebookUsername',\n",
    "       'contact.formattedPhone', 'contact.instagram', 'contact.phone',\n",
    "       'contact.twitter', 'delivery.id', 'delivery.provider.name',\n",
    "       'delivery.url', 'hasMenu', 'hasPerk', 'location.crossStreet', 'location.distance',\n",
    "       'location.formattedAddress', 'location.labeledLatLngs', \n",
    "       'location.neighborhood', 'menu.anchor', 'menu.externalUrl', 'menu.label',\n",
    "       'menu.mobileUrl', 'menu.type', 'menu.url', 'referralId', 'specials.count',\n",
    "       'specials.items', 'stats.checkinsCount', 'venueChains', 'venuePage.id',\n",
    "       'venueRatingBlacklisted', 'verified', 'location.cc', 'location.country', 'storeId', 'url']"
   ]
  },
  {
   "cell_type": "code",
   "execution_count": 314,
   "metadata": {
    "collapsed": true
   },
   "outputs": [],
   "source": [
    "data_with_dropped_columns = data.drop(labels=columns_to_drop, axis=1)"
   ]
  },
  {
   "cell_type": "code",
   "execution_count": 315,
   "metadata": {
    "collapsed": true
   },
   "outputs": [],
   "source": [
    "data_filtered = data_with_dropped_columns.drop_duplicates(subset='id').reset_index().drop('index', axis=1)"
   ]
  },
  {
   "cell_type": "code",
   "execution_count": 318,
   "metadata": {},
   "outputs": [
    {
     "name": "stdout",
     "output_type": "stream",
     "text": [
      "<class 'pandas.core.frame.DataFrame'>\n",
      "RangeIndex: 870 entries, 0 to 869\n",
      "Data columns (total 10 columns):\n",
      "id                     870 non-null object\n",
      "location.address       746 non-null object\n",
      "location.city          861 non-null object\n",
      "location.lat           870 non-null float64\n",
      "location.lng           870 non-null float64\n",
      "location.postalCode    795 non-null object\n",
      "location.state         870 non-null object\n",
      "name                   870 non-null object\n",
      "stats.tipCount         870 non-null int64\n",
      "stats.usersCount       870 non-null int64\n",
      "dtypes: float64(2), int64(2), object(6)\n",
      "memory usage: 68.0+ KB\n"
     ]
    }
   ],
   "source": [
    "data_filtered.info()"
   ]
  },
  {
   "cell_type": "code",
   "execution_count": null,
   "metadata": {
    "collapsed": true
   },
   "outputs": [],
   "source": []
  },
  {
   "cell_type": "markdown",
   "metadata": {},
   "source": [
    "### Define tips functions"
   ]
  },
  {
   "cell_type": "code",
   "execution_count": 327,
   "metadata": {
    "collapsed": true
   },
   "outputs": [],
   "source": [
    "tips_params = dict(\n",
    "    client_id=secrets['client_id'],\n",
    "    client_secret=secrets['client_secret'],\n",
    "    limit=500,\n",
    "    v='20180113')"
   ]
  },
  {
   "cell_type": "code",
   "execution_count": 333,
   "metadata": {
    "collapsed": true
   },
   "outputs": [],
   "source": [
    "def get_tips_data(venue_id):\n",
    "    '''\n",
    "    Takes in a venue id and performs a GET request to Foursquare's API to retrieve a max of 500 tips formatted\n",
    "    as a json object. Returns a list of strings of tips.\n",
    "    '''\n",
    "    tips_list = []\n",
    "        tips_url = 'https://api.foursquare.com/v2/venues/{}/tips'.format(venue_id)\n",
    "        try:\n",
    "            tips_resp = requests.get(url=tips_url, params=tips_params)\n",
    "            tips_data = json.loads(tips_resp.text)\n",
    "            if tips_data['meta']['code'] == 403:\n",
    "                print('403 error - Exceeded rate limit')\n",
    "                print(tips_data)\n",
    "                return tips_list\n",
    "            for tip in tips_data['response']['tips']['items']:\n",
    "                tips_list.append(tip['text'])\n",
    "        except:\n",
    "            tips_list.append(venue_id)\n",
    "    return tips_list"
   ]
  },
  {
   "cell_type": "markdown",
   "metadata": {},
   "source": [
    "### Test single GET from tips api\n"
   ]
  },
  {
   "cell_type": "code",
   "execution_count": 322,
   "metadata": {
    "collapsed": true
   },
   "outputs": [],
   "source": [
    "test_id = data_filtered.iloc[0]['id']"
   ]
  },
  {
   "cell_type": "code",
   "execution_count": 338,
   "metadata": {},
   "outputs": [
    {
     "data": {
      "text/plain": [
       "['Absolutely incredible view, in my opinion the best in all of Seattle! Just take some time to get your coffee and relax. You can sit outside or near one of the sliding windows!',\n",
       " 'Great views of the beach! Lots of places to plug in laptops. Lots of seating, even sit by the fireplace.',\n",
       " \"Sunday's on alki in the summer are very busy, this place is no exception. Sorely understaffed on a Sunday night. Long wait just to order. 😕\",\n",
       " 'Nicest people work this Starbucks. Best view in town & Relaxing atmosphere.',\n",
       " \"As a Londoner, this is definitely the best view I've ever seen from a Starbucks window!\",\n",
       " 'A fantastic location with a great atmosphere on a Saturday night.',\n",
       " 'Really friendly customer service! Loved it!',\n",
       " 'Nice spot to watch the water while reading a book or working on your laptop.',\n",
       " 'This location is great! Only thing better would be a Starbucks on the top of the Space Needle.  Like Dr. Evil.',\n",
       " \"Try the iced passionfruit lemonade. You won't be disappointed.\",\n",
       " 'The big overstuffed chairs are the best.',\n",
       " 'Coffee, beach views? Yes please!',\n",
       " 'Fantastic chicken and avocado sandwich!',\n",
       " \"Get your drink 'for here', sit and enjoy the view.\",\n",
       " 'Nitro cold brew is damn fine',\n",
       " 'Life goes much slower here at the beach.',\n",
       " 'Doggy paradise',\n",
       " 'Coffee with a view',\n",
       " 'Caramel Brulée Latte!']"
      ]
     },
     "execution_count": 338,
     "metadata": {},
     "output_type": "execute_result"
    }
   ],
   "source": [
    "get_tips_data(test_id)"
   ]
  },
  {
   "cell_type": "markdown",
   "metadata": {},
   "source": [
    "### Get tips into database"
   ]
  },
  {
   "cell_type": "code",
   "execution_count": 346,
   "metadata": {
    "collapsed": true
   },
   "outputs": [],
   "source": [
    "data_filtered['tips'] = data_filtered.apply(lambda row: get_tips_data(row['id']), axis=1)"
   ]
  },
  {
   "cell_type": "code",
   "execution_count": 351,
   "metadata": {
    "collapsed": true
   },
   "outputs": [],
   "source": [
    "data_filtered.to_csv('seattle_coffeeshops_foursquare.csv')"
   ]
  },
  {
   "cell_type": "code",
   "execution_count": 18,
   "metadata": {
    "collapsed": true
   },
   "outputs": [],
   "source": [
    "data_filtered = pd.read_csv('data/seattle_coffeeshops_foursquare.csv').drop('Unnamed: 0', axis=1)"
   ]
  },
  {
   "cell_type": "markdown",
   "metadata": {},
   "source": [
    "### Define functions for Google's API"
   ]
  },
  {
   "cell_type": "code",
   "execution_count": 26,
   "metadata": {
    "collapsed": true
   },
   "outputs": [],
   "source": [
    "with open('/Users/ReddingSkinnyRobot/.secrets/google_api.yaml') as f:\n",
    "    google_secrets = yaml.load(f)"
   ]
  },
  {
   "cell_type": "code",
   "execution_count": 130,
   "metadata": {
    "collapsed": true
   },
   "outputs": [],
   "source": [
    "def populate_google_search_url(lat, lng, place_name, api_key):\n",
    "    '''\n",
    "    Takes in latitude, longitude, place name (sting), and Google api key, and outputs the applicable api url.\n",
    "    '''\n",
    "    google_search_url = 'https://maps.googleapis.com/maps/api/place/nearbysearch/json?location={},{}&radius=5&language=english&keyword={}&key={}'.format(lat, lng, place_name, api_key)\n",
    "    return google_search_url"
   ]
  },
  {
   "cell_type": "code",
   "execution_count": 131,
   "metadata": {
    "collapsed": true
   },
   "outputs": [],
   "source": [
    "def get_google_api_id(lat, lng, name, api_key):\n",
    "    '''\n",
    "    Takes in latitude, longitude, name, and Google API key and outputs Google's place id for location.\n",
    "    '''\n",
    "    search_url = populate_google_search_url(lat, lng, name, api_key)\n",
    "    search_resp = requests.get(url=search_url)\n",
    "    search_data = json.loads(search_resp.text)\n",
    "    try:\n",
    "        return search_data['results'][0]['place_id']\n",
    "    except:\n",
    "        return None"
   ]
  },
  {
   "cell_type": "code",
   "execution_count": 132,
   "metadata": {
    "collapsed": true
   },
   "outputs": [],
   "source": [
    "def populate_google_details_url(google_id, api_key):\n",
    "    '''\n",
    "    Takes in place id and Google api key, and outputs the applicable api url.\n",
    "    '''\n",
    "    google_details_url = 'https://maps.googleapis.com/maps/api/place/details/json?placeid={}&language=english&key={}'.format(google_id, api_key)\n",
    "    return google_details_url"
   ]
  },
  {
   "cell_type": "code",
   "execution_count": 133,
   "metadata": {
    "collapsed": true
   },
   "outputs": [],
   "source": [
    "def get_google_id_reviews(google_id, api_key):\n",
    "    '''\n",
    "    Takes in place id and Google API key and outputs text reviews for locations.\n",
    "    '''\n",
    "    details_url = populate_google_details_url(google_id, api_key)\n",
    "    details_resp = requests.get(url=details_url)\n",
    "    details_data = json.loads(details_resp.text)\n",
    "    reviews_list = []\n",
    "    try:\n",
    "        for review in details_data['result']['reviews']:\n",
    "            reviews_list.append(review['text'])\n",
    "        return reviews_list\n",
    "    except:\n",
    "        return reviews_list"
   ]
  },
  {
   "cell_type": "markdown",
   "metadata": {},
   "source": [
    "### Test one pull from Google's search API"
   ]
  },
  {
   "cell_type": "code",
   "execution_count": 145,
   "metadata": {},
   "outputs": [
    {
     "data": {
      "text/plain": [
       "\"Tully's\""
      ]
     },
     "execution_count": 145,
     "metadata": {},
     "output_type": "execute_result"
    }
   ],
   "source": [
    "data_filtered.iloc[2]['name'].split()[0]"
   ]
  },
  {
   "cell_type": "code",
   "execution_count": 143,
   "metadata": {
    "collapsed": true
   },
   "outputs": [],
   "source": [
    "test_id = get_google_api_id(data_filtered.iloc[2]['location.lat'], data_filtered.iloc[2]['location.lng'], data_filtered.iloc[2]['name'].split()[0], google_secrets['key'])"
   ]
  },
  {
   "cell_type": "code",
   "execution_count": 144,
   "metadata": {},
   "outputs": [
    {
     "data": {
      "text/plain": [
       "'ChIJJWcEGoZAkFQRjPWwxLTuX-g'"
      ]
     },
     "execution_count": 144,
     "metadata": {},
     "output_type": "execute_result"
    }
   ],
   "source": [
    "test_id"
   ]
  },
  {
   "cell_type": "markdown",
   "metadata": {},
   "source": [
    "### Test one pull from Google's details API"
   ]
  },
  {
   "cell_type": "code",
   "execution_count": 161,
   "metadata": {
    "collapsed": true
   },
   "outputs": [],
   "source": [
    "test_details = get_google_id_reviews(test_id, google_secrets['key'])"
   ]
  },
  {
   "cell_type": "code",
   "execution_count": 166,
   "metadata": {},
   "outputs": [
    {
     "data": {
      "text/plain": [
       "[\"First of all props for opening on Christmas. Only coffee to be open! The place is cozy and has a nice fireplace for this winter weather. We ordered the white mocha and the black mocha and both were rich and delicious. \\n\\nThe egg nog latte wasn't as outstanding. \\nIt's a good place if you are tired of the same old coffee places in Seattle. \\nIt's a good spot to stop for a drink and walk around the beach.\",\n",
       " \"Sort of run down. Good coffee though. TV does not work, Jacks on the wall broken. Lots of little he's in the walls. Some dirty tables.  I think there is a reason why the other coffee shop is always packed.\",\n",
       " \"You're employees are unprofessional, playing with cleaning tools taking selfies, ignoring customers. Inappropriately touching eachother. They didn't even put shots of coffee in one drink I ordered, and didn't put cream in the other. When asked to fix they argued that there was nothing wrong. The female is eating food behind the counter. One employee is not even in uniform or weari BFF a name tag. Touching everything like it's toys where is the manager?! Do you not expect food safety standards? Coffee was also cold after being ordered extra hot. Employee put hand in trash pulled out trash to fiddle with then touched products. Disgusting.\",\n",
       " \"How best to assess a fair rating for this Tully's location?\\n\\nThe coffees and teas are excellent, the food items tasty. The room is comfortable, with many chairs and tables, a fireplace to help warm up after enduring the often-chilly air outside. But. Trash litters the tables, the chairs, the floor. Customers are left to 'bus' their select seats and table. Worse, the bathrooms are routinely out of paper goods: no toilet paper, no toilet seat covers, no paper (hand) towels.\\n\\nSo, an averaged three stars: 5 stars for the coffees and teas, etc, 1 star for the cleanliness.\",\n",
       " \"Coffee is fantastic... but my goodness there's a lady in there GENA that needs to learn how to treat her coworkers more importantly her customers. No complaints on coffee though,that is great.\"]"
      ]
     },
     "execution_count": 166,
     "metadata": {},
     "output_type": "execute_result"
    }
   ],
   "source": [
    "test_details"
   ]
  },
  {
   "cell_type": "markdown",
   "metadata": {},
   "source": [
    "### Pull from Google's search API to get google_ids"
   ]
  },
  {
   "cell_type": "code",
   "execution_count": 170,
   "metadata": {
    "collapsed": true
   },
   "outputs": [],
   "source": [
    "data_filtered['google_ids'] = data_filtered.apply(lambda row: get_google_api_id(row['location.lat'],\n",
    "                                                                                row['location.lng'],\n",
    "                                                                                row['name'],\n",
    "                                                                                google_secrets['key']),\n",
    "                                                                                axis=1)"
   ]
  },
  {
   "cell_type": "markdown",
   "metadata": {},
   "source": [
    "### Pull from Google's search API to get reviews"
   ]
  },
  {
   "cell_type": "code",
   "execution_count": 173,
   "metadata": {
    "collapsed": true
   },
   "outputs": [],
   "source": [
    "data_filtered['google_reviews'] = data_filtered.apply(lambda row: get_google_id_reviews(row['google_ids'],\n",
    "                                                                                google_secrets['key']),\n",
    "                                                                                axis=1)"
   ]
  },
  {
   "cell_type": "markdown",
   "metadata": {},
   "source": [
    "### Define functions for Yelp's API"
   ]
  },
  {
   "cell_type": "code",
   "execution_count": 241,
   "metadata": {
    "collapsed": true
   },
   "outputs": [],
   "source": [
    "with open('/Users/ReddingSkinnyRobot/.secrets/yelp_api.yaml') as f:\n",
    "    yelp_secrets = yaml.load(f)"
   ]
  },
  {
   "cell_type": "code",
   "execution_count": 242,
   "metadata": {
    "collapsed": true
   },
   "outputs": [],
   "source": [
    "def yelp_search_params(lat, lng, name):\n",
    "    search_params = dict(\n",
    "        term=name,\n",
    "        latitude=lat,\n",
    "        longitude=lng,\n",
    "        radius=20,\n",
    "        limit=1,\n",
    "        )\n",
    "    return search_params"
   ]
  },
  {
   "cell_type": "code",
   "execution_count": 243,
   "metadata": {
    "collapsed": true
   },
   "outputs": [],
   "source": [
    "def get_yelp_api_id(lat, lng, name, key):\n",
    "    '''\n",
    "    Takes in latitude, longitude, name, and Yelp's API key and outputs Yelp's id for location.\n",
    "    '''\n",
    "    yelp_search_url = 'https://api.yelp.com/v3/businesses/search'\n",
    "    search_params = yelp_search_params(lat, lng, name)\n",
    "    search_resp = requests.get(url=yelp_search_url, params=search_params, \n",
    "                               headers={'Authorization':'Bearer {}'.format(key)})\n",
    "    search_data = json.loads(search_resp.text)\n",
    "    try:\n",
    "        return search_data['businesses'][0]['id']\n",
    "    except:\n",
    "        return None"
   ]
  },
  {
   "cell_type": "code",
   "execution_count": 244,
   "metadata": {
    "collapsed": true
   },
   "outputs": [],
   "source": [
    "def populate_yelp_reviews_url(yelp_id):\n",
    "    '''\n",
    "    Takes in Yelp id and outputs the applicable api url.\n",
    "    '''\n",
    "    yelp_reviews_url = 'https://api.yelp.com/v3/businesses/{}/reviews'.format(yelp_id)\n",
    "    return yelp_reviews_url"
   ]
  },
  {
   "cell_type": "code",
   "execution_count": 245,
   "metadata": {
    "collapsed": true
   },
   "outputs": [],
   "source": [
    "def get_yelp_id_reviews(yelp_id, api_key):\n",
    "    '''\n",
    "    Takes in Yelp id and Yelp API key and outputs text reviews for locations.\n",
    "    '''\n",
    "    yelp_reviews_url = populate_yelp_reviews_url(yelp_id)\n",
    "    reviews_resp = requests.get(url=yelp_reviews_url, params={'locale':'en_US'},\n",
    "                               headers={'Authorization':'Bearer {}'.format(api_key)})\n",
    "    reviews_data = json.loads(reviews_resp.text)\n",
    "    #return reviews_data\n",
    "    reviews_list = []\n",
    "    try:\n",
    "        for review in reviews_data['reviews']:\n",
    "            reviews_list.append(review['text'])\n",
    "        return reviews_list\n",
    "    except:\n",
    "        return reviews_list"
   ]
  },
  {
   "cell_type": "markdown",
   "metadata": {},
   "source": [
    "### Test one GET request on Yelp's search API"
   ]
  },
  {
   "cell_type": "code",
   "execution_count": 206,
   "metadata": {
    "collapsed": true
   },
   "outputs": [],
   "source": [
    "yelp_test_id = get_yelp_api_id(data_filtered.iloc[2]['location.lat'], \n",
    "                data_filtered.iloc[2]['location.lng'], \n",
    "                data_filtered.iloc[2]['name'],\n",
    "                yelp_secrets['api_key'])"
   ]
  },
  {
   "cell_type": "code",
   "execution_count": 207,
   "metadata": {},
   "outputs": [
    {
     "data": {
      "text/plain": [
       "'tullys-coffee-seattle-9'"
      ]
     },
     "execution_count": 207,
     "metadata": {},
     "output_type": "execute_result"
    }
   ],
   "source": [
    "yelp_test_id"
   ]
  },
  {
   "cell_type": "markdown",
   "metadata": {},
   "source": [
    "### Test one GET request on Yelp's reviews API"
   ]
  },
  {
   "cell_type": "code",
   "execution_count": 220,
   "metadata": {
    "collapsed": true
   },
   "outputs": [],
   "source": [
    "test_reviews = get_yelp_id_reviews(yelp_test_id, yelp_secrets['api_key'])"
   ]
  },
  {
   "cell_type": "code",
   "execution_count": 221,
   "metadata": {},
   "outputs": [
    {
     "data": {
      "text/plain": [
       "[\"After walking around the beach looking for coffee I was so pleased to find Tully's Coffee. My drink was so well made and soooooooooooo well needed. The...\",\n",
       " '15 to 20 minute wait for a Blended Mocha?\\nAt this point it should be just complimentary',\n",
       " \"I'm writing this with sadness. I love Tully's. I use to come in nearly every day. But I feel like once the old manager left, everything went downhill....\"]"
      ]
     },
     "execution_count": 221,
     "metadata": {},
     "output_type": "execute_result"
    }
   ],
   "source": [
    "test_reviews"
   ]
  },
  {
   "cell_type": "markdown",
   "metadata": {},
   "source": [
    "### Pull from Yelp's search API to get ids"
   ]
  },
  {
   "cell_type": "code",
   "execution_count": 241,
   "metadata": {
    "collapsed": true,
    "scrolled": true
   },
   "outputs": [],
   "source": [
    "data_filtered['yelp_ids'] = data_filtered.apply(lambda row: get_yelp_api_id(row['location.lat'], \n",
    "                                                                            row['location.lng'], \n",
    "                                                                            row['name'], \n",
    "                                                                            yelp_secrets['api_key']), \n",
    "                                                axis=1)"
   ]
  },
  {
   "cell_type": "markdown",
   "metadata": {},
   "source": [
    "### Pull from Yelp's reviews API to get reviews"
   ]
  },
  {
   "cell_type": "code",
   "execution_count": 244,
   "metadata": {
    "collapsed": true
   },
   "outputs": [],
   "source": [
    "data_filtered['yelp_reviews'] = data_filtered.apply(lambda row: get_yelp_id_reviews(row['yelp_ids'], \n",
    "                                                                                    yelp_secrets['api_key']), \n",
    "                                                    axis=1)"
   ]
  },
  {
   "cell_type": "markdown",
   "metadata": {},
   "source": [
    "### Clean and combine text data"
   ]
  },
  {
   "cell_type": "code",
   "execution_count": 278,
   "metadata": {
    "collapsed": true
   },
   "outputs": [],
   "source": [
    "import string"
   ]
  },
  {
   "cell_type": "code",
   "execution_count": 314,
   "metadata": {
    "collapsed": true
   },
   "outputs": [],
   "source": [
    "translator = str.maketrans('', '', string.punctuation)"
   ]
  },
  {
   "cell_type": "code",
   "execution_count": 378,
   "metadata": {
    "collapsed": true
   },
   "outputs": [],
   "source": [
    "data_filtered['tips_clean'] = data_filtered.apply(lambda row: row['tips'].translate(translator).lower().replace('\\n',' '), axis=1)"
   ]
  },
  {
   "cell_type": "code",
   "execution_count": 379,
   "metadata": {
    "collapsed": true
   },
   "outputs": [],
   "source": [
    "data_filtered['google_reviews_clean'] = data_filtered.apply(lambda row: ' '.join(row['google_reviews']).translate(translator).lower().replace('\\n',' '), axis=1)"
   ]
  },
  {
   "cell_type": "code",
   "execution_count": 380,
   "metadata": {
    "collapsed": true
   },
   "outputs": [],
   "source": [
    "data_filtered['yelp_reviews_clean'] = data_filtered.apply(lambda row: ' '.join(row['yelp_reviews']).translate(translator).lower().replace('\\n',' '), axis=1)"
   ]
  },
  {
   "cell_type": "code",
   "execution_count": 381,
   "metadata": {
    "collapsed": true
   },
   "outputs": [],
   "source": [
    "data_filtered['combined_reviews'] = data_filtered.apply(lambda row: ' '.join([row['tips_clean'], \n",
    "                                                                              row['google_reviews_clean'],\n",
    "                                                                              row['yelp_reviews_clean']]),\n",
    "                                                       axis=1)"
   ]
  },
  {
   "cell_type": "code",
   "execution_count": 382,
   "metadata": {
    "collapsed": true
   },
   "outputs": [],
   "source": [
    "data_filtered.to_csv('seattle_coffeeshops_combine_reviews.csv')"
   ]
  },
  {
   "cell_type": "code",
   "execution_count": 383,
   "metadata": {},
   "outputs": [
    {
     "data": {
      "text/plain": [
       "'ladies restroom locks funny make sure the button is pushed in all the way good selection of beers too coffee ftw nice working setup write a novel it worked for me drink coffee all day then get a beer a pcc across the street caffe vita is an excellent coffee shop the croissants and old fashioned donuts are excellent and the coffee is tasty the hot chocolate is very flavorful and its overall a great chain great latte sweet vibes quiet place to work knowledgeable and friendly staff it is part of my job to help businesses with certain building repair many places have proven to be quite rude to my industry this place was very friendly treated me like a human and the atmosphere was very cozy i get to see the kitchens in these places this cafe has an enormous kitchen witch also proved to be very clean i was quite impressed great relaxing vibe with lovely baristas this is a great place to get work done it feels big and open unlike the typical claustrophobic seattle coffee shops for noncoffeedrinkers vita has a selection of delicious local kombucha  the caffe vita in seward park worked with us for our green seattle day and were incredibly accommodating in our requests and provided delicious coffee for came once over the weekend to work  you have to get there early to get a table if youre planning on parking there and working for awhile  i actually poor service  the barista was too busy chatting with the local guy to take my order for five minutes and there was no one else in line  ordered a pour'"
      ]
     },
     "execution_count": 383,
     "metadata": {},
     "output_type": "execute_result"
    }
   ],
   "source": [
    "data_filtered['combined_reviews'][842]"
   ]
  },
  {
   "cell_type": "code",
   "execution_count": 146,
   "metadata": {
    "collapsed": true
   },
   "outputs": [],
   "source": [
    "data_filtered = pd.read_csv('data/seattle_coffeeshops_combine_reviews.csv')"
   ]
  },
  {
   "cell_type": "code",
   "execution_count": 147,
   "metadata": {},
   "outputs": [
    {
     "data": {
      "text/plain": [
       "' clean and friendly atmosphere i love sitting next to the electric fireplace and reading the paper there also a nice bar along the windows with outlets if you need a quite and chill place to do some work they have great coffee they use sleepy monk roasters it’s a cozy spot i like the style of the space  it has an open modern feel with some retro accents and lots of light  and the coffee just might be the best ive had anywhere i am so glad  that i gave this place a try i only drink latte and am picky about it i can honestly say this place has the best latte in town great flavor and served at perfect temperature  cute spot tucked away off broadway half a block down from the qfc and library  they just opened so theyre not as packed as some of the other cafes around which means youre more likely to find a seat  great coffee friendly baristas refreshingly unpretentious  there are outlets for laptops in the cozy brightly decorated space  they use a roaster from cannon beach oregon called sleepy monk  smooth delicious espresso  they have all the alternative milk options soy coconut hemp and almond milk nice little place with good veggie food and a nice japanese green tea the staff is super friendly but tend to get caught up in chores and dont notice im a big fan of the original downpour coffee in redmond  it started as i recall as cafe due ragazze or girls cafe  i enjoy stopping in at the redmond very cool spot off of the beaten path good seating options and a good environment to study  nice to enjoy quality coffee with a mellow environment in'"
      ]
     },
     "execution_count": 147,
     "metadata": {},
     "output_type": "execute_result"
    }
   ],
   "source": [
    "data_filtered['combined_reviews'][600]"
   ]
  },
  {
   "cell_type": "markdown",
   "metadata": {},
   "source": [
    "### Filtering through data"
   ]
  },
  {
   "cell_type": "code",
   "execution_count": 148,
   "metadata": {
    "collapsed": true,
    "scrolled": false
   },
   "outputs": [],
   "source": [
    "#Checking for any city's not in Seattle\n",
    "isnull_city_lat_lng = data_filtered[data_filtered['location.city'].isnull()][['location.lat', 'location.lng']]\n",
    "#All of these appear to be in Seattle"
   ]
  },
  {
   "cell_type": "code",
   "execution_count": 149,
   "metadata": {
    "collapsed": true
   },
   "outputs": [],
   "source": [
    "data_filtered['location.city'] = data_filtered['location.city'].fillna(value='Seattle')"
   ]
  },
  {
   "cell_type": "code",
   "execution_count": 150,
   "metadata": {},
   "outputs": [
    {
     "data": {
      "text/plain": [
       "array(['Seattle', 'West Seattle', 'Burien', 'Vancouver', 'Shoreline',\n",
       "       'Tukwila', 'Renton', 'University Village', 'Kirkland', 'unknown',\n",
       "       'Bothell', 'Inglewood-Finn Hill', 'Mercer Island', 'Clyde Hill'], dtype=object)"
      ]
     },
     "execution_count": 150,
     "metadata": {},
     "output_type": "execute_result"
    }
   ],
   "source": [
    "data_filtered['location.city'].unique()"
   ]
  },
  {
   "cell_type": "code",
   "execution_count": 151,
   "metadata": {
    "collapsed": true
   },
   "outputs": [],
   "source": [
    "#Changed all Seattle-based city names to Seattle\n",
    "data_filtered.loc[data_filtered['location.city'] == 'West Seattle', 'location.city'] = 'Seattle'\n",
    "data_filtered.loc[data_filtered['location.city'] == 'University Village', 'location.city'] = 'Seattle'\n",
    "data_filtered.loc[data_filtered['location.city'] == 'unknown', 'location.city'] = 'Seattle'"
   ]
  },
  {
   "cell_type": "code",
   "execution_count": 152,
   "metadata": {
    "collapsed": true
   },
   "outputs": [],
   "source": [
    "#Dropped all shops that weren't in Seattle\n",
    "data_filtered = data_filtered[data_filtered['location.city'] == 'Seattle']"
   ]
  },
  {
   "cell_type": "code",
   "execution_count": 159,
   "metadata": {
    "collapsed": true
   },
   "outputs": [],
   "source": [
    "#Count number of words in reviews and add column\n",
    "data_filtered['num_review_words'] = [len(x.split()) for x in data_filtered['combined_reviews']]"
   ]
  },
  {
   "cell_type": "code",
   "execution_count": 178,
   "metadata": {
    "collapsed": true
   },
   "outputs": [],
   "source": [
    "#Filter out places with no reviews. These appear to be closed, not actually coffeeshops, or incorrectly labeled places.\n",
    "data_with_reviews = data_filtered[data_filtered['num_review_words'] > 0]"
   ]
  },
  {
   "cell_type": "code",
   "execution_count": 196,
   "metadata": {
    "collapsed": true
   },
   "outputs": [],
   "source": [
    "data_with_reviews.to_csv('data/seattle_only_shops.csv')"
   ]
  },
  {
   "cell_type": "code",
   "execution_count": 221,
   "metadata": {
    "collapsed": true
   },
   "outputs": [],
   "source": [
    "def fill_address_with_google_ids(google_id, api_key):\n",
    "    '''\n",
    "    Takes in a google place id and Google API key and outputs address pulled from Google's API.\n",
    "    '''\n",
    "    details_url = populate_google_details_url(google_id, api_key)\n",
    "    details_resp = requests.get(url=details_url)\n",
    "    details_data = json.loads(details_resp.text)\n",
    "    try:\n",
    "        address = details_data['result']['formatted_address'].split(',')[0]\n",
    "        return address\n",
    "    except:\n",
    "        return None"
   ]
  },
  {
   "cell_type": "markdown",
   "metadata": {},
   "source": [
    "##### Get addresses from Google"
   ]
  },
  {
   "cell_type": "code",
   "execution_count": 224,
   "metadata": {
    "collapsed": true
   },
   "outputs": [
    {
     "name": "stderr",
     "output_type": "stream",
     "text": [
      "/Users/ReddingSkinnyRobot/anaconda2/envs/py36/lib/python3.6/site-packages/ipykernel_launcher.py:3: SettingWithCopyWarning: \n",
      "A value is trying to be set on a copy of a slice from a DataFrame.\n",
      "Try using .loc[row_indexer,col_indexer] = value instead\n",
      "\n",
      "See the caveats in the documentation: http://pandas.pydata.org/pandas-docs/stable/indexing.html#indexing-view-versus-copy\n",
      "  This is separate from the ipykernel package so we can avoid doing imports until\n"
     ]
    }
   ],
   "source": [
    "data_with_reviews['google_addresses'] = data_with_reviews.apply(lambda row: fill_address_with_google_ids(row['google_ids'],\n",
    "                                                                                                        google_secrets['key']),\n",
    "                                                               axis=1)"
   ]
  },
  {
   "cell_type": "code",
   "execution_count": 229,
   "metadata": {
    "collapsed": true
   },
   "outputs": [
    {
     "name": "stderr",
     "output_type": "stream",
     "text": [
      "/Users/ReddingSkinnyRobot/anaconda2/envs/py36/lib/python3.6/site-packages/ipykernel_launcher.py:1: SettingWithCopyWarning: \n",
      "A value is trying to be set on a copy of a slice from a DataFrame.\n",
      "Try using .loc[row_indexer,col_indexer] = value instead\n",
      "\n",
      "See the caveats in the documentation: http://pandas.pydata.org/pandas-docs/stable/indexing.html#indexing-view-versus-copy\n",
      "  \"\"\"Entry point for launching an IPython kernel.\n"
     ]
    }
   ],
   "source": [
    "data_with_reviews['final_address'] = data_with_reviews['location.address']"
   ]
  },
  {
   "cell_type": "code",
   "execution_count": 234,
   "metadata": {
    "collapsed": true
   },
   "outputs": [
    {
     "name": "stderr",
     "output_type": "stream",
     "text": [
      "/Users/ReddingSkinnyRobot/anaconda2/envs/py36/lib/python3.6/site-packages/pandas/core/indexing.py:537: SettingWithCopyWarning: \n",
      "A value is trying to be set on a copy of a slice from a DataFrame.\n",
      "Try using .loc[row_indexer,col_indexer] = value instead\n",
      "\n",
      "See the caveats in the documentation: http://pandas.pydata.org/pandas-docs/stable/indexing.html#indexing-view-versus-copy\n",
      "  self.obj[item] = s\n"
     ]
    }
   ],
   "source": [
    "data_with_reviews.loc[data_with_reviews['location.address'].isnull(),'final_address'] = data_with_reviews['google_addresses']"
   ]
  },
  {
   "cell_type": "markdown",
   "metadata": {},
   "source": [
    "##### Get addresses from Yelp"
   ]
  },
  {
   "cell_type": "code",
   "execution_count": 278,
   "metadata": {
    "collapsed": true
   },
   "outputs": [],
   "source": [
    "def fill_addresses_with_yelp_ids(yelp_id, api_key):\n",
    "    '''\n",
    "    Takes in Yelp id and Yelp API key and outputs location address.\n",
    "    '''\n",
    "    yelp_search_url = 'https://api.yelp.com/v3/businesses/{}'.format(yelp_id)\n",
    "    search_resp = requests.get(url=yelp_search_url, \n",
    "                               headers={'Authorization':'Bearer {}'.format(api_key)})\n",
    "    search_data = json.loads(search_resp.text)\n",
    "    try:\n",
    "        return search_data['location']['address1']\n",
    "    except:\n",
    "        return None"
   ]
  },
  {
   "cell_type": "code",
   "execution_count": 279,
   "metadata": {
    "collapsed": true
   },
   "outputs": [
    {
     "name": "stderr",
     "output_type": "stream",
     "text": [
      "/Users/ReddingSkinnyRobot/anaconda2/envs/py36/lib/python3.6/site-packages/ipykernel_launcher.py:2: SettingWithCopyWarning: \n",
      "A value is trying to be set on a copy of a slice from a DataFrame.\n",
      "Try using .loc[row_indexer,col_indexer] = value instead\n",
      "\n",
      "See the caveats in the documentation: http://pandas.pydata.org/pandas-docs/stable/indexing.html#indexing-view-versus-copy\n",
      "  \n"
     ]
    }
   ],
   "source": [
    "data_with_reviews['yelp_address'] = data_with_reviews.apply(lambda row: fill_addresses_with_yelp_ids(row['yelp_ids'], yelp_secrets['api_key']), \n",
    "                                                            axis=1)"
   ]
  },
  {
   "cell_type": "code",
   "execution_count": 282,
   "metadata": {
    "collapsed": true
   },
   "outputs": [
    {
     "name": "stderr",
     "output_type": "stream",
     "text": [
      "/Users/ReddingSkinnyRobot/anaconda2/envs/py36/lib/python3.6/site-packages/pandas/core/indexing.py:537: SettingWithCopyWarning: \n",
      "A value is trying to be set on a copy of a slice from a DataFrame.\n",
      "Try using .loc[row_indexer,col_indexer] = value instead\n",
      "\n",
      "See the caveats in the documentation: http://pandas.pydata.org/pandas-docs/stable/indexing.html#indexing-view-versus-copy\n",
      "  self.obj[item] = s\n"
     ]
    }
   ],
   "source": [
    "data_with_reviews.loc[data_with_reviews['final_address'].isnull(),'final_address'] = data_with_reviews['yelp_address']"
   ]
  },
  {
   "cell_type": "markdown",
   "metadata": {},
   "source": [
    "#### Drop shops with no addresses"
   ]
  },
  {
   "cell_type": "code",
   "execution_count": 286,
   "metadata": {
    "collapsed": true
   },
   "outputs": [],
   "source": [
    "data_with_addresses = data_with_reviews[~data_with_reviews['final_address'].isnull()].copy()."
   ]
  },
  {
   "cell_type": "code",
   "execution_count": 292,
   "metadata": {},
   "outputs": [
    {
     "data": {
      "text/plain": [
       "Index(['Unnamed: 0', 'id', 'location.address', 'location.city', 'location.lat',\n",
       "       'location.lng', 'location.postalCode', 'location.state', 'name',\n",
       "       'stats.tipCount', 'stats.usersCount', 'tips', 'google_ids',\n",
       "       'google_reviews', 'yelp_ids', 'yelp_reviews', 'tips_clean',\n",
       "       'google_reviews_clean', 'yelp_reviews_clean', 'combined_reviews',\n",
       "       'num_review_words', 'google_addresses', 'final_address',\n",
       "       'yelp_address'],\n",
       "      dtype='object')"
      ]
     },
     "execution_count": 292,
     "metadata": {},
     "output_type": "execute_result"
    }
   ],
   "source": [
    "data_with_addresses.columns"
   ]
  },
  {
   "cell_type": "code",
   "execution_count": 297,
   "metadata": {
    "collapsed": true
   },
   "outputs": [],
   "source": [
    "#Remove unnecessary rows for simple tf-idf model\n",
    "data_less_columns = data_with_addresses.drop(['Unnamed: 0', 'id', \n",
    "       'location.address', 'location.city', 'location.postalCode', 'location.state',\n",
    "       'stats.tipCount', 'stats.usersCount', 'tips', 'google_ids',\n",
    "       'google_reviews', 'yelp_ids', 'yelp_reviews', 'tips_clean',\n",
    "       'google_reviews_clean', 'yelp_reviews_clean', 'google_addresses',\n",
    "       'yelp_address'], axis=1).reset_index().drop('index', axis=1)"
   ]
  },
  {
   "cell_type": "code",
   "execution_count": 302,
   "metadata": {
    "collapsed": true
   },
   "outputs": [],
   "source": [
    "data_less_columns.to_csv('data/seattle_only_less_columns.csv')"
   ]
  },
  {
   "cell_type": "code",
   "execution_count": 303,
   "metadata": {},
   "outputs": [
    {
     "data": {
      "text/html": [
       "<div>\n",
       "<style scoped>\n",
       "    .dataframe tbody tr th:only-of-type {\n",
       "        vertical-align: middle;\n",
       "    }\n",
       "\n",
       "    .dataframe tbody tr th {\n",
       "        vertical-align: top;\n",
       "    }\n",
       "\n",
       "    .dataframe thead th {\n",
       "        text-align: right;\n",
       "    }\n",
       "</style>\n",
       "<table border=\"1\" class=\"dataframe\">\n",
       "  <thead>\n",
       "    <tr style=\"text-align: right;\">\n",
       "      <th></th>\n",
       "      <th>location.lat</th>\n",
       "      <th>location.lng</th>\n",
       "      <th>name</th>\n",
       "      <th>combined_reviews</th>\n",
       "      <th>num_review_words</th>\n",
       "      <th>final_address</th>\n",
       "    </tr>\n",
       "  </thead>\n",
       "  <tbody>\n",
       "    <tr>\n",
       "      <th>0</th>\n",
       "      <td>47.578838</td>\n",
       "      <td>-122.411199</td>\n",
       "      <td>Starbucks</td>\n",
       "      <td>absolutely incredible view in my opinion the b...</td>\n",
       "      <td>530</td>\n",
       "      <td>2742 Alki Ave SW</td>\n",
       "    </tr>\n",
       "    <tr>\n",
       "      <th>1</th>\n",
       "      <td>47.579130</td>\n",
       "      <td>-122.410511</td>\n",
       "      <td>Alki Cafe</td>\n",
       "      <td>if you cansit in hespers section she gives exc...</td>\n",
       "      <td>369</td>\n",
       "      <td>2726 Alki Ave SW</td>\n",
       "    </tr>\n",
       "    <tr>\n",
       "      <th>2</th>\n",
       "      <td>47.579352</td>\n",
       "      <td>-122.409126</td>\n",
       "      <td>Tully's Coffee</td>\n",
       "      <td>in addition to the great coffee theres a pleas...</td>\n",
       "      <td>536</td>\n",
       "      <td>2676 Alki Ave SW</td>\n",
       "    </tr>\n",
       "    <tr>\n",
       "      <th>3</th>\n",
       "      <td>47.580447</td>\n",
       "      <td>-122.406728</td>\n",
       "      <td>Ampersand Cafe</td>\n",
       "      <td>craft coffee drinks cider beer  wine try the o...</td>\n",
       "      <td>339</td>\n",
       "      <td>2536 Alki Ave SW</td>\n",
       "    </tr>\n",
       "    <tr>\n",
       "      <th>4</th>\n",
       "      <td>47.680561</td>\n",
       "      <td>-122.404709</td>\n",
       "      <td>Jibe Espresso Bar</td>\n",
       "      <td>sandwiches and pastries made in house with a v...</td>\n",
       "      <td>362</td>\n",
       "      <td>7001 Seaview Ave NW #170</td>\n",
       "    </tr>\n",
       "    <tr>\n",
       "      <th>5</th>\n",
       "      <td>47.675598</td>\n",
       "      <td>-122.398264</td>\n",
       "      <td>The Scoop at Walter's</td>\n",
       "      <td>snoqualmie ice cream decent espresso and appar...</td>\n",
       "      <td>126</td>\n",
       "      <td>6408 32nd Ave NW</td>\n",
       "    </tr>\n",
       "    <tr>\n",
       "      <th>6</th>\n",
       "      <td>47.675674</td>\n",
       "      <td>-122.398387</td>\n",
       "      <td>Pico Café</td>\n",
       "      <td>various breads baked inhouse available daily p...</td>\n",
       "      <td>112</td>\n",
       "      <td>6415 32nd Ave NW</td>\n",
       "    </tr>\n",
       "    <tr>\n",
       "      <th>7</th>\n",
       "      <td>47.675592</td>\n",
       "      <td>-122.398240</td>\n",
       "      <td>Walter's</td>\n",
       "      <td>i love this place everybody is so nice in the...</td>\n",
       "      <td>196</td>\n",
       "      <td>6408 32nd Ave NW</td>\n",
       "    </tr>\n",
       "    <tr>\n",
       "      <th>8</th>\n",
       "      <td>47.659875</td>\n",
       "      <td>-122.398059</td>\n",
       "      <td>Discovery Espresso</td>\n",
       "      <td>roasted pasilla chile breakfast sammy is aweso...</td>\n",
       "      <td>164</td>\n",
       "      <td>3103 W Jameson St</td>\n",
       "    </tr>\n",
       "    <tr>\n",
       "      <th>9</th>\n",
       "      <td>47.639812</td>\n",
       "      <td>-122.399856</td>\n",
       "      <td>Starbucks</td>\n",
       "      <td>the power outlets are at the base of the windo...</td>\n",
       "      <td>262</td>\n",
       "      <td>3300 W. McGraw St.</td>\n",
       "    </tr>\n",
       "    <tr>\n",
       "      <th>10</th>\n",
       "      <td>47.639363</td>\n",
       "      <td>-122.399467</td>\n",
       "      <td>Uptown Espresso Magnolia</td>\n",
       "      <td>their famous velvet foam really is velvet get ...</td>\n",
       "      <td>379</td>\n",
       "      <td>3223 W McGraw St</td>\n",
       "    </tr>\n",
       "    <tr>\n",
       "      <th>11</th>\n",
       "      <td>47.668781</td>\n",
       "      <td>-122.391557</td>\n",
       "      <td>Firehouse Coffee</td>\n",
       "      <td>employees are very nice  i used to go here ver...</td>\n",
       "      <td>549</td>\n",
       "      <td>2622 NW Market St</td>\n",
       "    </tr>\n",
       "    <tr>\n",
       "      <th>12</th>\n",
       "      <td>47.580933</td>\n",
       "      <td>-122.392044</td>\n",
       "      <td>Alki Mail and Dispatch</td>\n",
       "      <td>great service convenient and you can bring you...</td>\n",
       "      <td>443</td>\n",
       "      <td>4701 SW Admiral Way</td>\n",
       "    </tr>\n",
       "    <tr>\n",
       "      <th>13</th>\n",
       "      <td>47.657838</td>\n",
       "      <td>-122.389279</td>\n",
       "      <td>Gilman Ave Coffee</td>\n",
       "      <td>friendly little neighborhood so convenience s...</td>\n",
       "      <td>8</td>\n",
       "      <td>4217 Gilman Ave W</td>\n",
       "    </tr>\n",
       "    <tr>\n",
       "      <th>14</th>\n",
       "      <td>47.686817</td>\n",
       "      <td>-122.387910</td>\n",
       "      <td>La Copa Cafe</td>\n",
       "      <td>friendly staff and good coffee  a few assorted...</td>\n",
       "      <td>93</td>\n",
       "      <td>2408 NW 80th St</td>\n",
       "    </tr>\n",
       "    <tr>\n",
       "      <th>15</th>\n",
       "      <td>47.679511</td>\n",
       "      <td>-122.387651</td>\n",
       "      <td>Mabel Coffee</td>\n",
       "      <td>the lady concocted a nice cold brew for me and...</td>\n",
       "      <td>166</td>\n",
       "      <td>7001 24th Ave NW</td>\n",
       "    </tr>\n",
       "    <tr>\n",
       "      <th>16</th>\n",
       "      <td>47.675589</td>\n",
       "      <td>-122.387432</td>\n",
       "      <td>Royal Drummer</td>\n",
       "      <td>loving the vibes here milk is frothed perfectl...</td>\n",
       "      <td>207</td>\n",
       "      <td>6420 24th Ave NW</td>\n",
       "    </tr>\n",
       "    <tr>\n",
       "      <th>17</th>\n",
       "      <td>47.671588</td>\n",
       "      <td>-122.387807</td>\n",
       "      <td>Java Bean</td>\n",
       "      <td>try the bean freeze if you want something cold...</td>\n",
       "      <td>657</td>\n",
       "      <td>5819 24th Ave NW</td>\n",
       "    </tr>\n",
       "    <tr>\n",
       "      <th>18</th>\n",
       "      <td>47.670499</td>\n",
       "      <td>-122.387489</td>\n",
       "      <td>Starbucks</td>\n",
       "      <td>maria makes the best coffee</td>\n",
       "      <td>5</td>\n",
       "      <td>2237 NW 58th St</td>\n",
       "    </tr>\n",
       "    <tr>\n",
       "      <th>19</th>\n",
       "      <td>47.669927</td>\n",
       "      <td>-122.387544</td>\n",
       "      <td>Toast</td>\n",
       "      <td>filbert waffle nutella vanilla yogurt and cand...</td>\n",
       "      <td>336</td>\n",
       "      <td>5615 24th Ave NW</td>\n",
       "    </tr>\n",
       "    <tr>\n",
       "      <th>20</th>\n",
       "      <td>47.579843</td>\n",
       "      <td>-122.385934</td>\n",
       "      <td>Starbucks</td>\n",
       "      <td>best mountain view with a cup of coffee hot ch...</td>\n",
       "      <td>36</td>\n",
       "      <td>4101 SW Admiral Way</td>\n",
       "    </tr>\n",
       "    <tr>\n",
       "      <th>21</th>\n",
       "      <td>47.581078</td>\n",
       "      <td>-122.386384</td>\n",
       "      <td>Admiral Bird</td>\n",
       "      <td>the cubano was so yummy i am hooked a double s...</td>\n",
       "      <td>435</td>\n",
       "      <td>2600 California Ave SW</td>\n",
       "    </tr>\n",
       "    <tr>\n",
       "      <th>22</th>\n",
       "      <td>47.578201</td>\n",
       "      <td>-122.386666</td>\n",
       "      <td>Freshy's Coffee</td>\n",
       "      <td>i live upstairs and i visit frequently this of...</td>\n",
       "      <td>241</td>\n",
       "      <td>2735 California Ave SW</td>\n",
       "    </tr>\n",
       "    <tr>\n",
       "      <th>23</th>\n",
       "      <td>47.564429</td>\n",
       "      <td>-122.386648</td>\n",
       "      <td>Hotwire Coffeehouse</td>\n",
       "      <td>i loved chocolate chai will be coming back to ...</td>\n",
       "      <td>469</td>\n",
       "      <td>4410 California Ave SW</td>\n",
       "    </tr>\n",
       "    <tr>\n",
       "      <th>24</th>\n",
       "      <td>47.563240</td>\n",
       "      <td>-122.386910</td>\n",
       "      <td>Red Cup Espresso</td>\n",
       "      <td>i like the maple scones i cave in and get one ...</td>\n",
       "      <td>309</td>\n",
       "      <td>4451 California Ave SW</td>\n",
       "    </tr>\n",
       "    <tr>\n",
       "      <th>25</th>\n",
       "      <td>47.559275</td>\n",
       "      <td>-122.387370</td>\n",
       "      <td>Uptown Espresso - California Ave</td>\n",
       "      <td>best place to get work done in west seattle co...</td>\n",
       "      <td>183</td>\n",
       "      <td>4301 SW Edmunds St</td>\n",
       "    </tr>\n",
       "    <tr>\n",
       "      <th>26</th>\n",
       "      <td>47.561185</td>\n",
       "      <td>-122.386668</td>\n",
       "      <td>Cupcake Royale and Verite Coffee</td>\n",
       "      <td>the lemon drop or the salted caramel cupcakes ...</td>\n",
       "      <td>675</td>\n",
       "      <td>4556 California Ave SW</td>\n",
       "    </tr>\n",
       "    <tr>\n",
       "      <th>27</th>\n",
       "      <td>47.558614</td>\n",
       "      <td>-122.386808</td>\n",
       "      <td>Pho Than Brothers - West Seattle</td>\n",
       "      <td>love the phô here just wish they had more meat...</td>\n",
       "      <td>172</td>\n",
       "      <td>4822 California Ave SW</td>\n",
       "    </tr>\n",
       "    <tr>\n",
       "      <th>28</th>\n",
       "      <td>47.551718</td>\n",
       "      <td>-122.386730</td>\n",
       "      <td>C &amp; P Coffee</td>\n",
       "      <td>the service and staff made you feel completely...</td>\n",
       "      <td>713</td>\n",
       "      <td>5612 California Ave SW</td>\n",
       "    </tr>\n",
       "    <tr>\n",
       "      <th>29</th>\n",
       "      <td>47.547474</td>\n",
       "      <td>-122.387160</td>\n",
       "      <td>QED Coffee</td>\n",
       "      <td>sweet little store excellent and original es...</td>\n",
       "      <td>81</td>\n",
       "      <td>6032 California Ave SW</td>\n",
       "    </tr>\n",
       "    <tr>\n",
       "      <th>...</th>\n",
       "      <td>...</td>\n",
       "      <td>...</td>\n",
       "      <td>...</td>\n",
       "      <td>...</td>\n",
       "      <td>...</td>\n",
       "      <td>...</td>\n",
       "    </tr>\n",
       "    <tr>\n",
       "      <th>569</th>\n",
       "      <td>47.708638</td>\n",
       "      <td>-122.291335</td>\n",
       "      <td>Meadow Brew</td>\n",
       "      <td>i love this place and come here everyday the ...</td>\n",
       "      <td>370</td>\n",
       "      <td>11003 35th Ave NE</td>\n",
       "    </tr>\n",
       "    <tr>\n",
       "      <th>570</th>\n",
       "      <td>47.668617</td>\n",
       "      <td>-122.290933</td>\n",
       "      <td>Ventoux Cafe &amp; Hart Roasters</td>\n",
       "      <td>the interior is split into a cafe in the front...</td>\n",
       "      <td>301</td>\n",
       "      <td>3404 NE 55th St</td>\n",
       "    </tr>\n",
       "    <tr>\n",
       "      <th>571</th>\n",
       "      <td>47.589677</td>\n",
       "      <td>-122.292358</td>\n",
       "      <td>QED Coffee</td>\n",
       "      <td>great cozy coffee cafe with excellent design a...</td>\n",
       "      <td>287</td>\n",
       "      <td>1418 31st Ave S</td>\n",
       "    </tr>\n",
       "    <tr>\n",
       "      <th>572</th>\n",
       "      <td>47.589690</td>\n",
       "      <td>-122.292374</td>\n",
       "      <td>Repast</td>\n",
       "      <td>the flip flops and macaroons are phenomenal gr...</td>\n",
       "      <td>65</td>\n",
       "      <td>1368 31st Ave S</td>\n",
       "    </tr>\n",
       "    <tr>\n",
       "      <th>573</th>\n",
       "      <td>47.560177</td>\n",
       "      <td>-122.291418</td>\n",
       "      <td>Cafe Red</td>\n",
       "      <td>they make their own pastries in house try some...</td>\n",
       "      <td>18</td>\n",
       "      <td>7148 Martin Luther King Jr Way S</td>\n",
       "    </tr>\n",
       "    <tr>\n",
       "      <th>574</th>\n",
       "      <td>47.691391</td>\n",
       "      <td>-122.290817</td>\n",
       "      <td>Cafe Javasti</td>\n",
       "      <td>excellent savory crepes  artwork on the wall a...</td>\n",
       "      <td>435</td>\n",
       "      <td>8617 35th Ave NE</td>\n",
       "    </tr>\n",
       "    <tr>\n",
       "      <th>575</th>\n",
       "      <td>47.689006</td>\n",
       "      <td>-122.290201</td>\n",
       "      <td>Van Gogh Coffee</td>\n",
       "      <td>the food and beverages here are amazing and th...</td>\n",
       "      <td>443</td>\n",
       "      <td>8210 35th Ave NE</td>\n",
       "    </tr>\n",
       "    <tr>\n",
       "      <th>576</th>\n",
       "      <td>47.682582</td>\n",
       "      <td>-122.289363</td>\n",
       "      <td>Starbucks</td>\n",
       "      <td>the indooroutdoor fireplace is a welcoming pla...</td>\n",
       "      <td>180</td>\n",
       "      <td>7303 35th Avenue NE</td>\n",
       "    </tr>\n",
       "    <tr>\n",
       "      <th>577</th>\n",
       "      <td>47.679193</td>\n",
       "      <td>-122.290544</td>\n",
       "      <td>Top Pot Doughnuts</td>\n",
       "      <td>top pot donuts are very popular in seattle  th...</td>\n",
       "      <td>630</td>\n",
       "      <td>6855 35th Ave NE</td>\n",
       "    </tr>\n",
       "    <tr>\n",
       "      <th>578</th>\n",
       "      <td>47.679496</td>\n",
       "      <td>-122.290504</td>\n",
       "      <td>Grateful Bread Baking Company &amp; Cafe</td>\n",
       "      <td>my favorite local cafe caffe vita coffee casua...</td>\n",
       "      <td>387</td>\n",
       "      <td>7001 35th Ave NE</td>\n",
       "    </tr>\n",
       "    <tr>\n",
       "      <th>579</th>\n",
       "      <td>47.668868</td>\n",
       "      <td>-122.290012</td>\n",
       "      <td>Seattle Sunshine Coffee</td>\n",
       "      <td>best coffee in the area there are plenty of ta...</td>\n",
       "      <td>304</td>\n",
       "      <td>5508 35th Ave NE</td>\n",
       "    </tr>\n",
       "    <tr>\n",
       "      <th>580</th>\n",
       "      <td>47.661237</td>\n",
       "      <td>-122.288893</td>\n",
       "      <td>Coffee Crew</td>\n",
       "      <td>my cousin had her baby shower here in early n...</td>\n",
       "      <td>289</td>\n",
       "      <td>3614 NE 45th St</td>\n",
       "    </tr>\n",
       "    <tr>\n",
       "      <th>581</th>\n",
       "      <td>47.613335</td>\n",
       "      <td>-122.289213</td>\n",
       "      <td>Hi Spot Cafe</td>\n",
       "      <td>hi spot is a good solid breakfast spot where n...</td>\n",
       "      <td>735</td>\n",
       "      <td>1410 34th Ave</td>\n",
       "    </tr>\n",
       "    <tr>\n",
       "      <th>582</th>\n",
       "      <td>47.611684</td>\n",
       "      <td>-122.289514</td>\n",
       "      <td>Vérité Coffee</td>\n",
       "      <td>cupcakes  coffee a great afternoon endulgment ...</td>\n",
       "      <td>279</td>\n",
       "      <td>1101 34th Ave</td>\n",
       "    </tr>\n",
       "    <tr>\n",
       "      <th>583</th>\n",
       "      <td>47.569279</td>\n",
       "      <td>-122.287947</td>\n",
       "      <td>Starbucks</td>\n",
       "      <td>i go to starbucks just to clear my head its a ...</td>\n",
       "      <td>115</td>\n",
       "      <td>3820 Rainier Avenue South</td>\n",
       "    </tr>\n",
       "    <tr>\n",
       "      <th>584</th>\n",
       "      <td>47.602033</td>\n",
       "      <td>-122.285132</td>\n",
       "      <td>Starbucks</td>\n",
       "      <td>good grief there are a lot of flies here and i...</td>\n",
       "      <td>194</td>\n",
       "      <td>121 Lakeside Ave</td>\n",
       "    </tr>\n",
       "    <tr>\n",
       "      <th>585</th>\n",
       "      <td>47.558765</td>\n",
       "      <td>-122.285260</td>\n",
       "      <td>Starbucks</td>\n",
       "      <td>a half decaf americano is a great drink to get...</td>\n",
       "      <td>289</td>\n",
       "      <td>4824 Rainier Ave South</td>\n",
       "    </tr>\n",
       "    <tr>\n",
       "      <th>586</th>\n",
       "      <td>47.557152</td>\n",
       "      <td>-122.284610</td>\n",
       "      <td>Tutta Bella Neapolitan Pizzeria</td>\n",
       "      <td>for people with dairy allergies get the pietro...</td>\n",
       "      <td>953</td>\n",
       "      <td>4918 Rainier Ave S</td>\n",
       "    </tr>\n",
       "    <tr>\n",
       "      <th>587</th>\n",
       "      <td>47.558535</td>\n",
       "      <td>-122.284284</td>\n",
       "      <td>Empire Espresso</td>\n",
       "      <td>this place is awesome teas coffee food quality...</td>\n",
       "      <td>830</td>\n",
       "      <td>3829 S Edmunds St</td>\n",
       "    </tr>\n",
       "    <tr>\n",
       "      <th>588</th>\n",
       "      <td>47.545691</td>\n",
       "      <td>-122.285050</td>\n",
       "      <td>Starbucks</td>\n",
       "      <td>got there a little before officially open stil...</td>\n",
       "      <td>413</td>\n",
       "      <td>6310 Martin Luther King Jr. Way South</td>\n",
       "    </tr>\n",
       "    <tr>\n",
       "      <th>589</th>\n",
       "      <td>47.662210</td>\n",
       "      <td>-122.283920</td>\n",
       "      <td>Starbucks</td>\n",
       "      <td>this shop is where i fell in love with starbuc...</td>\n",
       "      <td>73</td>\n",
       "      <td>4800 Sand Point Way NE</td>\n",
       "    </tr>\n",
       "    <tr>\n",
       "      <th>590</th>\n",
       "      <td>47.634098</td>\n",
       "      <td>-122.280780</td>\n",
       "      <td>Starbucks</td>\n",
       "      <td>in the summer ask the staff to pull open the w...</td>\n",
       "      <td>468</td>\n",
       "      <td>4000 East Madison St</td>\n",
       "    </tr>\n",
       "    <tr>\n",
       "      <th>591</th>\n",
       "      <td>47.556876</td>\n",
       "      <td>-122.278101</td>\n",
       "      <td>North Star Fine Coffees</td>\n",
       "      <td>my name is bryandavid scott i am the former ...</td>\n",
       "      <td>54</td>\n",
       "      <td>4409 S Hudson St</td>\n",
       "    </tr>\n",
       "    <tr>\n",
       "      <th>592</th>\n",
       "      <td>47.551825</td>\n",
       "      <td>-122.277850</td>\n",
       "      <td>Tin Umbrella Coffee</td>\n",
       "      <td>they source and roast their own coffee and its...</td>\n",
       "      <td>427</td>\n",
       "      <td>5600 Rainier Ave S Ste A</td>\n",
       "    </tr>\n",
       "    <tr>\n",
       "      <th>593</th>\n",
       "      <td>47.549847</td>\n",
       "      <td>-122.277716</td>\n",
       "      <td>Hilaal Coffee</td>\n",
       "      <td>loved the sambusa one dollar can still buy y...</td>\n",
       "      <td>82</td>\n",
       "      <td>5811 Rainier Ave S #114</td>\n",
       "    </tr>\n",
       "    <tr>\n",
       "      <th>594</th>\n",
       "      <td>47.556116</td>\n",
       "      <td>-122.270239</td>\n",
       "      <td>Caffe Vita</td>\n",
       "      <td>ladies restroom locks funny make sure the butt...</td>\n",
       "      <td>276</td>\n",
       "      <td>5028 Wilson Ave S</td>\n",
       "    </tr>\n",
       "    <tr>\n",
       "      <th>595</th>\n",
       "      <td>47.529798</td>\n",
       "      <td>-122.269477</td>\n",
       "      <td>Rose Cafe</td>\n",
       "      <td>the shahe bleben is so good good coffee great ...</td>\n",
       "      <td>13</td>\n",
       "      <td>8136 Rainier Ave S</td>\n",
       "    </tr>\n",
       "    <tr>\n",
       "      <th>596</th>\n",
       "      <td>47.520723</td>\n",
       "      <td>-122.267999</td>\n",
       "      <td>Starbucks</td>\n",
       "      <td>starbucks is always a great way to get a kic...</td>\n",
       "      <td>82</td>\n",
       "      <td>9262 Rainier Ave S</td>\n",
       "    </tr>\n",
       "    <tr>\n",
       "      <th>597</th>\n",
       "      <td>47.681960</td>\n",
       "      <td>-122.261267</td>\n",
       "      <td>Caddy Shack Coffee</td>\n",
       "      <td>caddy shack coffee</td>\n",
       "      <td>3</td>\n",
       "      <td>6310 NE 74th St</td>\n",
       "    </tr>\n",
       "    <tr>\n",
       "      <th>598</th>\n",
       "      <td>47.519703</td>\n",
       "      <td>-122.261519</td>\n",
       "      <td>South Beach Espresso</td>\n",
       "      <td>apple muffin is delish great coffee too free w...</td>\n",
       "      <td>12</td>\n",
       "      <td>9252 57th Ave S</td>\n",
       "    </tr>\n",
       "  </tbody>\n",
       "</table>\n",
       "<p>599 rows × 6 columns</p>\n",
       "</div>"
      ],
      "text/plain": [
       "     location.lat  location.lng                                  name  \\\n",
       "0       47.578838   -122.411199                             Starbucks   \n",
       "1       47.579130   -122.410511                             Alki Cafe   \n",
       "2       47.579352   -122.409126                        Tully's Coffee   \n",
       "3       47.580447   -122.406728                        Ampersand Cafe   \n",
       "4       47.680561   -122.404709                     Jibe Espresso Bar   \n",
       "5       47.675598   -122.398264                 The Scoop at Walter's   \n",
       "6       47.675674   -122.398387                             Pico Café   \n",
       "7       47.675592   -122.398240                              Walter's   \n",
       "8       47.659875   -122.398059                    Discovery Espresso   \n",
       "9       47.639812   -122.399856                             Starbucks   \n",
       "10      47.639363   -122.399467              Uptown Espresso Magnolia   \n",
       "11      47.668781   -122.391557                      Firehouse Coffee   \n",
       "12      47.580933   -122.392044                Alki Mail and Dispatch   \n",
       "13      47.657838   -122.389279                     Gilman Ave Coffee   \n",
       "14      47.686817   -122.387910                          La Copa Cafe   \n",
       "15      47.679511   -122.387651                          Mabel Coffee   \n",
       "16      47.675589   -122.387432                         Royal Drummer   \n",
       "17      47.671588   -122.387807                             Java Bean   \n",
       "18      47.670499   -122.387489                             Starbucks   \n",
       "19      47.669927   -122.387544                                 Toast   \n",
       "20      47.579843   -122.385934                             Starbucks   \n",
       "21      47.581078   -122.386384                          Admiral Bird   \n",
       "22      47.578201   -122.386666                       Freshy's Coffee   \n",
       "23      47.564429   -122.386648                   Hotwire Coffeehouse   \n",
       "24      47.563240   -122.386910                      Red Cup Espresso   \n",
       "25      47.559275   -122.387370      Uptown Espresso - California Ave   \n",
       "26      47.561185   -122.386668      Cupcake Royale and Verite Coffee   \n",
       "27      47.558614   -122.386808      Pho Than Brothers - West Seattle   \n",
       "28      47.551718   -122.386730                          C & P Coffee   \n",
       "29      47.547474   -122.387160                            QED Coffee   \n",
       "..            ...           ...                                   ...   \n",
       "569     47.708638   -122.291335                           Meadow Brew   \n",
       "570     47.668617   -122.290933          Ventoux Cafe & Hart Roasters   \n",
       "571     47.589677   -122.292358                            QED Coffee   \n",
       "572     47.589690   -122.292374                                Repast   \n",
       "573     47.560177   -122.291418                              Cafe Red   \n",
       "574     47.691391   -122.290817                          Cafe Javasti   \n",
       "575     47.689006   -122.290201                       Van Gogh Coffee   \n",
       "576     47.682582   -122.289363                             Starbucks   \n",
       "577     47.679193   -122.290544                     Top Pot Doughnuts   \n",
       "578     47.679496   -122.290504  Grateful Bread Baking Company & Cafe   \n",
       "579     47.668868   -122.290012               Seattle Sunshine Coffee   \n",
       "580     47.661237   -122.288893                           Coffee Crew   \n",
       "581     47.613335   -122.289213                          Hi Spot Cafe   \n",
       "582     47.611684   -122.289514                         Vérité Coffee   \n",
       "583     47.569279   -122.287947                             Starbucks   \n",
       "584     47.602033   -122.285132                             Starbucks   \n",
       "585     47.558765   -122.285260                             Starbucks   \n",
       "586     47.557152   -122.284610       Tutta Bella Neapolitan Pizzeria   \n",
       "587     47.558535   -122.284284                       Empire Espresso   \n",
       "588     47.545691   -122.285050                             Starbucks   \n",
       "589     47.662210   -122.283920                             Starbucks   \n",
       "590     47.634098   -122.280780                             Starbucks   \n",
       "591     47.556876   -122.278101               North Star Fine Coffees   \n",
       "592     47.551825   -122.277850                   Tin Umbrella Coffee   \n",
       "593     47.549847   -122.277716                         Hilaal Coffee   \n",
       "594     47.556116   -122.270239                            Caffe Vita   \n",
       "595     47.529798   -122.269477                             Rose Cafe   \n",
       "596     47.520723   -122.267999                             Starbucks   \n",
       "597     47.681960   -122.261267                    Caddy Shack Coffee   \n",
       "598     47.519703   -122.261519                  South Beach Espresso   \n",
       "\n",
       "                                      combined_reviews  num_review_words  \\\n",
       "0    absolutely incredible view in my opinion the b...               530   \n",
       "1    if you cansit in hespers section she gives exc...               369   \n",
       "2    in addition to the great coffee theres a pleas...               536   \n",
       "3    craft coffee drinks cider beer  wine try the o...               339   \n",
       "4    sandwiches and pastries made in house with a v...               362   \n",
       "5    snoqualmie ice cream decent espresso and appar...               126   \n",
       "6    various breads baked inhouse available daily p...               112   \n",
       "7     i love this place everybody is so nice in the...               196   \n",
       "8    roasted pasilla chile breakfast sammy is aweso...               164   \n",
       "9    the power outlets are at the base of the windo...               262   \n",
       "10   their famous velvet foam really is velvet get ...               379   \n",
       "11   employees are very nice  i used to go here ver...               549   \n",
       "12   great service convenient and you can bring you...               443   \n",
       "13    friendly little neighborhood so convenience s...                 8   \n",
       "14   friendly staff and good coffee  a few assorted...                93   \n",
       "15   the lady concocted a nice cold brew for me and...               166   \n",
       "16   loving the vibes here milk is frothed perfectl...               207   \n",
       "17   try the bean freeze if you want something cold...               657   \n",
       "18                       maria makes the best coffee                   5   \n",
       "19   filbert waffle nutella vanilla yogurt and cand...               336   \n",
       "20   best mountain view with a cup of coffee hot ch...                36   \n",
       "21   the cubano was so yummy i am hooked a double s...               435   \n",
       "22   i live upstairs and i visit frequently this of...               241   \n",
       "23   i loved chocolate chai will be coming back to ...               469   \n",
       "24   i like the maple scones i cave in and get one ...               309   \n",
       "25   best place to get work done in west seattle co...               183   \n",
       "26   the lemon drop or the salted caramel cupcakes ...               675   \n",
       "27   love the phô here just wish they had more meat...               172   \n",
       "28   the service and staff made you feel completely...               713   \n",
       "29     sweet little store excellent and original es...                81   \n",
       "..                                                 ...               ...   \n",
       "569   i love this place and come here everyday the ...               370   \n",
       "570  the interior is split into a cafe in the front...               301   \n",
       "571  great cozy coffee cafe with excellent design a...               287   \n",
       "572  the flip flops and macaroons are phenomenal gr...                65   \n",
       "573  they make their own pastries in house try some...                18   \n",
       "574  excellent savory crepes  artwork on the wall a...               435   \n",
       "575  the food and beverages here are amazing and th...               443   \n",
       "576  the indooroutdoor fireplace is a welcoming pla...               180   \n",
       "577  top pot donuts are very popular in seattle  th...               630   \n",
       "578  my favorite local cafe caffe vita coffee casua...               387   \n",
       "579  best coffee in the area there are plenty of ta...               304   \n",
       "580   my cousin had her baby shower here in early n...               289   \n",
       "581  hi spot is a good solid breakfast spot where n...               735   \n",
       "582  cupcakes  coffee a great afternoon endulgment ...               279   \n",
       "583  i go to starbucks just to clear my head its a ...               115   \n",
       "584  good grief there are a lot of flies here and i...               194   \n",
       "585  a half decaf americano is a great drink to get...               289   \n",
       "586  for people with dairy allergies get the pietro...               953   \n",
       "587  this place is awesome teas coffee food quality...               830   \n",
       "588  got there a little before officially open stil...               413   \n",
       "589  this shop is where i fell in love with starbuc...                73   \n",
       "590  in the summer ask the staff to pull open the w...               468   \n",
       "591    my name is bryandavid scott i am the former ...                54   \n",
       "592  they source and roast their own coffee and its...               427   \n",
       "593    loved the sambusa one dollar can still buy y...                82   \n",
       "594  ladies restroom locks funny make sure the butt...               276   \n",
       "595  the shahe bleben is so good good coffee great ...                13   \n",
       "596    starbucks is always a great way to get a kic...                82   \n",
       "597                               caddy shack coffee                   3   \n",
       "598  apple muffin is delish great coffee too free w...                12   \n",
       "\n",
       "                             final_address  \n",
       "0                         2742 Alki Ave SW  \n",
       "1                         2726 Alki Ave SW  \n",
       "2                         2676 Alki Ave SW  \n",
       "3                         2536 Alki Ave SW  \n",
       "4                 7001 Seaview Ave NW #170  \n",
       "5                         6408 32nd Ave NW  \n",
       "6                         6415 32nd Ave NW  \n",
       "7                         6408 32nd Ave NW  \n",
       "8                        3103 W Jameson St  \n",
       "9                       3300 W. McGraw St.  \n",
       "10                        3223 W McGraw St  \n",
       "11                       2622 NW Market St  \n",
       "12                     4701 SW Admiral Way  \n",
       "13                       4217 Gilman Ave W  \n",
       "14                         2408 NW 80th St  \n",
       "15                        7001 24th Ave NW  \n",
       "16                        6420 24th Ave NW  \n",
       "17                        5819 24th Ave NW  \n",
       "18                         2237 NW 58th St  \n",
       "19                        5615 24th Ave NW  \n",
       "20                     4101 SW Admiral Way  \n",
       "21                  2600 California Ave SW  \n",
       "22                  2735 California Ave SW  \n",
       "23                  4410 California Ave SW  \n",
       "24                  4451 California Ave SW  \n",
       "25                      4301 SW Edmunds St  \n",
       "26                  4556 California Ave SW  \n",
       "27                  4822 California Ave SW  \n",
       "28                  5612 California Ave SW  \n",
       "29                  6032 California Ave SW  \n",
       "..                                     ...  \n",
       "569                      11003 35th Ave NE  \n",
       "570                        3404 NE 55th St  \n",
       "571                        1418 31st Ave S  \n",
       "572                        1368 31st Ave S  \n",
       "573       7148 Martin Luther King Jr Way S  \n",
       "574                       8617 35th Ave NE  \n",
       "575                       8210 35th Ave NE  \n",
       "576                    7303 35th Avenue NE  \n",
       "577                       6855 35th Ave NE  \n",
       "578                       7001 35th Ave NE  \n",
       "579                       5508 35th Ave NE  \n",
       "580                        3614 NE 45th St  \n",
       "581                          1410 34th Ave  \n",
       "582                          1101 34th Ave  \n",
       "583              3820 Rainier Avenue South  \n",
       "584                       121 Lakeside Ave  \n",
       "585                 4824 Rainier Ave South  \n",
       "586                     4918 Rainier Ave S  \n",
       "587                      3829 S Edmunds St  \n",
       "588  6310 Martin Luther King Jr. Way South  \n",
       "589                 4800 Sand Point Way NE  \n",
       "590                   4000 East Madison St  \n",
       "591                       4409 S Hudson St  \n",
       "592               5600 Rainier Ave S Ste A  \n",
       "593                5811 Rainier Ave S #114  \n",
       "594                      5028 Wilson Ave S  \n",
       "595                     8136 Rainier Ave S  \n",
       "596                     9262 Rainier Ave S  \n",
       "597                        6310 NE 74th St  \n",
       "598                        9252 57th Ave S  \n",
       "\n",
       "[599 rows x 6 columns]"
      ]
     },
     "execution_count": 303,
     "metadata": {},
     "output_type": "execute_result"
    }
   ],
   "source": [
    "data_less_columns"
   ]
  },
  {
   "cell_type": "code",
   "execution_count": 321,
   "metadata": {
    "collapsed": true
   },
   "outputs": [],
   "source": [
    "data_not_starbucks = data_less_columns[data_less_columns['name'] != 'Starbucks'].reset_index().drop('index', axis=1)"
   ]
  },
  {
   "cell_type": "code",
   "execution_count": 322,
   "metadata": {
    "collapsed": true
   },
   "outputs": [],
   "source": [
    "data_not_starbucks.to_csv('data/data_not_starbucks.csv')"
   ]
  },
  {
   "cell_type": "code",
   "execution_count": 94,
   "metadata": {
    "collapsed": true
   },
   "outputs": [],
   "source": [
    "data_not_starbucks = pd.read_csv('data/data_not_starbucks.csv').drop('Unnamed: 0', axis=1)"
   ]
  },
  {
   "cell_type": "markdown",
   "metadata": {},
   "source": [
    "#### Add google photoids to dataframe"
   ]
  },
  {
   "cell_type": "code",
   "execution_count": 22,
   "metadata": {},
   "outputs": [
    {
     "name": "stdout",
     "output_type": "stream",
     "text": [
      "/Users/ReddingSkinnyRobot/Galvanize/capstone_project/website\n"
     ]
    }
   ],
   "source": [
    "cd website"
   ]
  },
  {
   "cell_type": "code",
   "execution_count": 25,
   "metadata": {
    "collapsed": true
   },
   "outputs": [],
   "source": [
    "from google_api_functions import *"
   ]
  },
  {
   "cell_type": "code",
   "execution_count": 27,
   "metadata": {
    "collapsed": true
   },
   "outputs": [],
   "source": [
    "data_not_starbucks['google_image_content'] = data_not_starbucks.apply(lambda row: \n",
    "                                                                      get_google_photo(row['location.lat'],\n",
    "                                                                                       row['location.lng'],\n",
    "                                                                                       row['name'],\n",
    "                                                                                       google_secrets['key']),\n",
    "                                                                      axis=1)"
   ]
  },
  {
   "cell_type": "code",
   "execution_count": 39,
   "metadata": {
    "collapsed": true
   },
   "outputs": [],
   "source": [
    "no_image = data_not_starbucks['google_image_content'][4]"
   ]
  },
  {
   "cell_type": "code",
   "execution_count": 63,
   "metadata": {
    "collapsed": true
   },
   "outputs": [],
   "source": [
    "import base64"
   ]
  },
  {
   "cell_type": "code",
   "execution_count": 88,
   "metadata": {
    "collapsed": true
   },
   "outputs": [],
   "source": [
    "def get_base64(_bytes):\n",
    "    try:\n",
    "        return base64.b64encode(_bytes).decode()\n",
    "    except:\n",
    "        return None"
   ]
  },
  {
   "cell_type": "code",
   "execution_count": 89,
   "metadata": {
    "collapsed": true
   },
   "outputs": [],
   "source": [
    "data_not_starbucks['base64_google_images'] = data_not_starbucks.apply(lambda row: \n",
    "                                                                      get_base64(row['google_image_content']),\n",
    "                                                                      axis=1)"
   ]
  },
  {
   "cell_type": "code",
   "execution_count": 93,
   "metadata": {
    "collapsed": true
   },
   "outputs": [],
   "source": [
    "data_not_starbucks.to_csv('data/data_not_starbucks.csv')"
   ]
  },
  {
   "cell_type": "code",
   "execution_count": 96,
   "metadata": {
    "collapsed": true
   },
   "outputs": [],
   "source": [
    "testunit = data_not_starbucks.iloc[1]"
   ]
  },
  {
   "cell_type": "code",
   "execution_count": 98,
   "metadata": {
    "collapsed": true
   },
   "outputs": [],
   "source": [
    "data_not_starbucks['google_image_id'] = data_not_starbucks.apply(lambda row:\n",
    "                                                                 get_google_api_photo_id(row['location.lat'],\n",
    "                                                                                         row['location.lng'],\n",
    "                                                                                         row['name'],\n",
    "                                                                                         google_secrets['key']),\n",
    "                                                                 axis=1)"
   ]
  },
  {
   "cell_type": "markdown",
   "metadata": {},
   "source": [
    "### Add custom shop ids"
   ]
  },
  {
   "cell_type": "code",
   "execution_count": 100,
   "metadata": {
    "collapsed": true
   },
   "outputs": [],
   "source": [
    "data_not_starbucks['shop_id'] = [x for x in range(data_not_starbucks.shape[0])]"
   ]
  },
  {
   "cell_type": "code",
   "execution_count": 162,
   "metadata": {
    "collapsed": true
   },
   "outputs": [],
   "source": [
    "output_data = data_not_starbucks.drop(['google_image_content', 'base64_google_images', 'google_image_id'], axis=1)"
   ]
  },
  {
   "cell_type": "code",
   "execution_count": 164,
   "metadata": {
    "collapsed": true
   },
   "outputs": [],
   "source": [
    "output_data.to_csv('data/data_not_starbucks.csv')"
   ]
  },
  {
   "cell_type": "markdown",
   "metadata": {},
   "source": [
    "### Write photos to disk"
   ]
  },
  {
   "cell_type": "code",
   "execution_count": 181,
   "metadata": {
    "collapsed": true
   },
   "outputs": [],
   "source": [
    "from PIL import Image\n",
    "import io"
   ]
  },
  {
   "cell_type": "code",
   "execution_count": 205,
   "metadata": {
    "collapsed": true
   },
   "outputs": [],
   "source": [
    "for index, row in data_not_starbucks[~data_not_starbucks['google_image_content'].isnull()].iterrows():\n",
    "        try:\n",
    "            image = Image.open(BytesIO(base64.decodebytes(row['base64_google_images'].encode())))\n",
    "            with open('website/static/shop_images/{}.jpg'.format(row['shop_id']), 'wb') as f:  \n",
    "                image.save(f)\n",
    "        except OSError:\n",
    "            continue"
   ]
  },
  {
   "cell_type": "markdown",
   "metadata": {
    "collapsed": true
   },
   "source": [
    "### Getting stats from databases"
   ]
  },
  {
   "cell_type": "code",
   "execution_count": 7,
   "metadata": {
    "collapsed": true
   },
   "outputs": [],
   "source": [
    "db = pd.read_csv('data/seattle_coffeeshops_foursquare_google_yelp.csv')"
   ]
  },
  {
   "cell_type": "code",
   "execution_count": 10,
   "metadata": {},
   "outputs": [
    {
     "data": {
      "text/plain": [
       "Index(['Unnamed: 0', 'id', 'location.address', 'location.city', 'location.lat',\n",
       "       'location.lng', 'location.postalCode', 'location.state', 'name',\n",
       "       'stats.tipCount', 'stats.usersCount', 'tips', 'google_ids',\n",
       "       'google_reviews', 'yelp_ids', 'yelp_reviews'],\n",
       "      dtype='object')"
      ]
     },
     "execution_count": 10,
     "metadata": {},
     "output_type": "execute_result"
    }
   ],
   "source": [
    "db.columns"
   ]
  },
  {
   "cell_type": "code",
   "execution_count": 35,
   "metadata": {
    "collapsed": true
   },
   "outputs": [],
   "source": [
    "num_reviews = db.apply(lambda row: (len(row['tips'].replace('\"',\"'\").split(\"', \")) \n",
    "                                   + len(row['google_reviews'].replace('\"',\"'\").split(\"', \"))\n",
    "                                   + len(row['yelp_reviews'].replace('\"',\"'\").split(\"', \"))),\n",
    "                       axis=1)"
   ]
  },
  {
   "cell_type": "code",
   "execution_count": 37,
   "metadata": {},
   "outputs": [
    {
     "data": {
      "text/plain": [
       "13765"
      ]
     },
     "execution_count": 37,
     "metadata": {},
     "output_type": "execute_result"
    }
   ],
   "source": [
    "num_reviews.sum() #Num reviews"
   ]
  },
  {
   "cell_type": "code",
   "execution_count": 41,
   "metadata": {
    "collapsed": true
   },
   "outputs": [],
   "source": [
    "db_words = pd.read_csv('data/seattle_coffeeshops_combine_reviews.csv')"
   ]
  },
  {
   "cell_type": "code",
   "execution_count": 44,
   "metadata": {},
   "outputs": [],
   "source": [
    "num_words = db_words.apply(lambda row: len(row['combined_reviews'].split(' ')),\n",
    "                     axis=1)"
   ]
  },
  {
   "cell_type": "code",
   "execution_count": 46,
   "metadata": {},
   "outputs": [
    {
     "data": {
      "text/plain": [
       "218786"
      ]
     },
     "execution_count": 46,
     "metadata": {},
     "output_type": "execute_result"
    }
   ],
   "source": [
    "num_words.sum() #Num Words"
   ]
  },
  {
   "cell_type": "code",
   "execution_count": 49,
   "metadata": {},
   "outputs": [
    {
     "data": {
      "text/plain": [
       "870"
      ]
     },
     "execution_count": 49,
     "metadata": {},
     "output_type": "execute_result"
    }
   ],
   "source": [
    "db_words.shape[0] #Num Shops"
   ]
  },
  {
   "cell_type": "code",
   "execution_count": 54,
   "metadata": {
    "collapsed": true
   },
   "outputs": [],
   "source": [
    "db_seattle_only = pd.read_csv('data/seattle_only_shops.csv')"
   ]
  },
  {
   "cell_type": "code",
   "execution_count": 55,
   "metadata": {},
   "outputs": [
    {
     "data": {
      "text/plain": [
       "617"
      ]
     },
     "execution_count": 55,
     "metadata": {},
     "output_type": "execute_result"
    }
   ],
   "source": [
    "db_seattle_only.shape[0] #Num seattle only shops"
   ]
  },
  {
   "cell_type": "code",
   "execution_count": 50,
   "metadata": {
    "collapsed": true
   },
   "outputs": [],
   "source": [
    "db_notS = pd.read_csv('data/data_not_starbucks.csv')"
   ]
  },
  {
   "cell_type": "code",
   "execution_count": 53,
   "metadata": {},
   "outputs": [
    {
     "data": {
      "text/plain": [
       "474"
      ]
     },
     "execution_count": 53,
     "metadata": {},
     "output_type": "execute_result"
    }
   ],
   "source": [
    "db_notS.shape[0] #Num seattle only not starbucks"
   ]
  },
  {
   "cell_type": "code",
   "execution_count": null,
   "metadata": {
    "collapsed": true
   },
   "outputs": [],
   "source": []
  }
 ],
 "metadata": {
  "kernelspec": {
   "display_name": "Python 3",
   "language": "python",
   "name": "python3"
  },
  "language_info": {
   "codemirror_mode": {
    "name": "ipython",
    "version": 3
   },
   "file_extension": ".py",
   "mimetype": "text/x-python",
   "name": "python",
   "nbconvert_exporter": "python",
   "pygments_lexer": "ipython3",
   "version": "3.6.4"
  }
 },
 "nbformat": 4,
 "nbformat_minor": 2
}
