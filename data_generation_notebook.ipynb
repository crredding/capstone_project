{
 "cells": [
  {
   "cell_type": "code",
   "execution_count": 1,
   "metadata": {
    "collapsed": true
   },
   "outputs": [],
   "source": [
    "import json, requests\n",
    "import numpy as np\n",
    "import pandas as pd\n",
    "from pandas.io.json import json_normalize\n",
    "import yaml\n",
    "import ast"
   ]
  },
  {
   "cell_type": "markdown",
   "metadata": {},
   "source": [
    "### Import secret Keys to use with Foursquare API"
   ]
  },
  {
   "cell_type": "code",
   "execution_count": 11,
   "metadata": {
    "collapsed": true
   },
   "outputs": [],
   "source": [
    "with open('/Users/ReddingSkinnyRobot/.secrets/foursquare_api.yaml') as f:\n",
    "    secrets = yaml.load(f)"
   ]
  },
  {
   "cell_type": "markdown",
   "metadata": {},
   "source": [
    "### Calculate bounding limits from http://boundingbox.klokantech.com/ TSV format"
   ]
  },
  {
   "cell_type": "code",
   "execution_count": 12,
   "metadata": {
    "collapsed": true
   },
   "outputs": [],
   "source": [
    "westlimit=-122.459696 #Longitude\n",
    "southlimit=47.491912  #Latitude\n",
    "eastlimit=-122.224433 #Longitude\n",
    "northlimit=47.734145  #Latitude"
   ]
  },
  {
   "cell_type": "code",
   "execution_count": 13,
   "metadata": {
    "collapsed": true
   },
   "outputs": [],
   "source": [
    "km_east_west = (eastlimit - westlimit) * 97\n",
    "km_north_south = (northlimit - southlimit) * 111"
   ]
  },
  {
   "cell_type": "code",
   "execution_count": 14,
   "metadata": {},
   "outputs": [
    {
     "data": {
      "text/plain": [
       "228.20510999998945"
      ]
     },
     "execution_count": 14,
     "metadata": {},
     "output_type": "execute_result"
    }
   ],
   "source": [
    "km_east_west/100*1000 #meters in each grid east west"
   ]
  },
  {
   "cell_type": "code",
   "execution_count": 15,
   "metadata": {},
   "outputs": [
    {
     "data": {
      "text/plain": [
       "268.8786299999987"
      ]
     },
     "execution_count": 15,
     "metadata": {},
     "output_type": "execute_result"
    }
   ],
   "source": [
    "km_north_south/100*1000 #meters in each grid north south"
   ]
  },
  {
   "cell_type": "markdown",
   "metadata": {},
   "source": [
    "Difference between degrees of Longitude is about 60 miles (97km) \n",
    "\n",
    "Difference between degrees of Latitude is about 69 miles (111km)"
   ]
  },
  {
   "cell_type": "markdown",
   "metadata": {},
   "source": [
    "### Define search functions"
   ]
  },
  {
   "cell_type": "code",
   "execution_count": 16,
   "metadata": {
    "collapsed": true
   },
   "outputs": [],
   "source": [
    "def populate_search_params(lat, long):\n",
    "    search_params = dict(\n",
    "        client_id=secrets['client_id'],\n",
    "        client_secret=secrets['client_secret'],\n",
    "        ll = '{}, {}'.format(lat, long),\n",
    "        intent='browse',\n",
    "        radius='200', #Meters\n",
    "        limit='50',\n",
    "        categoryId='4bf58dd8d48988d1e0931735',#Coffee shop\n",
    "        llAcc='1',#Accuracy of lat & long in meters\n",
    "        v='20180113' #Date of current version\n",
    "        )\n",
    "    return search_params"
   ]
  },
  {
   "cell_type": "code",
   "execution_count": 17,
   "metadata": {
    "collapsed": true
   },
   "outputs": [],
   "source": [
    "def get_venue_data(longitude_group, latitude_group):\n",
    "    '''\n",
    "    Takes in lists of longitudes and latitudes and performs a grid search of them, returning a max of 50 coffee\n",
    "    shops per each intersection formatted as a list of json objects.\n",
    "    '''\n",
    "    search_url = 'https://api.foursquare.com/v2/venues/search'\n",
    "    search_list = []\n",
    "    for i, long in enumerate(longitude_group):\n",
    "        for lat in latitude_group:\n",
    "            search_params = populate_search_params(lat, long)\n",
    "            try:\n",
    "                search_resp = requests.get(url=search_url, params=search_params)\n",
    "                search_data = json.loads(search_resp.text)\n",
    "                if search_data['meta']['code'] == 403:\n",
    "                    print('403 error - Exceeded rate limit')\n",
    "                    print(search_data)\n",
    "                    return search_list\n",
    "                search_list.append(search_data)\n",
    "            except:\n",
    "                search_list.append((lat, long))\n",
    "        print('Step {} of {}'.format(i+1, len(longitude_group)))\n",
    "    return search_list"
   ]
  },
  {
   "cell_type": "code",
   "execution_count": 18,
   "metadata": {
    "collapsed": true
   },
   "outputs": [],
   "source": [
    "def write_venue_info_to_file(search_data, filename):\n",
    "    '''\n",
    "    Takes in a list of loaded json objects and writes them to a text file.\n",
    "    '''\n",
    "    venues = []\n",
    "    for item in search_data:\n",
    "        # Checks for empty response\n",
    "        try:\n",
    "            if item['response']['venues'] != []:\n",
    "                for venue in item['response']['venues']:\n",
    "                    venues.append(venue)\n",
    "        except:\n",
    "            continue\n",
    "    with open(filename, 'a') as f:\n",
    "        for item in venues:\n",
    "            f.write(\"{}\\n\".format(item))\n",
    "    print('Done!')"
   ]
  },
  {
   "cell_type": "markdown",
   "metadata": {},
   "source": [
    "### Generate longitude & latitude grids and divide search into smaller groups to avoid breakage during API GET requests"
   ]
  },
  {
   "cell_type": "markdown",
   "metadata": {},
   "source": [
    "#### This needs to be broken into three groups to avoid Foursquare's 5000 requests limit"
   ]
  },
  {
   "cell_type": "code",
   "execution_count": 19,
   "metadata": {
    "collapsed": true
   },
   "outputs": [],
   "source": [
    "number_of_gridlines = 100\n",
    "longitude_grid = np.linspace(westlimit, eastlimit, number_of_gridlines)\n",
    "latitude_group = np.linspace(northlimit, southlimit, number_of_gridlines)"
   ]
  },
  {
   "cell_type": "code",
   "execution_count": 20,
   "metadata": {
    "collapsed": true
   },
   "outputs": [],
   "source": [
    "longitude_group1 = longitude_grid[:33]\n",
    "longitude_group2 = longitude_grid[33:66]\n",
    "longitude_group3 = longitude_grid[66:]"
   ]
  },
  {
   "cell_type": "markdown",
   "metadata": {},
   "source": [
    "### Test single GET from venues/search api"
   ]
  },
  {
   "cell_type": "code",
   "execution_count": 21,
   "metadata": {
    "collapsed": true
   },
   "outputs": [],
   "source": [
    "test_lat = latitude_group[49]"
   ]
  },
  {
   "cell_type": "code",
   "execution_count": 22,
   "metadata": {
    "collapsed": true
   },
   "outputs": [],
   "source": [
    "test_long = longitude_group2[15]"
   ]
  },
  {
   "cell_type": "markdown",
   "metadata": {},
   "source": [
    "<img src=\"images/test_venues_GET_map.jpeg\">"
   ]
  },
  {
   "cell_type": "code",
   "execution_count": 61,
   "metadata": {},
   "outputs": [
    {
     "name": "stdout",
     "output_type": "stream",
     "text": [
      "Step 1 of 1\n"
     ]
    },
    {
     "data": {
      "text/plain": [
       "[{'meta': {'code': 200, 'requestId': '5a6127009fb6b76466b01fb9'},\n",
       "  'response': {'venues': [{'allowMenuUrlEdit': True,\n",
       "     'beenHere': {'lastCheckinExpiredAt': 0},\n",
       "     'categories': [{'icon': {'prefix': 'https://ss3.4sqi.net/img/categories_v2/food/breakfast_',\n",
       "        'suffix': '.png'},\n",
       "       'id': '4bf58dd8d48988d143941735',\n",
       "       'name': 'Breakfast Spot',\n",
       "       'pluralName': 'Breakfast Spots',\n",
       "       'primary': True,\n",
       "       'shortName': 'Breakfast'}],\n",
       "     'contact': {'formattedPhone': '(206) 728-2219',\n",
       "      'phone': '2067282219',\n",
       "      'twitter': 'biscuitbitch'},\n",
       "     'hasPerk': False,\n",
       "     'id': '5510b894498e3dbab70b5d8d',\n",
       "     'location': {'address': '2303 3rd Ave',\n",
       "      'cc': 'US',\n",
       "      'city': 'Seattle',\n",
       "      'country': 'United States',\n",
       "      'crossStreet': '3rd Ave & Bell St',\n",
       "      'distance': 80,\n",
       "      'formattedAddress': ['2303 3rd Ave (3rd Ave & Bell St)',\n",
       "       'Seattle, WA 98121',\n",
       "       'United States'],\n",
       "      'labeledLatLngs': [{'label': 'display',\n",
       "        'lat': 47.614891697736034,\n",
       "        'lng': -122.3451303835674}],\n",
       "      'lat': 47.614891697736034,\n",
       "      'lng': -122.3451303835674,\n",
       "      'postalCode': '98121',\n",
       "      'state': 'WA'},\n",
       "     'menu': {'anchor': 'View Menu',\n",
       "      'externalUrl': 'http://biscuitbitch.com/images/menu.pdf',\n",
       "      'label': 'Menu',\n",
       "      'mobileUrl': 'http://biscuitbitch.com/images/menu.pdf',\n",
       "      'type': 'Menu',\n",
       "      'url': 'http://biscuitbitch.com/images/menu.pdf'},\n",
       "     'name': 'Biscuit Bitch - Belltown',\n",
       "     'referralId': 'v-1516316416',\n",
       "     'specials': {'count': 0, 'items': []},\n",
       "     'stats': {'checkinsCount': 2253, 'tipCount': 35, 'usersCount': 1331},\n",
       "     'url': 'http://biscuitbitch.com',\n",
       "     'venueChains': [],\n",
       "     'verified': False},\n",
       "    {'allowMenuUrlEdit': True,\n",
       "     'beenHere': {'lastCheckinExpiredAt': 0},\n",
       "     'categories': [{'icon': {'prefix': 'https://ss3.4sqi.net/img/categories_v2/food/coffeeshop_',\n",
       "        'suffix': '.png'},\n",
       "       'id': '4bf58dd8d48988d1e0931735',\n",
       "       'name': 'Coffee Shop',\n",
       "       'pluralName': 'Coffee Shops',\n",
       "       'primary': True,\n",
       "       'shortName': 'Coffee Shop'}],\n",
       "     'contact': {'facebook': '117036506160',\n",
       "      'facebookName': 'Bedlam Coffee',\n",
       "      'facebookUsername': 'BedlamCoffee',\n",
       "      'formattedPhone': '(206) 910-2300',\n",
       "      'phone': '2069102300',\n",
       "      'twitter': 'bedlamcoffee'},\n",
       "     'hasMenu': True,\n",
       "     'hasPerk': False,\n",
       "     'id': '4a26f5c5f964a520f47e1fe3',\n",
       "     'location': {'address': '2231 2nd Ave',\n",
       "      'cc': 'US',\n",
       "      'city': 'Seattle',\n",
       "      'country': 'United States',\n",
       "      'crossStreet': 'Bell St',\n",
       "      'distance': 35,\n",
       "      'formattedAddress': ['2231 2nd Ave (Bell St)',\n",
       "       'Seattle, WA 98121',\n",
       "       'United States'],\n",
       "      'labeledLatLngs': [{'label': 'display',\n",
       "        'lat': 47.613948460584,\n",
       "        'lng': -122.34548328955584}],\n",
       "      'lat': 47.613948460584,\n",
       "      'lng': -122.34548328955584,\n",
       "      'postalCode': '98121',\n",
       "      'state': 'WA'},\n",
       "     'menu': {'anchor': 'View Menu',\n",
       "      'label': 'Menu',\n",
       "      'mobileUrl': 'https://foursquare.com/v/4a26f5c5f964a520f47e1fe3/device_menu',\n",
       "      'type': 'Menu',\n",
       "      'url': 'https://foursquare.com/v/bedlam-coffee/4a26f5c5f964a520f47e1fe3/menu'},\n",
       "     'name': 'Bedlam Coffee',\n",
       "     'referralId': 'v-1516316416',\n",
       "     'specials': {'count': 0, 'items': []},\n",
       "     'stats': {'checkinsCount': 8582, 'tipCount': 85, 'usersCount': 2504},\n",
       "     'storeId': '',\n",
       "     'url': 'http://bedlamcoffee.com',\n",
       "     'venueChains': [],\n",
       "     'venuePage': {'id': '89452925'},\n",
       "     'verified': True},\n",
       "    {'allowMenuUrlEdit': True,\n",
       "     'beenHere': {'lastCheckinExpiredAt': 0},\n",
       "     'categories': [{'icon': {'prefix': 'https://ss3.4sqi.net/img/categories_v2/food/coffeeshop_',\n",
       "        'suffix': '.png'},\n",
       "       'id': '4bf58dd8d48988d1e0931735',\n",
       "       'name': 'Coffee Shop',\n",
       "       'pluralName': 'Coffee Shops',\n",
       "       'primary': True,\n",
       "       'shortName': 'Coffee Shop'}],\n",
       "     'contact': {'facebook': '22092443056',\n",
       "      'facebookName': 'Starbucks',\n",
       "      'facebookUsername': 'Starbucks',\n",
       "      'formattedPhone': '(206) 956-4322',\n",
       "      'phone': '2069564322',\n",
       "      'twitter': 'starbucks'},\n",
       "     'hasPerk': False,\n",
       "     'id': '52853dfd11d27f47f7b6162b',\n",
       "     'location': {'address': '2326 1st Avenue',\n",
       "      'cc': 'US',\n",
       "      'city': 'Seattle',\n",
       "      'country': 'United States',\n",
       "      'distance': 128,\n",
       "      'formattedAddress': ['2326 1st Avenue',\n",
       "       'Seattle, WA 98121',\n",
       "       'United States'],\n",
       "      'labeledLatLngs': [{'label': 'display',\n",
       "        'lat': 47.614048,\n",
       "        'lng': -122.34731}],\n",
       "      'lat': 47.614048,\n",
       "      'lng': -122.34731,\n",
       "      'postalCode': '98121',\n",
       "      'state': 'WA'},\n",
       "     'name': 'Starbucks',\n",
       "     'referralId': 'v-1516316416',\n",
       "     'specials': {'count': 0, 'items': []},\n",
       "     'stats': {'checkinsCount': 2596, 'tipCount': 2, 'usersCount': 700},\n",
       "     'storeId': '3218',\n",
       "     'url': 'http://www.starbucks.com/',\n",
       "     'venueChains': [{'id': '556f676fbd6a75a99038d8ec'}],\n",
       "     'verified': True},\n",
       "    {'allowMenuUrlEdit': True,\n",
       "     'beenHere': {'lastCheckinExpiredAt': 0},\n",
       "     'categories': [{'icon': {'prefix': 'https://ss3.4sqi.net/img/categories_v2/food/bakery_',\n",
       "        'suffix': '.png'},\n",
       "       'id': '4bf58dd8d48988d16a941735',\n",
       "       'name': 'Bakery',\n",
       "       'pluralName': 'Bakeries',\n",
       "       'primary': True,\n",
       "       'shortName': 'Bakery'}],\n",
       "     'contact': {'formattedPhone': '(206) 441-4240',\n",
       "      'phone': '2064414240',\n",
       "      'twitter': 'theyellowleaf'},\n",
       "     'hasMenu': True,\n",
       "     'hasPerk': False,\n",
       "     'id': '4a47da55f964a52030aa1fe3',\n",
       "     'location': {'address': '2209 4th Ave',\n",
       "      'cc': 'US',\n",
       "      'city': 'Seattle',\n",
       "      'country': 'United States',\n",
       "      'distance': 191,\n",
       "      'formattedAddress': ['2209 4th Ave',\n",
       "       'Seattle, WA 98121',\n",
       "       'United States'],\n",
       "      'labeledLatLngs': [{'label': 'display',\n",
       "        'lat': 47.61491480216013,\n",
       "        'lng': -122.34326929380106}],\n",
       "      'lat': 47.61491480216013,\n",
       "      'lng': -122.34326929380106,\n",
       "      'postalCode': '98121',\n",
       "      'state': 'WA'},\n",
       "     'menu': {'anchor': 'View Menu',\n",
       "      'externalUrl': 'http://www.theyellowleafcupcake.com/menu/',\n",
       "      'label': 'Menu',\n",
       "      'mobileUrl': 'http://www.theyellowleafcupcake.com/menu/',\n",
       "      'type': 'Menu',\n",
       "      'url': 'http://www.theyellowleafcupcake.com/menu/'},\n",
       "     'name': 'The Yellow Leaf Cupcake Co',\n",
       "     'referralId': 'v-1516316416',\n",
       "     'specials': {'count': 0, 'items': []},\n",
       "     'stats': {'checkinsCount': 2139, 'tipCount': 47, 'usersCount': 1299},\n",
       "     'url': 'http://www.theyellowleafcupcake.com/',\n",
       "     'venueChains': [],\n",
       "     'venuePage': {'id': '151454504'},\n",
       "     'verified': True},\n",
       "    {'allowMenuUrlEdit': True,\n",
       "     'beenHere': {'lastCheckinExpiredAt': 0},\n",
       "     'categories': [{'icon': {'prefix': 'https://ss3.4sqi.net/img/categories_v2/food/italian_',\n",
       "        'suffix': '.png'},\n",
       "       'id': '4bf58dd8d48988d110941735',\n",
       "       'name': 'Italian Restaurant',\n",
       "       'pluralName': 'Italian Restaurants',\n",
       "       'primary': True,\n",
       "       'shortName': 'Italian'}],\n",
       "     'contact': {'formattedPhone': '(206) 441-5322', 'phone': '2064415322'},\n",
       "     'hasMenu': True,\n",
       "     'hasPerk': False,\n",
       "     'id': '427ff980f964a520d7211fe3',\n",
       "     'location': {'address': '2411 2nd Ave',\n",
       "      'cc': 'US',\n",
       "      'city': 'Seattle',\n",
       "      'country': 'United States',\n",
       "      'crossStreet': 'at Wall St and Battery St',\n",
       "      'distance': 159,\n",
       "      'formattedAddress': ['2411 2nd Ave (at Wall St and Battery St)',\n",
       "       'Seattle, WA 98121',\n",
       "       'United States'],\n",
       "      'labeledLatLngs': [{'label': 'display',\n",
       "        'lat': 47.61503812158681,\n",
       "        'lng': -122.34739868446559}],\n",
       "      'lat': 47.61503812158681,\n",
       "      'lng': -122.34739868446559,\n",
       "      'postalCode': '98121',\n",
       "      'state': 'WA'},\n",
       "     'menu': {'anchor': 'View Menu',\n",
       "      'label': 'Menu',\n",
       "      'mobileUrl': 'https://foursquare.com/v/427ff980f964a520d7211fe3/device_menu',\n",
       "      'type': 'Menu',\n",
       "      'url': 'https://foursquare.com/v/la-vita-e-bella/427ff980f964a520d7211fe3/menu'},\n",
       "     'name': 'La Vita e Bella',\n",
       "     'referralId': 'v-1516316416',\n",
       "     'specials': {'count': 0, 'items': []},\n",
       "     'stats': {'checkinsCount': 2212, 'tipCount': 29, 'usersCount': 1228},\n",
       "     'url': 'http://www.lavitaebella.us/',\n",
       "     'venueChains': [],\n",
       "     'verified': False},\n",
       "    {'allowMenuUrlEdit': True,\n",
       "     'beenHere': {'lastCheckinExpiredAt': 0},\n",
       "     'categories': [{'icon': {'prefix': 'https://ss3.4sqi.net/img/categories_v2/food/italian_',\n",
       "        'suffix': '.png'},\n",
       "       'id': '4bf58dd8d48988d110941735',\n",
       "       'name': 'Italian Restaurant',\n",
       "       'pluralName': 'Italian Restaurants',\n",
       "       'primary': True,\n",
       "       'shortName': 'Italian'}],\n",
       "     'contact': {},\n",
       "     'hasPerk': False,\n",
       "     'id': '4b40ee96f964a520b7bd25e3',\n",
       "     'location': {'address': '2417 2nd Ave',\n",
       "      'cc': 'US',\n",
       "      'city': 'Seattle',\n",
       "      'country': 'United States',\n",
       "      'distance': 168,\n",
       "      'formattedAddress': ['2417 2nd Ave', 'Seattle, WA', 'United States'],\n",
       "      'labeledLatLngs': [{'label': 'display',\n",
       "        'lat': 47.615099441621844,\n",
       "        'lng': -122.34748723963246}],\n",
       "      'lat': 47.615099441621844,\n",
       "      'lng': -122.34748723963246,\n",
       "      'state': 'WA'},\n",
       "     'name': 'La Vita e Bella Express',\n",
       "     'referralId': 'v-1516316416',\n",
       "     'specials': {'count': 0, 'items': []},\n",
       "     'stats': {'checkinsCount': 183, 'tipCount': 3, 'usersCount': 69},\n",
       "     'venueChains': [],\n",
       "     'verified': False}]}}]"
      ]
     },
     "execution_count": 61,
     "metadata": {},
     "output_type": "execute_result"
    }
   ],
   "source": [
    "get_venue_data([test_long], [test_lat])"
   ]
  },
  {
   "cell_type": "markdown",
   "metadata": {},
   "source": [
    "### Search for all venues that match my search params & write them to txt file"
   ]
  },
  {
   "cell_type": "markdown",
   "metadata": {},
   "source": [
    "#### Instantiate an empty venue search list which the following for loops and GET requests will populate"
   ]
  },
  {
   "cell_type": "code",
   "execution_count": null,
   "metadata": {
    "collapsed": true
   },
   "outputs": [],
   "source": [
    "venue_search_list = []\n",
    "search_url = 'https://api.foursquare.com/v2/venues/search'"
   ]
  },
  {
   "cell_type": "markdown",
   "metadata": {},
   "source": [
    "##### Longitude_group 1"
   ]
  },
  {
   "cell_type": "code",
   "execution_count": 15,
   "metadata": {
    "collapsed": true
   },
   "outputs": [
    {
     "name": "stdout",
     "output_type": "stream",
     "text": [
      "Step 1 of 33\n",
      "Step 2 of 33\n",
      "Step 3 of 33\n",
      "Step 4 of 33\n",
      "Step 5 of 33\n",
      "Step 6 of 33\n",
      "Step 7 of 33\n",
      "Step 8 of 33\n",
      "Step 9 of 33\n",
      "Step 10 of 33\n",
      "Step 11 of 33\n",
      "Step 12 of 33\n",
      "Step 13 of 33\n",
      "Step 14 of 33\n",
      "Step 15 of 33\n",
      "Step 16 of 33\n",
      "Step 17 of 33\n",
      "Step 18 of 33\n",
      "Step 19 of 33\n",
      "Step 20 of 33\n",
      "Step 21 of 33\n",
      "Step 22 of 33\n",
      "Step 23 of 33\n",
      "Step 24 of 33\n",
      "Step 25 of 33\n",
      "Step 26 of 33\n",
      "Step 27 of 33\n",
      "Step 28 of 33\n",
      "Step 29 of 33\n",
      "Step 30 of 33\n",
      "Step 31 of 33\n",
      "Step 32 of 33\n",
      "Step 33 of 33\n"
     ]
    }
   ],
   "source": [
    "search_list = get_venue_data(longitude_group1, latitude_group)"
   ]
  },
  {
   "cell_type": "code",
   "execution_count": 32,
   "metadata": {},
   "outputs": [
    {
     "name": "stdout",
     "output_type": "stream",
     "text": [
      "Done!\n"
     ]
    }
   ],
   "source": [
    "write_venue_info_to_file(search_list, 'seattle_venues.txt')"
   ]
  },
  {
   "cell_type": "markdown",
   "metadata": {},
   "source": [
    "##### Longitude_group 2"
   ]
  },
  {
   "cell_type": "code",
   "execution_count": 33,
   "metadata": {
    "collapsed": true
   },
   "outputs": [
    {
     "name": "stdout",
     "output_type": "stream",
     "text": [
      "Step 1 of 33\n",
      "Step 2 of 33\n",
      "Step 3 of 33\n",
      "Step 4 of 33\n",
      "Step 5 of 33\n",
      "Step 6 of 33\n",
      "Step 7 of 33\n",
      "Step 8 of 33\n",
      "Step 9 of 33\n",
      "Step 10 of 33\n",
      "Step 11 of 33\n",
      "Step 12 of 33\n",
      "Step 13 of 33\n",
      "Step 14 of 33\n",
      "Step 15 of 33\n",
      "Step 16 of 33\n",
      "Step 17 of 33\n",
      "Step 18 of 33\n",
      "Step 19 of 33\n",
      "Step 20 of 33\n",
      "Step 21 of 33\n",
      "Step 22 of 33\n",
      "Step 23 of 33\n",
      "Step 24 of 33\n",
      "Step 25 of 33\n",
      "Step 26 of 33\n",
      "Step 27 of 33\n",
      "Step 28 of 33\n",
      "Step 29 of 33\n",
      "Step 30 of 33\n",
      "Step 31 of 33\n",
      "Step 32 of 33\n",
      "Step 33 of 33\n"
     ]
    }
   ],
   "source": [
    "search_list = get_venue_data(longitude_group2, latitude_group)"
   ]
  },
  {
   "cell_type": "code",
   "execution_count": 39,
   "metadata": {},
   "outputs": [
    {
     "name": "stdout",
     "output_type": "stream",
     "text": [
      "Done!\n"
     ]
    }
   ],
   "source": [
    "write_venue_info_to_file(search_list, 'seattle_venues.txt')"
   ]
  },
  {
   "cell_type": "markdown",
   "metadata": {},
   "source": [
    "##### Longitude_group 3"
   ]
  },
  {
   "cell_type": "code",
   "execution_count": 62,
   "metadata": {
    "collapsed": true
   },
   "outputs": [
    {
     "name": "stdout",
     "output_type": "stream",
     "text": [
      "Step 1 of 34\n",
      "Step 2 of 34\n",
      "Step 3 of 34\n",
      "Step 4 of 34\n",
      "Step 5 of 34\n",
      "Step 6 of 34\n",
      "Step 7 of 34\n",
      "Step 8 of 34\n",
      "Step 9 of 34\n",
      "Step 10 of 34\n",
      "Step 11 of 34\n",
      "Step 12 of 34\n",
      "Step 13 of 34\n",
      "Step 14 of 34\n",
      "Step 15 of 34\n",
      "Step 16 of 34\n",
      "Step 17 of 34\n",
      "Step 18 of 34\n",
      "Step 19 of 34\n",
      "Step 20 of 34\n",
      "Step 21 of 34\n",
      "Step 22 of 34\n",
      "Step 23 of 34\n",
      "Step 24 of 34\n",
      "Step 25 of 34\n",
      "Step 26 of 34\n",
      "Step 27 of 34\n",
      "Step 28 of 34\n",
      "Step 29 of 34\n",
      "Step 30 of 34\n",
      "Step 31 of 34\n",
      "Step 32 of 34\n",
      "Step 33 of 34\n",
      "Step 34 of 34\n"
     ]
    }
   ],
   "source": [
    "search_list = get_venue_data(longitude_group3, latitude_group)"
   ]
  },
  {
   "cell_type": "code",
   "execution_count": 67,
   "metadata": {},
   "outputs": [
    {
     "name": "stdout",
     "output_type": "stream",
     "text": [
      "Done!\n"
     ]
    }
   ],
   "source": [
    "write_venue_info_to_file(search_list, 'test2.txt')"
   ]
  },
  {
   "cell_type": "markdown",
   "metadata": {},
   "source": [
    "### Iterate through file and extract json info into database"
   ]
  },
  {
   "cell_type": "code",
   "execution_count": 226,
   "metadata": {
    "collapsed": true
   },
   "outputs": [],
   "source": [
    "with open('seattle_venues.txt') as f:\n",
    "    all_venues = []\n",
    "    for item in f:\n",
    "        all_venues.append(ast.literal_eval(item))"
   ]
  },
  {
   "cell_type": "code",
   "execution_count": 231,
   "metadata": {
    "collapsed": true
   },
   "outputs": [],
   "source": [
    "data = json_normalize(all_venues)"
   ]
  },
  {
   "cell_type": "markdown",
   "metadata": {},
   "source": [
    "### Clean database"
   ]
  },
  {
   "cell_type": "code",
   "execution_count": 262,
   "metadata": {
    "collapsed": true
   },
   "outputs": [],
   "source": [
    "columns_to_drop = ['allowMenuUrlEdit', 'beenHere.lastCheckinExpiredAt', 'categories',\n",
    "       'contact.facebook', 'contact.facebookName', 'contact.facebookUsername',\n",
    "       'contact.formattedPhone', 'contact.instagram', 'contact.phone',\n",
    "       'contact.twitter', 'delivery.id', 'delivery.provider.name',\n",
    "       'delivery.url', 'hasMenu', 'hasPerk', 'location.crossStreet', 'location.distance',\n",
    "       'location.formattedAddress', 'location.labeledLatLngs', \n",
    "       'location.neighborhood', 'menu.anchor', 'menu.externalUrl', 'menu.label',\n",
    "       'menu.mobileUrl', 'menu.type', 'menu.url', 'referralId', 'specials.count',\n",
    "       'specials.items', 'stats.checkinsCount', 'venueChains', 'venuePage.id',\n",
    "       'venueRatingBlacklisted', 'verified', 'location.cc', 'location.country', 'storeId', 'url']"
   ]
  },
  {
   "cell_type": "code",
   "execution_count": 314,
   "metadata": {
    "collapsed": true
   },
   "outputs": [],
   "source": [
    "data_with_dropped_columns = data.drop(labels=columns_to_drop, axis=1)"
   ]
  },
  {
   "cell_type": "code",
   "execution_count": 315,
   "metadata": {
    "collapsed": true
   },
   "outputs": [],
   "source": [
    "data_filtered = data_with_dropped_columns.drop_duplicates(subset='id').reset_index().drop('index', axis=1)"
   ]
  },
  {
   "cell_type": "code",
   "execution_count": 318,
   "metadata": {},
   "outputs": [
    {
     "name": "stdout",
     "output_type": "stream",
     "text": [
      "<class 'pandas.core.frame.DataFrame'>\n",
      "RangeIndex: 870 entries, 0 to 869\n",
      "Data columns (total 10 columns):\n",
      "id                     870 non-null object\n",
      "location.address       746 non-null object\n",
      "location.city          861 non-null object\n",
      "location.lat           870 non-null float64\n",
      "location.lng           870 non-null float64\n",
      "location.postalCode    795 non-null object\n",
      "location.state         870 non-null object\n",
      "name                   870 non-null object\n",
      "stats.tipCount         870 non-null int64\n",
      "stats.usersCount       870 non-null int64\n",
      "dtypes: float64(2), int64(2), object(6)\n",
      "memory usage: 68.0+ KB\n"
     ]
    }
   ],
   "source": [
    "data_filtered.info()"
   ]
  },
  {
   "cell_type": "code",
   "execution_count": null,
   "metadata": {
    "collapsed": true
   },
   "outputs": [],
   "source": []
  },
  {
   "cell_type": "markdown",
   "metadata": {},
   "source": [
    "### Define tips functions"
   ]
  },
  {
   "cell_type": "code",
   "execution_count": 327,
   "metadata": {
    "collapsed": true
   },
   "outputs": [],
   "source": [
    "tips_params = dict(\n",
    "    client_id=secrets['client_id'],\n",
    "    client_secret=secrets['client_secret'],\n",
    "    limit=500,\n",
    "    v='20180113')"
   ]
  },
  {
   "cell_type": "code",
   "execution_count": 333,
   "metadata": {
    "collapsed": true
   },
   "outputs": [],
   "source": [
    "def get_tips_data(venue_id):\n",
    "    '''\n",
    "    Takes in a venue id and performs a GET request to Foursquare's API to retrieve a max of 500 tips formatted\n",
    "    as a json object. Returns a list of strings of tips.\n",
    "    '''\n",
    "    tips_list = []\n",
    "        tips_url = 'https://api.foursquare.com/v2/venues/{}/tips'.format(venue_id)\n",
    "        try:\n",
    "            tips_resp = requests.get(url=tips_url, params=tips_params)\n",
    "            tips_data = json.loads(tips_resp.text)\n",
    "            if tips_data['meta']['code'] == 403:\n",
    "                print('403 error - Exceeded rate limit')\n",
    "                print(tips_data)\n",
    "                return tips_list\n",
    "            for tip in tips_data['response']['tips']['items']:\n",
    "                tips_list.append(tip['text'])\n",
    "        except:\n",
    "            tips_list.append(venue_id)\n",
    "    return tips_list"
   ]
  },
  {
   "cell_type": "markdown",
   "metadata": {},
   "source": [
    "### Test single GET from tips api\n"
   ]
  },
  {
   "cell_type": "code",
   "execution_count": 322,
   "metadata": {
    "collapsed": true
   },
   "outputs": [],
   "source": [
    "test_id = data_filtered.iloc[0]['id']"
   ]
  },
  {
   "cell_type": "code",
   "execution_count": 323,
   "metadata": {},
   "outputs": [
    {
     "data": {
      "text/plain": [
       "'49f2b061f964a5205e6a1fe3'"
      ]
     },
     "execution_count": 323,
     "metadata": {},
     "output_type": "execute_result"
    }
   ],
   "source": [
    "test_id"
   ]
  },
  {
   "cell_type": "code",
   "execution_count": 338,
   "metadata": {},
   "outputs": [
    {
     "data": {
      "text/plain": [
       "['Absolutely incredible view, in my opinion the best in all of Seattle! Just take some time to get your coffee and relax. You can sit outside or near one of the sliding windows!',\n",
       " 'Great views of the beach! Lots of places to plug in laptops. Lots of seating, even sit by the fireplace.',\n",
       " \"Sunday's on alki in the summer are very busy, this place is no exception. Sorely understaffed on a Sunday night. Long wait just to order. 😕\",\n",
       " 'Nicest people work this Starbucks. Best view in town & Relaxing atmosphere.',\n",
       " \"As a Londoner, this is definitely the best view I've ever seen from a Starbucks window!\",\n",
       " 'A fantastic location with a great atmosphere on a Saturday night.',\n",
       " 'Really friendly customer service! Loved it!',\n",
       " 'Nice spot to watch the water while reading a book or working on your laptop.',\n",
       " 'This location is great! Only thing better would be a Starbucks on the top of the Space Needle.  Like Dr. Evil.',\n",
       " \"Try the iced passionfruit lemonade. You won't be disappointed.\",\n",
       " 'The big overstuffed chairs are the best.',\n",
       " 'Coffee, beach views? Yes please!',\n",
       " 'Fantastic chicken and avocado sandwich!',\n",
       " \"Get your drink 'for here', sit and enjoy the view.\",\n",
       " 'Nitro cold brew is damn fine',\n",
       " 'Life goes much slower here at the beach.',\n",
       " 'Doggy paradise',\n",
       " 'Coffee with a view',\n",
       " 'Caramel Brulée Latte!']"
      ]
     },
     "execution_count": 338,
     "metadata": {},
     "output_type": "execute_result"
    }
   ],
   "source": [
    "get_tips_data(test_id)"
   ]
  },
  {
   "cell_type": "markdown",
   "metadata": {},
   "source": [
    "### Get tips into database"
   ]
  },
  {
   "cell_type": "code",
   "execution_count": 346,
   "metadata": {
    "collapsed": true
   },
   "outputs": [],
   "source": [
    "data_filtered['tips'] = data_filtered.apply(lambda row: get_tips_data(row['id']), axis=1)"
   ]
  },
  {
   "cell_type": "code",
   "execution_count": 351,
   "metadata": {
    "collapsed": true
   },
   "outputs": [],
   "source": [
    "data_filtered.to_csv('seattle_coffeeshops_foursquare.csv')"
   ]
  },
  {
   "cell_type": "code",
   "execution_count": 7,
   "metadata": {
    "collapsed": true
   },
   "outputs": [],
   "source": [
    "data_filtered = pd.read_csv('seattle_coffeeshops_foursquare.csv').drop('Unnamed: 0', axis=1)"
   ]
  },
  {
   "cell_type": "markdown",
   "metadata": {},
   "source": [
    "### Define functions for Google's API"
   ]
  },
  {
   "cell_type": "code",
   "execution_count": 71,
   "metadata": {
    "collapsed": true
   },
   "outputs": [],
   "source": [
    "with open('/Users/ReddingSkinnyRobot/.secrets/google_api.yaml') as f:\n",
    "    google_secrets = yaml.load(f)"
   ]
  },
  {
   "cell_type": "code",
   "execution_count": 72,
   "metadata": {
    "collapsed": true
   },
   "outputs": [],
   "source": [
    "def populate_google_search_url(lat, lng, place_name, api_key):\n",
    "    '''\n",
    "    Takes in latitude, longitude, place name (sting), and Google api key, and outputs the applicable api url.\n",
    "    '''\n",
    "    google_search_url = 'https://maps.googleapis.com/maps/api/place/nearbysearch/json?location={},{}&radius=5&language=english&keyword={}&key={}'.format(lat, lng, place_name, api_key)\n",
    "    return google_search_url"
   ]
  },
  {
   "cell_type": "code",
   "execution_count": 167,
   "metadata": {
    "collapsed": true
   },
   "outputs": [],
   "source": [
    "def get_google_api_id(lat, lng, name, api_key):\n",
    "    '''\n",
    "    Takes in latitude, longitude, name, and Google API key and outputs Google's place id for location.\n",
    "    '''\n",
    "    search_url = populate_google_search_url(lat, lng, name, api_key)\n",
    "    search_resp = requests.get(url=search_url)\n",
    "    search_data = json.loads(search_resp.text)\n",
    "    try:\n",
    "        return search_data['results'][0]['place_id']\n",
    "    except:\n",
    "        return None"
   ]
  },
  {
   "cell_type": "code",
   "execution_count": 168,
   "metadata": {
    "collapsed": true
   },
   "outputs": [],
   "source": [
    "def populate_google_details_url(google_id, api_key):\n",
    "    '''\n",
    "    Takes in place id and Google api key, and outputs the applicable api url.\n",
    "    '''\n",
    "    google_details_url = 'https://maps.googleapis.com/maps/api/place/details/json?placeid={}&language=english&key={}'.format(google_id, api_key)\n",
    "    return google_details_url"
   ]
  },
  {
   "cell_type": "code",
   "execution_count": 169,
   "metadata": {
    "collapsed": true
   },
   "outputs": [],
   "source": [
    "def get_google_id_reviews(google_id, api_key):\n",
    "    '''\n",
    "    Takes in place id and Google API key and outputs text reviews for locations.\n",
    "    '''\n",
    "    details_url = populate_google_details_url(google_id, api_key)\n",
    "    details_resp = requests.get(url=details_url)\n",
    "    details_data = json.loads(details_resp.text)\n",
    "    reviews_list = []\n",
    "    try:\n",
    "        for review in details_data['result']['reviews']:\n",
    "            reviews_list.append(review['text'])\n",
    "        return reviews_list\n",
    "    except:\n",
    "        return reviews_list"
   ]
  },
  {
   "cell_type": "markdown",
   "metadata": {},
   "source": [
    "### Test one pull from Google's search API"
   ]
  },
  {
   "cell_type": "code",
   "execution_count": 134,
   "metadata": {
    "collapsed": true
   },
   "outputs": [],
   "source": [
    "test_id = get_google_api_id(data_filtered.iloc[2]['location.lat'], data_filtered.iloc[2]['location.lng'], data_filtered.iloc[2]['name'], google_secrets['key'])"
   ]
  },
  {
   "cell_type": "code",
   "execution_count": 135,
   "metadata": {},
   "outputs": [
    {
     "data": {
      "text/plain": [
       "'ChIJJWcEGoZAkFQRjPWwxLTuX-g'"
      ]
     },
     "execution_count": 135,
     "metadata": {},
     "output_type": "execute_result"
    }
   ],
   "source": [
    "test_id"
   ]
  },
  {
   "cell_type": "markdown",
   "metadata": {},
   "source": [
    "### Test one pull from Google's details API"
   ]
  },
  {
   "cell_type": "code",
   "execution_count": 161,
   "metadata": {
    "collapsed": true
   },
   "outputs": [],
   "source": [
    "test_details = get_google_id_reviews(test_id, google_secrets['key'])"
   ]
  },
  {
   "cell_type": "code",
   "execution_count": 166,
   "metadata": {},
   "outputs": [
    {
     "data": {
      "text/plain": [
       "[\"First of all props for opening on Christmas. Only coffee to be open! The place is cozy and has a nice fireplace for this winter weather. We ordered the white mocha and the black mocha and both were rich and delicious. \\n\\nThe egg nog latte wasn't as outstanding. \\nIt's a good place if you are tired of the same old coffee places in Seattle. \\nIt's a good spot to stop for a drink and walk around the beach.\",\n",
       " \"Sort of run down. Good coffee though. TV does not work, Jacks on the wall broken. Lots of little he's in the walls. Some dirty tables.  I think there is a reason why the other coffee shop is always packed.\",\n",
       " \"You're employees are unprofessional, playing with cleaning tools taking selfies, ignoring customers. Inappropriately touching eachother. They didn't even put shots of coffee in one drink I ordered, and didn't put cream in the other. When asked to fix they argued that there was nothing wrong. The female is eating food behind the counter. One employee is not even in uniform or weari BFF a name tag. Touching everything like it's toys where is the manager?! Do you not expect food safety standards? Coffee was also cold after being ordered extra hot. Employee put hand in trash pulled out trash to fiddle with then touched products. Disgusting.\",\n",
       " \"How best to assess a fair rating for this Tully's location?\\n\\nThe coffees and teas are excellent, the food items tasty. The room is comfortable, with many chairs and tables, a fireplace to help warm up after enduring the often-chilly air outside. But. Trash litters the tables, the chairs, the floor. Customers are left to 'bus' their select seats and table. Worse, the bathrooms are routinely out of paper goods: no toilet paper, no toilet seat covers, no paper (hand) towels.\\n\\nSo, an averaged three stars: 5 stars for the coffees and teas, etc, 1 star for the cleanliness.\",\n",
       " \"Coffee is fantastic... but my goodness there's a lady in there GENA that needs to learn how to treat her coworkers more importantly her customers. No complaints on coffee though,that is great.\"]"
      ]
     },
     "execution_count": 166,
     "metadata": {},
     "output_type": "execute_result"
    }
   ],
   "source": [
    "test_details"
   ]
  },
  {
   "cell_type": "markdown",
   "metadata": {},
   "source": [
    "### Pull from Google's search API to get google_ids"
   ]
  },
  {
   "cell_type": "code",
   "execution_count": 170,
   "metadata": {
    "collapsed": true
   },
   "outputs": [],
   "source": [
    "data_filtered['google_ids'] = data_filtered.apply(lambda row: get_google_api_id(row['location.lat'],\n",
    "                                                                                row['location.lng'],\n",
    "                                                                                row['name'],\n",
    "                                                                                google_secrets['key']),\n",
    "                                                                                axis=1)"
   ]
  },
  {
   "cell_type": "markdown",
   "metadata": {},
   "source": [
    "### Pull from Google's search API to get reviews"
   ]
  },
  {
   "cell_type": "code",
   "execution_count": 173,
   "metadata": {
    "collapsed": true
   },
   "outputs": [],
   "source": [
    "data_filtered['google_reviews'] = data_filtered.apply(lambda row: get_google_id_reviews(row['google_ids'],\n",
    "                                                                                google_secrets['key']),\n",
    "                                                                                axis=1)"
   ]
  },
  {
   "cell_type": "markdown",
   "metadata": {},
   "source": [
    "### Define functions for Yelp's API"
   ]
  },
  {
   "cell_type": "code",
   "execution_count": 182,
   "metadata": {
    "collapsed": true
   },
   "outputs": [],
   "source": [
    "with open('/Users/ReddingSkinnyRobot/.secrets/yelp_api.yaml') as f:\n",
    "    yelp_secrets = yaml.load(f)"
   ]
  },
  {
   "cell_type": "code",
   "execution_count": 179,
   "metadata": {
    "collapsed": true
   },
   "outputs": [],
   "source": [
    "def yelp_search_params(lat, lng, name):\n",
    "    search_params = dict(\n",
    "        term=name,\n",
    "        latitude=lat,\n",
    "        longitude=lng,\n",
    "        radius=20,\n",
    "        limit=1,\n",
    "        )\n",
    "    return search_params"
   ]
  },
  {
   "cell_type": "code",
   "execution_count": 236,
   "metadata": {
    "collapsed": true
   },
   "outputs": [],
   "source": [
    "def get_yelp_api_id(lat, lng, name, key):\n",
    "    '''\n",
    "    Takes in latitude, longitude, name, and Yelp's API key and outputs Yelp's id for location.\n",
    "    '''\n",
    "    yelp_search_url = 'https://api.yelp.com/v3/businesses/search'\n",
    "    search_params = yelp_search_params(lat, lng, name)\n",
    "    search_resp = requests.get(url=yelp_search_url, params=search_params, \n",
    "                               headers={'Authorization':'Bearer {}'.format(key)})\n",
    "    search_data = json.loads(search_resp.text)\n",
    "    try:\n",
    "        return search_data['businesses'][0]['id']\n",
    "    except:\n",
    "        return None"
   ]
  },
  {
   "cell_type": "code",
   "execution_count": 203,
   "metadata": {
    "collapsed": true
   },
   "outputs": [],
   "source": [
    "def populate_yelp_reviews_url(yelp_id):\n",
    "    '''\n",
    "    Takes in Yelp id and outputs the applicable api url.\n",
    "    '''\n",
    "    yelp_reviews_url = 'https://api.yelp.com/v3/businesses/{}/reviews'.format(yelp_id)\n",
    "    return yelp_reviews_url"
   ]
  },
  {
   "cell_type": "code",
   "execution_count": 219,
   "metadata": {
    "collapsed": true
   },
   "outputs": [],
   "source": [
    "def get_yelp_id_reviews(yelp_id, api_key):\n",
    "    '''\n",
    "    Takes in Yelp id and Yelp API key and outputs text reviews for locations.\n",
    "    '''\n",
    "    yelp_reviews_url = populate_yelp_reviews_url(yelp_id)\n",
    "    reviews_resp = requests.get(url=yelp_reviews_url, params={'locale':'en_US'},\n",
    "                               headers={'Authorization':'Bearer {}'.format(api_key)})\n",
    "    reviews_data = json.loads(reviews_resp.text)\n",
    "    #return reviews_data\n",
    "    reviews_list = []\n",
    "    try:\n",
    "        for review in reviews_data['reviews']:\n",
    "            reviews_list.append(review['text'])\n",
    "        return reviews_list\n",
    "    except:\n",
    "        return reviews_list"
   ]
  },
  {
   "cell_type": "markdown",
   "metadata": {},
   "source": [
    "### Test one GET request on Yelp's search API"
   ]
  },
  {
   "cell_type": "code",
   "execution_count": 206,
   "metadata": {
    "collapsed": true
   },
   "outputs": [],
   "source": [
    "yelp_test_id = get_yelp_api_id(data_filtered.iloc[2]['location.lat'], \n",
    "                data_filtered.iloc[2]['location.lng'], \n",
    "                data_filtered.iloc[2]['name'],\n",
    "                yelp_secrets['api_key'])"
   ]
  },
  {
   "cell_type": "code",
   "execution_count": 207,
   "metadata": {},
   "outputs": [
    {
     "data": {
      "text/plain": [
       "'tullys-coffee-seattle-9'"
      ]
     },
     "execution_count": 207,
     "metadata": {},
     "output_type": "execute_result"
    }
   ],
   "source": [
    "yelp_test_id"
   ]
  },
  {
   "cell_type": "markdown",
   "metadata": {},
   "source": [
    "### Test one GET request on Yelp's reviews API"
   ]
  },
  {
   "cell_type": "code",
   "execution_count": 220,
   "metadata": {
    "collapsed": true
   },
   "outputs": [],
   "source": [
    "test_reviews = get_yelp_id_reviews(yelp_test_id, yelp_secrets['api_key'])"
   ]
  },
  {
   "cell_type": "code",
   "execution_count": 221,
   "metadata": {},
   "outputs": [
    {
     "data": {
      "text/plain": [
       "[\"After walking around the beach looking for coffee I was so pleased to find Tully's Coffee. My drink was so well made and soooooooooooo well needed. The...\",\n",
       " '15 to 20 minute wait for a Blended Mocha?\\nAt this point it should be just complimentary',\n",
       " \"I'm writing this with sadness. I love Tully's. I use to come in nearly every day. But I feel like once the old manager left, everything went downhill....\"]"
      ]
     },
     "execution_count": 221,
     "metadata": {},
     "output_type": "execute_result"
    }
   ],
   "source": [
    "test_reviews"
   ]
  },
  {
   "cell_type": "markdown",
   "metadata": {},
   "source": [
    "### Pull from Yelp's search API to get ids"
   ]
  },
  {
   "cell_type": "code",
   "execution_count": 241,
   "metadata": {
    "collapsed": true,
    "scrolled": true
   },
   "outputs": [],
   "source": [
    "data_filtered['yelp_ids'] = data_filtered.apply(lambda row: get_yelp_api_id(row['location.lat'], \n",
    "                                                                            row['location.lng'], \n",
    "                                                                            row['name'], \n",
    "                                                                            yelp_secrets['api_key']), \n",
    "                                                axis=1)"
   ]
  },
  {
   "cell_type": "markdown",
   "metadata": {},
   "source": [
    "### Pull from Yelp's reviews API to get reviews"
   ]
  },
  {
   "cell_type": "code",
   "execution_count": 244,
   "metadata": {
    "collapsed": true
   },
   "outputs": [],
   "source": [
    "data_filtered['yelp_reviews'] = data_filtered.apply(lambda row: get_yelp_id_reviews(row['yelp_ids'], \n",
    "                                                                                    yelp_secrets['api_key']), \n",
    "                                                    axis=1)"
   ]
  },
  {
   "cell_type": "markdown",
   "metadata": {},
   "source": [
    "### Clean and combine text data"
   ]
  },
  {
   "cell_type": "code",
   "execution_count": 278,
   "metadata": {
    "collapsed": true
   },
   "outputs": [],
   "source": [
    "import string"
   ]
  },
  {
   "cell_type": "code",
   "execution_count": 314,
   "metadata": {
    "collapsed": true
   },
   "outputs": [],
   "source": [
    "translator = str.maketrans('', '', string.punctuation)"
   ]
  },
  {
   "cell_type": "code",
   "execution_count": 378,
   "metadata": {
    "collapsed": true
   },
   "outputs": [],
   "source": [
    "data_filtered['tips_clean'] = data_filtered.apply(lambda row: row['tips'].translate(translator).lower().replace('\\n',' '), axis=1)"
   ]
  },
  {
   "cell_type": "code",
   "execution_count": 379,
   "metadata": {
    "collapsed": true
   },
   "outputs": [],
   "source": [
    "data_filtered['google_reviews_clean'] = data_filtered.apply(lambda row: ' '.join(row['google_reviews']).translate(translator).lower().replace('\\n',' '), axis=1)"
   ]
  },
  {
   "cell_type": "code",
   "execution_count": 380,
   "metadata": {
    "collapsed": true
   },
   "outputs": [],
   "source": [
    "data_filtered['yelp_reviews_clean'] = data_filtered.apply(lambda row: ' '.join(row['yelp_reviews']).translate(translator).lower().replace('\\n',' '), axis=1)"
   ]
  },
  {
   "cell_type": "code",
   "execution_count": 381,
   "metadata": {
    "collapsed": true
   },
   "outputs": [],
   "source": [
    "data_filtered['combined_reviews'] = data_filtered.apply(lambda row: ' '.join([row['tips_clean'], \n",
    "                                                                              row['google_reviews_clean'],\n",
    "                                                                              row['yelp_reviews_clean']]),\n",
    "                                                       axis=1)"
   ]
  },
  {
   "cell_type": "code",
   "execution_count": 382,
   "metadata": {
    "collapsed": true
   },
   "outputs": [],
   "source": [
    "data_filtered.to_csv('seattle_coffeeshops_combine_reviews.csv')"
   ]
  },
  {
   "cell_type": "code",
   "execution_count": 383,
   "metadata": {},
   "outputs": [
    {
     "data": {
      "text/plain": [
       "'ladies restroom locks funny make sure the button is pushed in all the way good selection of beers too coffee ftw nice working setup write a novel it worked for me drink coffee all day then get a beer a pcc across the street caffe vita is an excellent coffee shop the croissants and old fashioned donuts are excellent and the coffee is tasty the hot chocolate is very flavorful and its overall a great chain great latte sweet vibes quiet place to work knowledgeable and friendly staff it is part of my job to help businesses with certain building repair many places have proven to be quite rude to my industry this place was very friendly treated me like a human and the atmosphere was very cozy i get to see the kitchens in these places this cafe has an enormous kitchen witch also proved to be very clean i was quite impressed great relaxing vibe with lovely baristas this is a great place to get work done it feels big and open unlike the typical claustrophobic seattle coffee shops for noncoffeedrinkers vita has a selection of delicious local kombucha  the caffe vita in seward park worked with us for our green seattle day and were incredibly accommodating in our requests and provided delicious coffee for came once over the weekend to work  you have to get there early to get a table if youre planning on parking there and working for awhile  i actually poor service  the barista was too busy chatting with the local guy to take my order for five minutes and there was no one else in line  ordered a pour'"
      ]
     },
     "execution_count": 383,
     "metadata": {},
     "output_type": "execute_result"
    }
   ],
   "source": [
    "data_filtered['combined_reviews'][842]"
   ]
  },
  {
   "cell_type": "code",
   "execution_count": 2,
   "metadata": {
    "collapsed": true
   },
   "outputs": [],
   "source": [
    "data_filtered = pd.read_csv('seattle_coffeeshops_combine_reviews.csv')"
   ]
  },
  {
   "cell_type": "code",
   "execution_count": 6,
   "metadata": {},
   "outputs": [
    {
     "data": {
      "text/plain": [
       "' clean and friendly atmosphere i love sitting next to the electric fireplace and reading the paper there also a nice bar along the windows with outlets if you need a quite and chill place to do some work they have great coffee they use sleepy monk roasters it’s a cozy spot i like the style of the space  it has an open modern feel with some retro accents and lots of light  and the coffee just might be the best ive had anywhere i am so glad  that i gave this place a try i only drink latte and am picky about it i can honestly say this place has the best latte in town great flavor and served at perfect temperature  cute spot tucked away off broadway half a block down from the qfc and library  they just opened so theyre not as packed as some of the other cafes around which means youre more likely to find a seat  great coffee friendly baristas refreshingly unpretentious  there are outlets for laptops in the cozy brightly decorated space  they use a roaster from cannon beach oregon called sleepy monk  smooth delicious espresso  they have all the alternative milk options soy coconut hemp and almond milk nice little place with good veggie food and a nice japanese green tea the staff is super friendly but tend to get caught up in chores and dont notice im a big fan of the original downpour coffee in redmond  it started as i recall as cafe due ragazze or girls cafe  i enjoy stopping in at the redmond very cool spot off of the beaten path good seating options and a good environment to study  nice to enjoy quality coffee with a mellow environment in'"
      ]
     },
     "execution_count": 6,
     "metadata": {},
     "output_type": "execute_result"
    }
   ],
   "source": [
    "data_filtered['combined_reviews'][600]"
   ]
  },
  {
   "cell_type": "code",
   "execution_count": null,
   "metadata": {
    "collapsed": true
   },
   "outputs": [],
   "source": []
  }
 ],
 "metadata": {
  "kernelspec": {
   "display_name": "Python 3",
   "language": "python",
   "name": "python3"
  },
  "language_info": {
   "codemirror_mode": {
    "name": "ipython",
    "version": 3
   },
   "file_extension": ".py",
   "mimetype": "text/x-python",
   "name": "python",
   "nbconvert_exporter": "python",
   "pygments_lexer": "ipython3",
   "version": "3.6.3"
  }
 },
 "nbformat": 4,
 "nbformat_minor": 2
}
