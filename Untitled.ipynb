{
 "cells": [
  {
   "cell_type": "code",
   "execution_count": 10,
   "metadata": {
    "collapsed": true
   },
   "outputs": [],
   "source": [
    "def max_sublist(numbers):\n",
    "    best_beg_i = 0\n",
    "    best_end_i = 0\n",
    "    best_sum = 0\n",
    "    for beg_i in range(len(numbers)+1):\n",
    "        for end_i in range(beg_i, len(numbers)+1):\n",
    "            temp_sum = sum(numbers[beg_i:end_i])\n",
    "            if temp_sum > best_sum:\n",
    "                best_beg_i = beg_i\n",
    "                best_end_i = end_i\n",
    "                best_sum = temp_sum\n",
    "    if best_sum == 0:\n",
    "        return [max(numbers)]\n",
    "    else:\n",
    "        return numbers[best_beg_i:best_end_i]"
   ]
  },
  {
   "cell_type": "code",
   "execution_count": null,
   "metadata": {
    "collapsed": true
   },
   "outputs": [],
   "source": []
  }
 ],
 "metadata": {
  "kernelspec": {
   "display_name": "Python 3",
   "language": "python",
   "name": "python3"
  },
  "language_info": {
   "codemirror_mode": {
    "name": "ipython",
    "version": 3
   },
   "file_extension": ".py",
   "mimetype": "text/x-python",
   "name": "python",
   "nbconvert_exporter": "python",
   "pygments_lexer": "ipython3",
   "version": "3.6.3"
  }
 },
 "nbformat": 4,
 "nbformat_minor": 2
}
