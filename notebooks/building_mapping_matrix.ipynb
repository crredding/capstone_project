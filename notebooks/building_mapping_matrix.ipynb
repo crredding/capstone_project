{
 "cells": [
  {
   "cell_type": "code",
   "execution_count": 1,
   "metadata": {
    "collapsed": true
   },
   "outputs": [],
   "source": [
    "import numpy as np\n",
    "import pandas as pd"
   ]
  },
  {
   "cell_type": "code",
   "execution_count": 2,
   "metadata": {
    "collapsed": true
   },
   "outputs": [],
   "source": [
    "mapping_matrix = np.zeros(shape=(25, 15))"
   ]
  },
  {
   "cell_type": "code",
   "execution_count": 3,
   "metadata": {
    "collapsed": true
   },
   "outputs": [],
   "source": [
    "mapping_features = ['Fun for families', 'Nice for studying and working', 'Lovely ambiance',\n",
    "                   'Hidden neighborhood spot', 'Tasty pastries', 'Nightlife',\n",
    "                   'Exceptional service', 'High end coffee', 'Breakfast bites', 'Quick in and out',\n",
    "                   'Perfect for people watching', 'Cozy and comfy', 'Lunch and snacks', \n",
    "                   'Bustling and busy']"
   ]
  },
  {
   "cell_type": "code",
   "execution_count": 4,
   "metadata": {
    "collapsed": true
   },
   "outputs": [],
   "source": [
    "#Good tea selection\n"
   ]
  },
  {
   "cell_type": "code",
   "execution_count": 28,
   "metadata": {
    "collapsed": true
   },
   "outputs": [],
   "source": [
    "mapping_df = pd.DataFrame(np.zeros(shape=(40,14)), columns=mapping_features)"
   ]
  },
  {
   "cell_type": "code",
   "execution_count": 31,
   "metadata": {},
   "outputs": [
    {
     "data": {
      "text/plain": [
       "Index(['Fun for families', 'Nice for studying and working', 'Lovely ambiance',\n",
       "       'Hidden neighborhood spot', 'Tasty pastries', 'Nightlife',\n",
       "       'Exceptional service', 'High end coffee', 'Breakfast bites',\n",
       "       'Quick in and out', 'Perfect for people watching', 'Cozy and comfy',\n",
       "       'Lunch and snacks', 'Bustling and busy'],\n",
       "      dtype='object')"
      ]
     },
     "execution_count": 31,
     "metadata": {},
     "output_type": "execute_result"
    }
   ],
   "source": [
    "mapping_df.columns"
   ]
  },
  {
   "cell_type": "code",
   "execution_count": 33,
   "metadata": {
    "collapsed": true
   },
   "outputs": [],
   "source": [
    "mapping_df['Fun for families'].iloc[12] = 0.1\n",
    "mapping_df['Fun for families'].iloc[26] = 1.0\n",
    "mapping_df['Fun for families'].iloc[35] = 0.2\n",
    "mapping_df['Fun for families'].iloc[33] = 0.1\n",
    "mapping_df['Nice for studying and working'].iloc[0] = 1.0\n",
    "mapping_df['Nice for studying and working'].iloc[11] = 0.2\n",
    "mapping_df['Nice for studying and working'].iloc[14] = 0.3\n",
    "mapping_df['Lovely ambiance'].iloc[0] = 0.1\n",
    "mapping_df['Lovely ambiance'].iloc[11] = 0.5\n",
    "mapping_df['Lovely ambiance'].iloc[12] = 0.2\n",
    "mapping_df['Lovely ambiance'].iloc[13] = 0.2\n",
    "mapping_df['Lovely ambiance'].iloc[14] = 1.0\n",
    "mapping_df['Lovely ambiance'].iloc[32] = 0.5\n",
    "mapping_df['Lovely ambiance'].iloc[35] = 0.3\n",
    "mapping_df['Hidden neighborhood spot'].iloc[4] = 0.6\n",
    "mapping_df['Hidden neighborhood spot'].iloc[12] = 1.0\n",
    "mapping_df['Hidden neighborhood spot'].iloc[26] = 0.5\n",
    "mapping_df['Hidden neighborhood spot'].iloc[33] = 0.5\n",
    "mapping_df['Hidden neighborhood spot'].iloc[35] = 0.7\n",
    "mapping_df['Tasty pastries'].iloc[4] = 0.4\n",
    "mapping_df['Tasty pastries'].iloc[8] = 0.3\n",
    "mapping_df['Tasty pastries'].iloc[9] = 1.0\n",
    "mapping_df['Tasty pastries'].iloc[10] = 0.3\n",
    "mapping_df['Tasty pastries'].iloc[35] = 0.4\n",
    "mapping_df['Nightlife'].iloc[32] = 1.0\n",
    "mapping_df['Exceptional service'].iloc[6] = -0.7\n",
    "mapping_df['Exceptional service'].iloc[11] = 1.0\n",
    "mapping_df['Exceptional service'].iloc[18] = 0.4\n",
    "mapping_df['Exceptional service'].iloc[24] = 0.6\n",
    "mapping_df['Exceptional service'].iloc[30] = 0.6\n",
    "mapping_df['High end coffee'].iloc[2] = 0.9\n",
    "mapping_df['High end coffee'].iloc[11] = 0.3\n",
    "mapping_df['High end coffee'].iloc[13] = 1.0\n",
    "mapping_df['High end coffee'].iloc[37] = 1.0\n",
    "mapping_df['Breakfast bites'].iloc[1] = 0.9\n",
    "mapping_df['Breakfast bites'].iloc[3] = 0.7\n",
    "mapping_df['Breakfast bites'].iloc[8] = 0.2\n",
    "mapping_df['Breakfast bites'].iloc[9] = 0.2\n",
    "mapping_df['Breakfast bites'].iloc[17] = 0.9\n",
    "mapping_df['Breakfast bites'].iloc[25] = 0.8\n",
    "mapping_df['Breakfast bites'].iloc[38] = 0.8\n",
    "mapping_df['Quick in and out'].iloc[2] = 0.2\n",
    "mapping_df['Quick in and out'].iloc[3] = 0.2\n",
    "mapping_df['Quick in and out'].iloc[4] = 0.1\n",
    "mapping_df['Quick in and out'].iloc[36] = 0.4\n",
    "mapping_df['Perfect for people watching'].iloc[11] = 0.5\n",
    "mapping_df['Perfect for people watching'].iloc[14] = 0.3\n",
    "mapping_df['Perfect for people watching'].iloc[36] = 0.2\n",
    "mapping_df['Perfect for people watching'].iloc[37] = 0.2\n",
    "mapping_df['Cozy and comfy'].iloc[0] = 0.2\n",
    "mapping_df['Cozy and comfy'].iloc[12] = 0.2\n",
    "mapping_df['Cozy and comfy'].iloc[30] = 0.1\n",
    "mapping_df['Lunch and snacks'].iloc[1] = 0.3\n",
    "mapping_df['Lunch and snacks'].iloc[14] = 0.1\n",
    "mapping_df['Lunch and snacks'].iloc[23] = 1.0\n",
    "mapping_df['Lunch and snacks'].iloc[25] = 0.2\n",
    "mapping_df['Lunch and snacks'].iloc[27] = 1\n",
    "mapping_df['Lunch and snacks'].iloc[31] = 1.0\n",
    "mapping_df['Bustling and busy'].iloc[14] = -0.1\n",
    "mapping_df['Bustling and busy'].iloc[19] = 0.1\n",
    "mapping_df['Bustling and busy'].iloc[36] = 0.3\n",
    "mapping_df['Bustling and busy'].iloc[39] = 0.5"
   ]
  },
  {
   "cell_type": "code",
   "execution_count": 36,
   "metadata": {
    "collapsed": true
   },
   "outputs": [],
   "source": [
    "mapping_df.to_csv('../data/mapping_df.csv')"
   ]
  }
 ],
 "metadata": {
  "kernelspec": {
   "display_name": "Python 3",
   "language": "python",
   "name": "python3"
  },
  "language_info": {
   "codemirror_mode": {
    "name": "ipython",
    "version": 3
   },
   "file_extension": ".py",
   "mimetype": "text/x-python",
   "name": "python",
   "nbconvert_exporter": "python",
   "pygments_lexer": "ipython3",
   "version": "3.6.4"
  }
 },
 "nbformat": 4,
 "nbformat_minor": 2
}
