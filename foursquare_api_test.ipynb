{
 "cells": [
  {
   "cell_type": "code",
   "execution_count": 1,
   "metadata": {
    "collapsed": true
   },
   "outputs": [],
   "source": [
    "import json, requests\n",
    "import numpy as np\n",
    "import yaml"
   ]
  },
  {
   "cell_type": "markdown",
   "metadata": {},
   "source": [
    "### Import secret Keys to use with Foursquare API"
   ]
  },
  {
   "cell_type": "code",
   "execution_count": 2,
   "metadata": {
    "collapsed": true
   },
   "outputs": [],
   "source": [
    "with open('/Users/ReddingSkinnyRobot/.secrets/foursquare_api.yaml') as f:\n",
    "    secrets = yaml.load(f)"
   ]
  },
  {
   "cell_type": "markdown",
   "metadata": {},
   "source": [
    "### Calculate bounding limits from http://boundingbox.klokantech.com/ TSV format"
   ]
  },
  {
   "cell_type": "code",
   "execution_count": 3,
   "metadata": {
    "collapsed": true
   },
   "outputs": [],
   "source": [
    "westlimit=-122.459696 #Longitude\n",
    "southlimit=47.491912  #Latitude\n",
    "eastlimit=-122.224433 #Longitude\n",
    "northlimit=47.734145  #Latitude"
   ]
  },
  {
   "cell_type": "code",
   "execution_count": 4,
   "metadata": {
    "collapsed": true
   },
   "outputs": [],
   "source": [
    "km_east_west = (eastlimit - westlimit) * 97\n",
    "km_north_south = (northlimit - southlimit) * 111"
   ]
  },
  {
   "cell_type": "code",
   "execution_count": 5,
   "metadata": {},
   "outputs": [
    {
     "data": {
      "text/plain": [
       "228.20510999998945"
      ]
     },
     "execution_count": 5,
     "metadata": {},
     "output_type": "execute_result"
    }
   ],
   "source": [
    "km_east_west/100*1000 #meters in each grid east west"
   ]
  },
  {
   "cell_type": "code",
   "execution_count": 6,
   "metadata": {},
   "outputs": [
    {
     "data": {
      "text/plain": [
       "268.8786299999987"
      ]
     },
     "execution_count": 6,
     "metadata": {},
     "output_type": "execute_result"
    }
   ],
   "source": [
    "km_north_south/100*1000 #meters in each grid north south"
   ]
  },
  {
   "cell_type": "markdown",
   "metadata": {},
   "source": [
    "Difference between degrees of Longitude is about 60 miles (97km) \n",
    "\n",
    "Difference between degrees of Latitude is about 69 miles (111km)"
   ]
  },
  {
   "cell_type": "markdown",
   "metadata": {},
   "source": [
    "### Define search functions"
   ]
  },
  {
   "cell_type": "code",
   "execution_count": 41,
   "metadata": {
    "collapsed": true
   },
   "outputs": [],
   "source": [
    "def populate_search_params(lat, long):\n",
    "    search_params = dict(\n",
    "        client_id=secrets['client_id'],\n",
    "        client_secret=secrets['client_secret'],\n",
    "        ll = '{}, {}'.format(lat, long),\n",
    "        intent='browse',\n",
    "        radius='200', #Meters\n",
    "        limit='50',\n",
    "        categoryId='4bf58dd8d48988d1e0931735',#Coffee shop\n",
    "        llAcc='1',#Accuracy of lat & long in meters\n",
    "        v='20180113' #Date of current version\n",
    "        )\n",
    "    return search_params"
   ]
  },
  {
   "cell_type": "code",
   "execution_count": 43,
   "metadata": {},
   "outputs": [],
   "source": [
    "def get_venue_data(longitude_group, latitude_group):\n",
    "    '''\n",
    "    Takes in lists of longitudes and latitudes and performs a grid search of them, returning a max of 50 coffee\n",
    "    shops per each intersection formatted as a list of json objects.\n",
    "    '''\n",
    "    search_url = 'https://api.foursquare.com/v2/venues/search'\n",
    "    search_list = []\n",
    "    for i, long in enumerate(longitude_group):\n",
    "        for lat in latitude_group:\n",
    "            search_params = populate_search_params(lat, long)\n",
    "            try:\n",
    "                search_resp = requests.get(url=search_url, params=search_params)\n",
    "                search_data = json.loads(search_resp.text)\n",
    "                if search_data['meta']['code'] == 403:\n",
    "                    print('403 error - Exceeded rate limit')\n",
    "                    print(search_data)\n",
    "                    return search_list\n",
    "                search_list.append(search_data)\n",
    "            except:\n",
    "                search_list.append((lat, long))\n",
    "        print('Step {} of {}'.format(i+1, len(longitude_group)))\n",
    "    return search_list"
   ]
  },
  {
   "cell_type": "code",
   "execution_count": 44,
   "metadata": {},
   "outputs": [],
   "source": [
    "def write_venue_info_to_file(search_data, filename):\n",
    "    '''\n",
    "    Takes in a list of loaded json objects and writes them to a text file.\n",
    "    '''\n",
    "    venues = []\n",
    "    for item in search_data:\n",
    "        # Checks for empty response\n",
    "        try:\n",
    "            if item['response']['venues'] != []:\n",
    "                for venue in item['response']['venues']:\n",
    "                    venues.append(venue)\n",
    "        except:\n",
    "            continue\n",
    "    with open(filename, 'a') as f:\n",
    "        for item in venues:\n",
    "            f.write(\"{}\\n\".format(item))\n",
    "    print('Done!')"
   ]
  },
  {
   "cell_type": "markdown",
   "metadata": {},
   "source": [
    "### Generate longitude & latitude grids and divide search into smaller groups to avoid breakage during API GET requests"
   ]
  },
  {
   "cell_type": "markdown",
   "metadata": {},
   "source": [
    "#### This needs to be broken into three groups to avoid Foursquare's 5000 requests limit"
   ]
  },
  {
   "cell_type": "code",
   "execution_count": 10,
   "metadata": {
    "collapsed": true
   },
   "outputs": [],
   "source": [
    "number_of_gridlines = 100\n",
    "longitude_grid = np.linspace(westlimit, eastlimit, number_of_gridlines)\n",
    "latitude_group = np.linspace(northlimit, southlimit, number_of_gridlines)"
   ]
  },
  {
   "cell_type": "code",
   "execution_count": 11,
   "metadata": {
    "collapsed": true
   },
   "outputs": [],
   "source": [
    "longitude_group1 = longitude_grid[:33]\n",
    "longitude_group2 = longitude_grid[33:66]\n",
    "longitude_group3 = longitude_grid[66:]"
   ]
  },
  {
   "cell_type": "markdown",
   "metadata": {},
   "source": [
    "### Test single GET from venues/search api"
   ]
  },
  {
   "cell_type": "code",
   "execution_count": 12,
   "metadata": {},
   "outputs": [],
   "source": [
    "test_lat = latitude_group[49]"
   ]
  },
  {
   "cell_type": "code",
   "execution_count": 13,
   "metadata": {},
   "outputs": [],
   "source": [
    "test_long = longitude_group2[15]"
   ]
  },
  {
   "cell_type": "markdown",
   "metadata": {},
   "source": [
    "<img src=\"images/test_venues_GET_map.jpeg\">"
   ]
  },
  {
   "cell_type": "code",
   "execution_count": 14,
   "metadata": {
    "scrolled": true
   },
   "outputs": [
    {
     "name": "stdout",
     "output_type": "stream",
     "text": [
      "Step 1 of 1\n"
     ]
    },
    {
     "data": {
      "text/plain": [
       "[{'meta': {'code': 200, 'requestId': '5a6119891ed2191620727b46'},\n",
       "  'response': {'venues': [{'allowMenuUrlEdit': True,\n",
       "     'beenHere': {'lastCheckinExpiredAt': 0},\n",
       "     'categories': [{'icon': {'prefix': 'https://ss3.4sqi.net/img/categories_v2/food/breakfast_',\n",
       "        'suffix': '.png'},\n",
       "       'id': '4bf58dd8d48988d143941735',\n",
       "       'name': 'Breakfast Spot',\n",
       "       'pluralName': 'Breakfast Spots',\n",
       "       'primary': True,\n",
       "       'shortName': 'Breakfast'}],\n",
       "     'contact': {'formattedPhone': '(206) 728-2219',\n",
       "      'phone': '2067282219',\n",
       "      'twitter': 'biscuitbitch'},\n",
       "     'hasPerk': False,\n",
       "     'id': '5510b894498e3dbab70b5d8d',\n",
       "     'location': {'address': '2303 3rd Ave',\n",
       "      'cc': 'US',\n",
       "      'city': 'Seattle',\n",
       "      'country': 'United States',\n",
       "      'crossStreet': '3rd Ave & Bell St',\n",
       "      'distance': 80,\n",
       "      'formattedAddress': ['2303 3rd Ave (3rd Ave & Bell St)',\n",
       "       'Seattle, WA 98121',\n",
       "       'United States'],\n",
       "      'labeledLatLngs': [{'label': 'display',\n",
       "        'lat': 47.614891697736034,\n",
       "        'lng': -122.3451303835674}],\n",
       "      'lat': 47.614891697736034,\n",
       "      'lng': -122.3451303835674,\n",
       "      'postalCode': '98121',\n",
       "      'state': 'WA'},\n",
       "     'menu': {'anchor': 'View Menu',\n",
       "      'externalUrl': 'http://biscuitbitch.com/images/menu.pdf',\n",
       "      'label': 'Menu',\n",
       "      'mobileUrl': 'http://biscuitbitch.com/images/menu.pdf',\n",
       "      'type': 'Menu',\n",
       "      'url': 'http://biscuitbitch.com/images/menu.pdf'},\n",
       "     'name': 'Biscuit Bitch - Belltown',\n",
       "     'referralId': 'v-1516312969',\n",
       "     'specials': {'count': 0, 'items': []},\n",
       "     'stats': {'checkinsCount': 2252, 'tipCount': 35, 'usersCount': 1331},\n",
       "     'url': 'http://biscuitbitch.com',\n",
       "     'venueChains': [],\n",
       "     'verified': False},\n",
       "    {'allowMenuUrlEdit': True,\n",
       "     'beenHere': {'lastCheckinExpiredAt': 0},\n",
       "     'categories': [{'icon': {'prefix': 'https://ss3.4sqi.net/img/categories_v2/food/coffeeshop_',\n",
       "        'suffix': '.png'},\n",
       "       'id': '4bf58dd8d48988d1e0931735',\n",
       "       'name': 'Coffee Shop',\n",
       "       'pluralName': 'Coffee Shops',\n",
       "       'primary': True,\n",
       "       'shortName': 'Coffee Shop'}],\n",
       "     'contact': {'facebook': '117036506160',\n",
       "      'facebookName': 'Bedlam Coffee',\n",
       "      'facebookUsername': 'BedlamCoffee',\n",
       "      'formattedPhone': '(206) 910-2300',\n",
       "      'phone': '2069102300',\n",
       "      'twitter': 'bedlamcoffee'},\n",
       "     'hasMenu': True,\n",
       "     'hasPerk': False,\n",
       "     'id': '4a26f5c5f964a520f47e1fe3',\n",
       "     'location': {'address': '2231 2nd Ave',\n",
       "      'cc': 'US',\n",
       "      'city': 'Seattle',\n",
       "      'country': 'United States',\n",
       "      'crossStreet': 'Bell St',\n",
       "      'distance': 35,\n",
       "      'formattedAddress': ['2231 2nd Ave (Bell St)',\n",
       "       'Seattle, WA 98121',\n",
       "       'United States'],\n",
       "      'labeledLatLngs': [{'label': 'display',\n",
       "        'lat': 47.613948460584,\n",
       "        'lng': -122.34548328955584}],\n",
       "      'lat': 47.613948460584,\n",
       "      'lng': -122.34548328955584,\n",
       "      'postalCode': '98121',\n",
       "      'state': 'WA'},\n",
       "     'menu': {'anchor': 'View Menu',\n",
       "      'label': 'Menu',\n",
       "      'mobileUrl': 'https://foursquare.com/v/4a26f5c5f964a520f47e1fe3/device_menu',\n",
       "      'type': 'Menu',\n",
       "      'url': 'https://foursquare.com/v/bedlam-coffee/4a26f5c5f964a520f47e1fe3/menu'},\n",
       "     'name': 'Bedlam Coffee',\n",
       "     'referralId': 'v-1516312969',\n",
       "     'specials': {'count': 0, 'items': []},\n",
       "     'stats': {'checkinsCount': 8582, 'tipCount': 85, 'usersCount': 2504},\n",
       "     'storeId': '',\n",
       "     'url': 'http://bedlamcoffee.com',\n",
       "     'venueChains': [],\n",
       "     'venuePage': {'id': '89452925'},\n",
       "     'verified': True},\n",
       "    {'allowMenuUrlEdit': True,\n",
       "     'beenHere': {'lastCheckinExpiredAt': 0},\n",
       "     'categories': [{'icon': {'prefix': 'https://ss3.4sqi.net/img/categories_v2/food/coffeeshop_',\n",
       "        'suffix': '.png'},\n",
       "       'id': '4bf58dd8d48988d1e0931735',\n",
       "       'name': 'Coffee Shop',\n",
       "       'pluralName': 'Coffee Shops',\n",
       "       'primary': True,\n",
       "       'shortName': 'Coffee Shop'}],\n",
       "     'contact': {'facebook': '22092443056',\n",
       "      'facebookName': 'Starbucks',\n",
       "      'facebookUsername': 'Starbucks',\n",
       "      'formattedPhone': '(206) 956-4322',\n",
       "      'phone': '2069564322',\n",
       "      'twitter': 'starbucks'},\n",
       "     'hasPerk': False,\n",
       "     'id': '52853dfd11d27f47f7b6162b',\n",
       "     'location': {'address': '2326 1st Avenue',\n",
       "      'cc': 'US',\n",
       "      'city': 'Seattle',\n",
       "      'country': 'United States',\n",
       "      'distance': 128,\n",
       "      'formattedAddress': ['2326 1st Avenue',\n",
       "       'Seattle, WA 98121',\n",
       "       'United States'],\n",
       "      'labeledLatLngs': [{'label': 'display',\n",
       "        'lat': 47.614048,\n",
       "        'lng': -122.34731}],\n",
       "      'lat': 47.614048,\n",
       "      'lng': -122.34731,\n",
       "      'postalCode': '98121',\n",
       "      'state': 'WA'},\n",
       "     'name': 'Starbucks',\n",
       "     'referralId': 'v-1516312969',\n",
       "     'specials': {'count': 0, 'items': []},\n",
       "     'stats': {'checkinsCount': 2596, 'tipCount': 2, 'usersCount': 700},\n",
       "     'storeId': '3218',\n",
       "     'url': 'http://www.starbucks.com/',\n",
       "     'venueChains': [{'id': '556f676fbd6a75a99038d8ec'}],\n",
       "     'verified': True},\n",
       "    {'allowMenuUrlEdit': True,\n",
       "     'beenHere': {'lastCheckinExpiredAt': 0},\n",
       "     'categories': [{'icon': {'prefix': 'https://ss3.4sqi.net/img/categories_v2/food/bakery_',\n",
       "        'suffix': '.png'},\n",
       "       'id': '4bf58dd8d48988d16a941735',\n",
       "       'name': 'Bakery',\n",
       "       'pluralName': 'Bakeries',\n",
       "       'primary': True,\n",
       "       'shortName': 'Bakery'}],\n",
       "     'contact': {'formattedPhone': '(206) 441-4240',\n",
       "      'phone': '2064414240',\n",
       "      'twitter': 'theyellowleaf'},\n",
       "     'hasMenu': True,\n",
       "     'hasPerk': False,\n",
       "     'id': '4a47da55f964a52030aa1fe3',\n",
       "     'location': {'address': '2209 4th Ave',\n",
       "      'cc': 'US',\n",
       "      'city': 'Seattle',\n",
       "      'country': 'United States',\n",
       "      'distance': 191,\n",
       "      'formattedAddress': ['2209 4th Ave',\n",
       "       'Seattle, WA 98121',\n",
       "       'United States'],\n",
       "      'labeledLatLngs': [{'label': 'display',\n",
       "        'lat': 47.61491480216013,\n",
       "        'lng': -122.34326929380106}],\n",
       "      'lat': 47.61491480216013,\n",
       "      'lng': -122.34326929380106,\n",
       "      'postalCode': '98121',\n",
       "      'state': 'WA'},\n",
       "     'menu': {'anchor': 'View Menu',\n",
       "      'externalUrl': 'http://www.theyellowleafcupcake.com/menu/',\n",
       "      'label': 'Menu',\n",
       "      'mobileUrl': 'http://www.theyellowleafcupcake.com/menu/',\n",
       "      'type': 'Menu',\n",
       "      'url': 'http://www.theyellowleafcupcake.com/menu/'},\n",
       "     'name': 'The Yellow Leaf Cupcake Co',\n",
       "     'referralId': 'v-1516312969',\n",
       "     'specials': {'count': 0, 'items': []},\n",
       "     'stats': {'checkinsCount': 2139, 'tipCount': 47, 'usersCount': 1299},\n",
       "     'url': 'http://www.theyellowleafcupcake.com/',\n",
       "     'venueChains': [],\n",
       "     'venuePage': {'id': '151454504'},\n",
       "     'verified': True},\n",
       "    {'allowMenuUrlEdit': True,\n",
       "     'beenHere': {'lastCheckinExpiredAt': 0},\n",
       "     'categories': [{'icon': {'prefix': 'https://ss3.4sqi.net/img/categories_v2/food/italian_',\n",
       "        'suffix': '.png'},\n",
       "       'id': '4bf58dd8d48988d110941735',\n",
       "       'name': 'Italian Restaurant',\n",
       "       'pluralName': 'Italian Restaurants',\n",
       "       'primary': True,\n",
       "       'shortName': 'Italian'}],\n",
       "     'contact': {'formattedPhone': '(206) 441-5322', 'phone': '2064415322'},\n",
       "     'hasMenu': True,\n",
       "     'hasPerk': False,\n",
       "     'id': '427ff980f964a520d7211fe3',\n",
       "     'location': {'address': '2411 2nd Ave',\n",
       "      'cc': 'US',\n",
       "      'city': 'Seattle',\n",
       "      'country': 'United States',\n",
       "      'crossStreet': 'at Wall St and Battery St',\n",
       "      'distance': 159,\n",
       "      'formattedAddress': ['2411 2nd Ave (at Wall St and Battery St)',\n",
       "       'Seattle, WA 98121',\n",
       "       'United States'],\n",
       "      'labeledLatLngs': [{'label': 'display',\n",
       "        'lat': 47.61503812158681,\n",
       "        'lng': -122.34739868446559}],\n",
       "      'lat': 47.61503812158681,\n",
       "      'lng': -122.34739868446559,\n",
       "      'postalCode': '98121',\n",
       "      'state': 'WA'},\n",
       "     'menu': {'anchor': 'View Menu',\n",
       "      'label': 'Menu',\n",
       "      'mobileUrl': 'https://foursquare.com/v/427ff980f964a520d7211fe3/device_menu',\n",
       "      'type': 'Menu',\n",
       "      'url': 'https://foursquare.com/v/la-vita-e-bella/427ff980f964a520d7211fe3/menu'},\n",
       "     'name': 'La Vita e Bella',\n",
       "     'referralId': 'v-1516312969',\n",
       "     'specials': {'count': 0, 'items': []},\n",
       "     'stats': {'checkinsCount': 2212, 'tipCount': 29, 'usersCount': 1228},\n",
       "     'url': 'http://www.lavitaebella.us/',\n",
       "     'venueChains': [],\n",
       "     'verified': False},\n",
       "    {'allowMenuUrlEdit': True,\n",
       "     'beenHere': {'lastCheckinExpiredAt': 0},\n",
       "     'categories': [{'icon': {'prefix': 'https://ss3.4sqi.net/img/categories_v2/food/italian_',\n",
       "        'suffix': '.png'},\n",
       "       'id': '4bf58dd8d48988d110941735',\n",
       "       'name': 'Italian Restaurant',\n",
       "       'pluralName': 'Italian Restaurants',\n",
       "       'primary': True,\n",
       "       'shortName': 'Italian'}],\n",
       "     'contact': {},\n",
       "     'hasPerk': False,\n",
       "     'id': '4b40ee96f964a520b7bd25e3',\n",
       "     'location': {'address': '2417 2nd Ave',\n",
       "      'cc': 'US',\n",
       "      'city': 'Seattle',\n",
       "      'country': 'United States',\n",
       "      'distance': 168,\n",
       "      'formattedAddress': ['2417 2nd Ave', 'Seattle, WA', 'United States'],\n",
       "      'labeledLatLngs': [{'label': 'display',\n",
       "        'lat': 47.615099441621844,\n",
       "        'lng': -122.34748723963246}],\n",
       "      'lat': 47.615099441621844,\n",
       "      'lng': -122.34748723963246,\n",
       "      'state': 'WA'},\n",
       "     'name': 'La Vita e Bella Express',\n",
       "     'referralId': 'v-1516312969',\n",
       "     'specials': {'count': 0, 'items': []},\n",
       "     'stats': {'checkinsCount': 183, 'tipCount': 3, 'usersCount': 69},\n",
       "     'venueChains': [],\n",
       "     'verified': False}]}}]"
      ]
     },
     "execution_count": 14,
     "metadata": {},
     "output_type": "execute_result"
    }
   ],
   "source": [
    "get_venue_data([test_long], [test_lat])"
   ]
  },
  {
   "cell_type": "markdown",
   "metadata": {},
   "source": [
    "### Search for all venues that match my search params & write them to txt file"
   ]
  },
  {
   "cell_type": "markdown",
   "metadata": {},
   "source": [
    "#### Instantiate an empty venue search list which the following for loops and GET requests will populate"
   ]
  },
  {
   "cell_type": "code",
   "execution_count": null,
   "metadata": {
    "collapsed": true
   },
   "outputs": [],
   "source": [
    "venue_search_list = []\n",
    "search_url = 'https://api.foursquare.com/v2/venues/search'"
   ]
  },
  {
   "cell_type": "markdown",
   "metadata": {},
   "source": [
    "##### Longitude_group 1"
   ]
  },
  {
   "cell_type": "code",
   "execution_count": 15,
   "metadata": {
    "collapsed": true
   },
   "outputs": [
    {
     "name": "stdout",
     "output_type": "stream",
     "text": [
      "Step 1 of 33\n",
      "Step 2 of 33\n",
      "Step 3 of 33\n",
      "Step 4 of 33\n",
      "Step 5 of 33\n",
      "Step 6 of 33\n",
      "Step 7 of 33\n",
      "Step 8 of 33\n",
      "Step 9 of 33\n",
      "Step 10 of 33\n",
      "Step 11 of 33\n",
      "Step 12 of 33\n",
      "Step 13 of 33\n",
      "Step 14 of 33\n",
      "Step 15 of 33\n",
      "Step 16 of 33\n",
      "Step 17 of 33\n",
      "Step 18 of 33\n",
      "Step 19 of 33\n",
      "Step 20 of 33\n",
      "Step 21 of 33\n",
      "Step 22 of 33\n",
      "Step 23 of 33\n",
      "Step 24 of 33\n",
      "Step 25 of 33\n",
      "Step 26 of 33\n",
      "Step 27 of 33\n",
      "Step 28 of 33\n",
      "Step 29 of 33\n",
      "Step 30 of 33\n",
      "Step 31 of 33\n",
      "Step 32 of 33\n",
      "Step 33 of 33\n"
     ]
    }
   ],
   "source": [
    "search_list = get_venue_data(longitude_group1, latitude_group)"
   ]
  },
  {
   "cell_type": "code",
   "execution_count": 32,
   "metadata": {},
   "outputs": [
    {
     "name": "stdout",
     "output_type": "stream",
     "text": [
      "Done!\n"
     ]
    }
   ],
   "source": [
    "write_venue_info_to_file(search_list, 'seattle_venues.txt')"
   ]
  },
  {
   "cell_type": "markdown",
   "metadata": {},
   "source": [
    "##### Longitude_group 2"
   ]
  },
  {
   "cell_type": "code",
   "execution_count": 33,
   "metadata": {
    "collapsed": true
   },
   "outputs": [
    {
     "name": "stdout",
     "output_type": "stream",
     "text": [
      "Step 1 of 33\n",
      "Step 2 of 33\n",
      "Step 3 of 33\n",
      "Step 4 of 33\n",
      "Step 5 of 33\n",
      "Step 6 of 33\n",
      "Step 7 of 33\n",
      "Step 8 of 33\n",
      "Step 9 of 33\n",
      "Step 10 of 33\n",
      "Step 11 of 33\n",
      "Step 12 of 33\n",
      "Step 13 of 33\n",
      "Step 14 of 33\n",
      "Step 15 of 33\n",
      "Step 16 of 33\n",
      "Step 17 of 33\n",
      "Step 18 of 33\n",
      "Step 19 of 33\n",
      "Step 20 of 33\n",
      "Step 21 of 33\n",
      "Step 22 of 33\n",
      "Step 23 of 33\n",
      "Step 24 of 33\n",
      "Step 25 of 33\n",
      "Step 26 of 33\n",
      "Step 27 of 33\n",
      "Step 28 of 33\n",
      "Step 29 of 33\n",
      "Step 30 of 33\n",
      "Step 31 of 33\n",
      "Step 32 of 33\n",
      "Step 33 of 33\n"
     ]
    }
   ],
   "source": [
    "search_list = get_venue_data(longitude_group2, latitude_group)"
   ]
  },
  {
   "cell_type": "code",
   "execution_count": 39,
   "metadata": {},
   "outputs": [
    {
     "name": "stdout",
     "output_type": "stream",
     "text": [
      "Done!\n"
     ]
    }
   ],
   "source": [
    "write_venue_info_to_file(search_list, 'seattle_venues.txt')"
   ]
  },
  {
   "cell_type": "markdown",
   "metadata": {},
   "source": [
    "##### Longitude_group 3"
   ]
  },
  {
   "cell_type": "code",
   "execution_count": 45,
   "metadata": {},
   "outputs": [
    {
     "name": "stdout",
     "output_type": "stream",
     "text": [
      "Step 1 of 34\n",
      "Step 2 of 34\n",
      "403 error - Exceeded rate limit\n",
      "{'meta': {'code': 403, 'errorType': 'rate_limit_exceeded', 'errorDetail': 'Quota exceeded', 'requestId': '5a6124b71ed219161b5e23f6'}, 'response': {}}\n"
     ]
    }
   ],
   "source": [
    "search_list = get_venue_data(longitude_group3, latitude_group)"
   ]
  },
  {
   "cell_type": "code",
   "execution_count": null,
   "metadata": {
    "collapsed": true
   },
   "outputs": [],
   "source": [
    "write_venue_info_to_file(search_list, 'seattle_venues.txt')"
   ]
  },
  {
   "cell_type": "code",
   "execution_count": null,
   "metadata": {
    "collapsed": true
   },
   "outputs": [],
   "source": []
  },
  {
   "cell_type": "code",
   "execution_count": null,
   "metadata": {
    "collapsed": true
   },
   "outputs": [],
   "source": []
  },
  {
   "cell_type": "code",
   "execution_count": null,
   "metadata": {
    "collapsed": true
   },
   "outputs": [],
   "source": []
  },
  {
   "cell_type": "code",
   "execution_count": null,
   "metadata": {
    "collapsed": true
   },
   "outputs": [],
   "source": []
  },
  {
   "cell_type": "code",
   "execution_count": null,
   "metadata": {
    "collapsed": true
   },
   "outputs": [],
   "source": []
  },
  {
   "cell_type": "code",
   "execution_count": null,
   "metadata": {
    "collapsed": true
   },
   "outputs": [],
   "source": []
  },
  {
   "cell_type": "code",
   "execution_count": null,
   "metadata": {
    "collapsed": true
   },
   "outputs": [],
   "source": []
  },
  {
   "cell_type": "code",
   "execution_count": null,
   "metadata": {
    "collapsed": true
   },
   "outputs": [],
   "source": []
  },
  {
   "cell_type": "code",
   "execution_count": null,
   "metadata": {
    "collapsed": true
   },
   "outputs": [],
   "source": []
  },
  {
   "cell_type": "code",
   "execution_count": null,
   "metadata": {
    "collapsed": true
   },
   "outputs": [],
   "source": []
  },
  {
   "cell_type": "code",
   "execution_count": null,
   "metadata": {
    "collapsed": true
   },
   "outputs": [],
   "source": []
  },
  {
   "cell_type": "code",
   "execution_count": null,
   "metadata": {
    "collapsed": true
   },
   "outputs": [],
   "source": []
  },
  {
   "cell_type": "code",
   "execution_count": null,
   "metadata": {
    "collapsed": true
   },
   "outputs": [],
   "source": [
    "tips_params = dict(\n",
    "    client_id=secrets['client_id'],\n",
    "    client_secret=secrets['client_secret'],\n",
    "    limit=500,\n",
    "    v='20180113')"
   ]
  },
  {
   "cell_type": "code",
   "execution_count": null,
   "metadata": {
    "collapsed": true
   },
   "outputs": [],
   "source": [
    "tips_resp = requests.get(url=tips_url, params=tips_params)\n",
    "tips_data = json.loads(tips_resp.text)"
   ]
  },
  {
   "cell_type": "code",
   "execution_count": null,
   "metadata": {
    "collapsed": true
   },
   "outputs": [],
   "source": [
    "tips_data"
   ]
  },
  {
   "cell_type": "code",
   "execution_count": null,
   "metadata": {
    "collapsed": true,
    "scrolled": false
   },
   "outputs": [],
   "source": [
    "tips = []\n",
    "for tip in tips_data['response']['tips']['items']:\n",
    "    tips.append(tip['text'])"
   ]
  },
  {
   "cell_type": "code",
   "execution_count": null,
   "metadata": {
    "collapsed": true
   },
   "outputs": [],
   "source": [
    "id_s = []\n",
    "for venue in search_data['response']['venues']:\n",
    "    id_s.append((venue['id'], venue['name'], venue['location']['address']))"
   ]
  },
  {
   "cell_type": "code",
   "execution_count": null,
   "metadata": {
    "collapsed": true
   },
   "outputs": [],
   "source": [
    "id_s"
   ]
  },
  {
   "cell_type": "code",
   "execution_count": null,
   "metadata": {
    "collapsed": true
   },
   "outputs": [],
   "source": [
    "def get_tips(venue_id):\n",
    "    tip_list = []\n",
    "    tips_url = 'https://api.foursquare.com/v2/venues/{}/tips'.format(venue_id)\n",
    "    tips_params = dict(\n",
    "    client_id=secrets['client_id'],\n",
    "    client_secret=secrets['client_secret'],\n",
    "    limit=500,\n",
    "    v='20180113')\n",
    "    tips_resp = requests.get(url=tips_url, params=tips_params)\n",
    "    tips_data = json.loads(tips_resp.text)\n",
    "    for tip in tips_data['response']['tips']['items']:\n",
    "        tip_list.append(tip['text'])\n",
    "    return tip_list"
   ]
  },
  {
   "cell_type": "code",
   "execution_count": null,
   "metadata": {
    "collapsed": true
   },
   "outputs": [],
   "source": [
    "all_tips = []\n",
    "for venue_id, name, address in id_s:\n",
    "    tip_list = get_tips(venue_id)\n",
    "    all_tips.append((venue_id, tip_list))"
   ]
  },
  {
   "cell_type": "code",
   "execution_count": null,
   "metadata": {
    "collapsed": true
   },
   "outputs": [],
   "source": [
    "all_tips"
   ]
  },
  {
   "cell_type": "code",
   "execution_count": null,
   "metadata": {
    "collapsed": true
   },
   "outputs": [],
   "source": []
  }
 ],
 "metadata": {
  "kernelspec": {
   "display_name": "Python 3",
   "language": "python",
   "name": "python3"
  },
  "language_info": {
   "codemirror_mode": {
    "name": "ipython",
    "version": 3
   },
   "file_extension": ".py",
   "mimetype": "text/x-python",
   "name": "python",
   "nbconvert_exporter": "python",
   "pygments_lexer": "ipython3",
   "version": "3.6.3"
  }
 },
 "nbformat": 4,
 "nbformat_minor": 2
}
