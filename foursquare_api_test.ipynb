{
 "cells": [
  {
   "cell_type": "code",
   "execution_count": null,
   "metadata": {
    "collapsed": true
   },
   "outputs": [],
   "source": [
    "import json, requests\n",
    "import numpy as np\n",
    "import yaml"
   ]
  },
  {
   "cell_type": "markdown",
   "metadata": {},
   "source": [
    "### Import secret Keys to use with Foursquare API"
   ]
  },
  {
   "cell_type": "code",
   "execution_count": null,
   "metadata": {
    "collapsed": true
   },
   "outputs": [],
   "source": [
    "with open('/Users/ReddingSkinnyRobot/.secrets/foursquare_api.yaml') as f:\n",
    "    secrets = yaml.load(f)"
   ]
  },
  {
   "cell_type": "markdown",
   "metadata": {},
   "source": [
    "### Calculate bounding limits from http://boundingbox.klokantech.com/ TSV format"
   ]
  },
  {
   "cell_type": "code",
   "execution_count": null,
   "metadata": {
    "collapsed": true
   },
   "outputs": [],
   "source": [
    "westlimit=-122.459696 #Longitude\n",
    "southlimit=47.491912  #Latitude\n",
    "eastlimit=-122.224433 #Longitude\n",
    "northlimit=47.734145  #Latitude"
   ]
  },
  {
   "cell_type": "code",
   "execution_count": null,
   "metadata": {
    "collapsed": true
   },
   "outputs": [],
   "source": [
    "km_east_west = (eastlimit - westlimit) * 97\n",
    "km_north_south = (northlimit - southlimit) * 111"
   ]
  },
  {
   "cell_type": "code",
   "execution_count": null,
   "metadata": {},
   "outputs": [],
   "source": [
    "km_east_west/100*1000"
   ]
  },
  {
   "cell_type": "code",
   "execution_count": null,
   "metadata": {},
   "outputs": [],
   "source": [
    "km_east_west*100/100 #Meters in each grid east west"
   ]
  },
  {
   "cell_type": "code",
   "execution_count": null,
   "metadata": {},
   "outputs": [],
   "source": [
    "km_north_south/100*1000 #meters in each grid north south"
   ]
  },
  {
   "cell_type": "code",
   "execution_count": null,
   "metadata": {
    "collapsed": true
   },
   "outputs": [],
   "source": [
    "number_of_grid_lines = 1000"
   ]
  },
  {
   "cell_type": "code",
   "execution_count": null,
   "metadata": {
    "collapsed": true
   },
   "outputs": [],
   "source": [
    "meters_per_ns_grid_line = km_north_south / number_of_grid_lines * 1000\n",
    "meters_per_ew_grid_line = km_east_west / number_of_grid_lines * 1000"
   ]
  },
  {
   "cell_type": "markdown",
   "metadata": {},
   "source": [
    "Difference between degrees of Longitude is about 60 miles (97km) \n",
    "\n",
    "Difference between degrees of Latitude is about 69 miles (111km)"
   ]
  },
  {
   "cell_type": "markdown",
   "metadata": {},
   "source": [
    "### Generate longitude & latitude grids and define search functions"
   ]
  },
  {
   "cell_type": "code",
   "execution_count": null,
   "metadata": {
    "collapsed": true
   },
   "outputs": [],
   "source": [
    "number_of_gridlines = 100\n",
    "longitude_grid = np.linspace(westlimit, eastlimit, number_of_gridlines)\n",
    "latitude_grid = np.linspace(northlimit, southlimit, number_of_gridlines)\n",
    "\n",
    "def populate_search_params(lat, long):\n",
    "    search_params = dict(\n",
    "        client_id=secrets['client_id'],\n",
    "        client_secret=secrets['client_secret'],\n",
    "        ll = '{}, {}'.format(lat, long),\n",
    "        intent='browse',\n",
    "        radius='200', #Meters\n",
    "        limit='50',\n",
    "        categoryId='4bf58dd8d48988d1e0931735',#Coffee shop\n",
    "        llAcc='1',#Accuracy of lat & long in meters\n",
    "        v='20180113' #Date of current version\n",
    "        )\n",
    "    return search_params"
   ]
  },
  {
   "cell_type": "markdown",
   "metadata": {},
   "source": [
    "### Divide search into smaller groups to avoid breakage during API GET requests"
   ]
  },
  {
   "cell_type": "code",
   "execution_count": null,
   "metadata": {},
   "outputs": [],
   "source": [
    "longitude_group1 = longitude_grid[:10]\n",
    "longitude_group2 = longitude_grid[10:20]\n",
    "longitude_group3 = longitude_grid[20:30]\n",
    "longitude_group4 = longitude_grid[30:40]\n",
    "longitude_group5 = longitude_grid[40:50]\n",
    "longitude_group6 = longitude_grid[50:60]\n",
    "longitude_group7 = longitude_grid[60:70]\n",
    "longitude_group8 = longitude_grid[70:80]\n",
    "longitude_group9 = longitude_grid[80:90]\n",
    "longitude_group10 = longitude_grid[90:]"
   ]
  },
  {
   "cell_type": "code",
   "execution_count": null,
   "metadata": {
    "collapsed": true
   },
   "outputs": [],
   "source": [
    "longitude_groups = []"
   ]
  },
  {
   "cell_type": "code",
   "execution_count": null,
   "metadata": {
    "collapsed": true
   },
   "outputs": [],
   "source": [
    "longitude_groups.append(longitude_group1)\n",
    "longitude_groups.append(longitude_group2)\n",
    "longitude_groups.append(longitude_group3)\n",
    "longitude_groups.append(longitude_group4)\n",
    "longitude_groups.append(longitude_group5)\n",
    "longitude_groups.append(longitude_group6)\n",
    "longitude_groups.append(longitude_group7)\n",
    "longitude_groups.append(longitude_group8)\n",
    "longitude_groups.append(longitude_group9)\n",
    "longitude_groups.append(longitude_group10)"
   ]
  },
  {
   "cell_type": "markdown",
   "metadata": {},
   "source": [
    "### Search for all venues that match my search params"
   ]
  },
  {
   "cell_type": "code",
   "execution_count": null,
   "metadata": {},
   "outputs": [],
   "source": [
    "search_url = 'https://api.foursquare.com/v2/venues/search'\n",
    "venue_search_list = []\n",
    "\n",
    "for group_i, longitude_group in enumerate(longitude_groups):\n",
    "    current_group_search_list = []\n",
    "    for long_i, long in enumerate(longitude_group):\n",
    "        for lat in latitude_grid:\n",
    "            search_params = populate_search_params(lat, long)\n",
    "            try:\n",
    "                search_resp = requests.get(url=search_url, params=search_params)\n",
    "                search_data = json.loads(search_resp.text)\n",
    "                current_group_search_list.append(search_data)\n",
    "            except:\n",
    "                current_group_search_list.append((lat, long))\n",
    "    venue_search_list = venue_search_list + current_group_search_list\n",
    "    print('Step {} of 10'.format(group_i+1))"
   ]
  },
  {
   "cell_type": "code",
   "execution_count": null,
   "metadata": {},
   "outputs": [],
   "source": [
    "while True:\n",
    "    try:\n",
    "        break\n",
    "        #open('fdfsf')\n",
    "    except ZeroDivisionError:\n",
    "        print(\"oops\")\n",
    "    except FileNotFoundError:\n",
    "        print(\"didn't find file\")\n",
    "    finally:\n",
    "        print('in finally')"
   ]
  },
  {
   "cell_type": "code",
   "execution_count": null,
   "metadata": {
    "collapsed": true
   },
   "outputs": [],
   "source": [
    "tips_params = dict(\n",
    "    client_id=secrets['client_id'],\n",
    "    client_secret=secrets['client_secret'],\n",
    "    limit=500,\n",
    "    v='20180113')"
   ]
  },
  {
   "cell_type": "code",
   "execution_count": null,
   "metadata": {
    "collapsed": true
   },
   "outputs": [],
   "source": [
    "tips_resp = requests.get(url=tips_url, params=tips_params)\n",
    "tips_data = json.loads(tips_resp.text)"
   ]
  },
  {
   "cell_type": "code",
   "execution_count": null,
   "metadata": {
    "collapsed": true
   },
   "outputs": [],
   "source": [
    "tips_data"
   ]
  },
  {
   "cell_type": "code",
   "execution_count": null,
   "metadata": {
    "collapsed": true,
    "scrolled": false
   },
   "outputs": [],
   "source": [
    "tips = []\n",
    "for tip in tips_data['response']['tips']['items']:\n",
    "    tips.append(tip['text'])"
   ]
  },
  {
   "cell_type": "code",
   "execution_count": null,
   "metadata": {
    "collapsed": true
   },
   "outputs": [],
   "source": [
    "id_s = []\n",
    "for venue in search_data['response']['venues']:\n",
    "    id_s.append((venue['id'], venue['name'], venue['location']['address']))"
   ]
  },
  {
   "cell_type": "code",
   "execution_count": null,
   "metadata": {
    "collapsed": true
   },
   "outputs": [],
   "source": [
    "id_s"
   ]
  },
  {
   "cell_type": "code",
   "execution_count": null,
   "metadata": {
    "collapsed": true
   },
   "outputs": [],
   "source": [
    "def get_tips(venue_id):\n",
    "    tip_list = []\n",
    "    tips_url = 'https://api.foursquare.com/v2/venues/{}/tips'.format(venue_id)\n",
    "    tips_params = dict(\n",
    "    client_id=secrets['client_id'],\n",
    "    client_secret=secrets['client_secret'],\n",
    "    limit=500,\n",
    "    v='20180113')\n",
    "    tips_resp = requests.get(url=tips_url, params=tips_params)\n",
    "    tips_data = json.loads(tips_resp.text)\n",
    "    for tip in tips_data['response']['tips']['items']:\n",
    "        tip_list.append(tip['text'])\n",
    "    return tip_list"
   ]
  },
  {
   "cell_type": "code",
   "execution_count": null,
   "metadata": {
    "collapsed": true
   },
   "outputs": [],
   "source": [
    "all_tips = []\n",
    "for venue_id, name, address in id_s:\n",
    "    tip_list = get_tips(venue_id)\n",
    "    all_tips.append((venue_id, tip_list))"
   ]
  },
  {
   "cell_type": "code",
   "execution_count": null,
   "metadata": {
    "collapsed": true
   },
   "outputs": [],
   "source": [
    "all_tips"
   ]
  },
  {
   "cell_type": "code",
   "execution_count": null,
   "metadata": {
    "collapsed": true
   },
   "outputs": [],
   "source": []
  }
 ],
 "metadata": {
  "kernelspec": {
   "display_name": "Python 3",
   "language": "python",
   "name": "python3"
  },
  "language_info": {
   "codemirror_mode": {
    "name": "ipython",
    "version": 3
   },
   "file_extension": ".py",
   "mimetype": "text/x-python",
   "name": "python",
   "nbconvert_exporter": "python",
   "pygments_lexer": "ipython3",
   "version": "3.6.3"
  }
 },
 "nbformat": 4,
 "nbformat_minor": 2
}
