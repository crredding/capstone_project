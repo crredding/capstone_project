{
 "cells": [
  {
   "cell_type": "code",
   "execution_count": 358,
   "metadata": {},
   "outputs": [],
   "source": [
    "import numpy as np\n",
    "import pandas as pd\n",
    "from sklearn.feature_extraction.text import TfidfVectorizer\n",
    "from sklearn.cluster import KMeans \n",
    "from sklearn.metrics import silhouette_score, silhouette_samples\n",
    "from sklearn.decomposition import NMF\n",
    "from collections import defaultdict\n",
    "from nltk import word_tokenize\n",
    "from nltk.stem import WordNetLemmatizer\n",
    "from nltk import pos_tag\n",
    "#from nltk.corpus import stopwords\n",
    "from sklearn.feature_extraction import stop_words"
   ]
  },
  {
   "cell_type": "code",
   "execution_count": 359,
   "metadata": {},
   "outputs": [],
   "source": [
    "data = pd.read_csv('data/data_not_starbucks.csv').drop('Unnamed: 0', axis=1)"
   ]
  },
  {
   "cell_type": "code",
   "execution_count": 360,
   "metadata": {},
   "outputs": [
    {
     "name": "stdout",
     "output_type": "stream",
     "text": [
      "<class 'pandas.core.frame.DataFrame'>\n",
      "RangeIndex: 474 entries, 0 to 473\n",
      "Data columns (total 6 columns):\n",
      "location.lat        474 non-null float64\n",
      "location.lng        474 non-null float64\n",
      "name                474 non-null object\n",
      "combined_reviews    474 non-null object\n",
      "num_review_words    474 non-null int64\n",
      "final_address       474 non-null object\n",
      "dtypes: float64(2), int64(1), object(3)\n",
      "memory usage: 22.3+ KB\n"
     ]
    }
   ],
   "source": [
    "data.info()"
   ]
  },
  {
   "cell_type": "markdown",
   "metadata": {},
   "source": [
    "### Filter out shops with less than 20 words in their review"
   ]
  },
  {
   "cell_type": "code",
   "execution_count": 361,
   "metadata": {
    "collapsed": true
   },
   "outputs": [],
   "source": [
    "over20_data = data[data['num_review_words'] >= 20].reset_index().drop('index', axis=1)"
   ]
  },
  {
   "cell_type": "markdown",
   "metadata": {},
   "source": [
    "### Adding custom stopwords to sklearns defaults"
   ]
  },
  {
   "cell_type": "code",
   "execution_count": 362,
   "metadata": {
    "collapsed": true
   },
   "outputs": [],
   "source": [
    "stopwords = list(stop_words.ENGLISH_STOP_WORDS)"
   ]
  },
  {
   "cell_type": "code",
   "execution_count": 363,
   "metadata": {},
   "outputs": [],
   "source": [
    "stopwords += ['coffee', 'shop', 'coffeeshop', 'starbucks', 'wa', 'seattle']"
   ]
  },
  {
   "cell_type": "markdown",
   "metadata": {},
   "source": [
    "### Added LemmaTokenizer to lemmatize words "
   ]
  },
  {
   "cell_type": "code",
   "execution_count": 364,
   "metadata": {
    "collapsed": true
   },
   "outputs": [],
   "source": [
    "class LemmaTokenizer(object):\n",
    "    def __init__(self):\n",
    "        self.wnl = WordNetLemmatizer()\n",
    "    def __call__(self, doc):\n",
    "        return [self.wnl.lemmatize(t) for t in word_tokenize(doc)]"
   ]
  },
  {
   "cell_type": "code",
   "execution_count": 365,
   "metadata": {},
   "outputs": [],
   "source": [
    "tf = TfidfVectorizer(strip_accents='unicode',\n",
    "                     tokenizer=LemmaTokenizer(),\n",
    "                     stop_words=stopwords,\n",
    "                     max_features=500)"
   ]
  },
  {
   "cell_type": "code",
   "execution_count": 366,
   "metadata": {},
   "outputs": [],
   "source": [
    "tfidf = tf.fit_transform(over20_data['combined_reviews'])"
   ]
  },
  {
   "cell_type": "code",
   "execution_count": 367,
   "metadata": {},
   "outputs": [],
   "source": [
    "words = tf.get_feature_names()"
   ]
  },
  {
   "cell_type": "code",
   "execution_count": 406,
   "metadata": {},
   "outputs": [
    {
     "data": {
      "text/plain": [
       "NMF(alpha=0.0, beta_loss='frobenius', init=None, l1_ratio=0.0, max_iter=200,\n",
       "  n_components=40, random_state=None, shuffle=False, solver='cd',\n",
       "  tol=0.0001, verbose=0)"
      ]
     },
     "execution_count": 406,
     "metadata": {},
     "output_type": "execute_result"
    }
   ],
   "source": [
    "nmf = NMF(n_components=40)\n",
    "nmf.fit(tfidf)"
   ]
  },
  {
   "cell_type": "code",
   "execution_count": 407,
   "metadata": {},
   "outputs": [],
   "source": [
    "H = nmf.components_\n",
    "W = nmf.transform(tfidf)"
   ]
  },
  {
   "cell_type": "code",
   "execution_count": 408,
   "metadata": {},
   "outputs": [
    {
     "data": {
      "text/plain": [
       "(40, 500)"
      ]
     },
     "execution_count": 408,
     "metadata": {},
     "output_type": "execute_result"
    }
   ],
   "source": [
    "H.shape"
   ]
  },
  {
   "cell_type": "code",
   "execution_count": 409,
   "metadata": {},
   "outputs": [
    {
     "data": {
      "text/plain": [
       "(435, 40)"
      ]
     },
     "execution_count": 409,
     "metadata": {},
     "output_type": "execute_result"
    }
   ],
   "source": [
    "W.shape"
   ]
  },
  {
   "cell_type": "code",
   "execution_count": 410,
   "metadata": {},
   "outputs": [
    {
     "name": "stdout",
     "output_type": "stream",
     "text": [
      "0 ['good' 'staff' 'neighborhood' 'spot' 'small' 'drip' 'little' 'morning']\n",
      "1 ['sandwich' 'breakfast' 'delicious' 'turkey' 'egg' 'panini' 'snack' 'yum']\n",
      "2 ['mocha' 'best' 'orange' 'try' 'foam' 'game' 'caffe' 'cafe']\n",
      "3 ['bagel' 'cheese' 'cream' 'sandwich' 'breakfast' 'egg' 'good' 'really']\n",
      "4 ['crepe' 'like' 'wanted' 'stop' 'neighborhood' 'instead' 'strawberry'\n",
      " 'regular']\n",
      "5 ['cupcake' 'cake' 'velvet' 'red' 'free' 'salted' 'delicious' 'bakery']\n",
      "6 ['service' 'location' 'customer' 'right' 'convenient' 'place' 'order'\n",
      " 'rude']\n",
      "7 ['beer' 'wine' 'good' 'selection' 'night' 'work' 'vibe' 'cool']\n",
      "8 ['donut' 'doughnut' 'fashioned' 'pot' 'old' 'maple' 'pumpkin' 'cake']\n",
      "9 ['croissant' 'pastry' 'bakery' 'baked' 'good' 'macaroon' 'almond' 'bread']\n",
      "10 ['chocolate' 'hot' 'dark' 'favorite' 'chip' 'cookie' 'rich' 'order']\n",
      "11 ['great' 'love' 'service' 'place' 'people' 'awesome' 'customer' 'super']\n",
      "12 ['owner' 'business' 'local' 'neighborhood' 'space' 'coming' 'ha' 'enjoy']\n",
      "13 ['latte' 'tea' 'try' 'art' 'chai' 'yum' 'ive' 'iced']\n",
      "14 ['market' 'pike' 'view' 'place' 'day' 'recommend' 'loved' 'atmosphere']\n",
      "15 ['waffle' 'delicious' 'mean' 'cafe' 'place' 'try' 'early' 'art']\n",
      "16 ['food' 'restaurant' 'good' 'came' 'price' 'time' 'brunch' 'service']\n",
      "17 ['white' 'espresso' 'nico' 'shot' 'best' 'velvet' 'place' 'latte']\n",
      "18 ['card' 'free' 'drink' '1' 'almond' '10' 'good' 'check']\n",
      "19 ['located' 'floor' 'building' 'store' 'center' 'inside' 'menu' 'employee']\n",
      "20 ['brew' 'cold' 'pour' 'space' 'different' 'espresso' 'knowledgeable' 'bar']\n",
      "21 ['burrito' 'breakfast' 'spicy' 'best' 'good' 'day' 'chicken' 'great']\n",
      "22 ['friendly' 'staff' 'work' 'need' 'super' 'helpful' 'make' 'just']\n",
      "23 ['lunch' 'place' 'order' 'chicken' 'panini' 'quick' 'try' 'cafe']\n",
      "24 ['city' 'incredible' 'going' 'people' 'open' 'awesome' 'place' 'fast']\n",
      "25 ['kid' 'play' 'area' 'nice' 'little' 'caffeine' 'neighborhood' 'ha']\n",
      "26 ['west' 'tea' 'friendly' 'location' 'place' 'juice' 'real' 'used']\n",
      "27 ['wifi' 'lot' 'outlet' 'work' 'place' 'table' 'space' 'seating']\n",
      "28 ['vegan' 'pie' 'gluten' 'muffin' 'free' 'really' 'scone' 'juice']\n",
      "29 ['pizza' 'gelato' 'salad' 'come' 'order' 'try' 'italian' 'hour']\n",
      "30 ['baristas' 'drink' 'best' 'nice' 'great' 'barista' 'friendly' 'town']\n",
      "31 ['stand' 'girl' 'beautiful' 'half' 'barista' 'day' 'come' 'lady']\n",
      "32 ['milk' 'square' 'chai' 'review' 'almond' 'im' 'ordered' 'espresso']\n",
      "33 ['biscuit' 'gravy' 'breakfast' 'delicious' 'jam' 'sandwich' 'worth' 'place']\n",
      "34 ['soup' 'salad' 'bread' 'bite' 'offer' 'house' 'ask' 'spot']\n",
      "35 ['new' 'year' 'italian' 'walked' 'style' 'coming' 'visiting' 'spot']\n",
      "36 ['ice' 'cream' 'ballard' 'year' 'neighborhood' 'beer' 'gelato' 'awesome']\n",
      "37 ['parking' 'street' 'cafe' 'lot' 'got' 'thing' 'love' 'couple']\n",
      "38 ['bean' 'roasted' 'best' 'roaster' 'hill' 'come' 'amazing' 'want']\n",
      "39 ['egg' 'benedict' 'breakfast' 'brunch' 'toast' 'bacon' 'french' 'juice']\n"
     ]
    }
   ],
   "source": [
    "top_words_index = np.argsort(-H)[:,0:8]\n",
    "most_common_words_per_topic = np.array(words)[top_words_index]\n",
    "for i, items in enumerate(most_common_words_per_topic):\n",
    "    print(i, items)"
   ]
  },
  {
   "cell_type": "code",
   "execution_count": 398,
   "metadata": {},
   "outputs": [
    {
     "data": {
      "text/plain": [
       "defaultdict(list,\n",
       "            {0: ['Fuel Coffee Seattle',\n",
       "              'Green Bean Coffeehouse',\n",
       "              'My Coffeehouse',\n",
       "              'QED Coffee',\n",
       "              'Tougo Coffee Co.'],\n",
       "             1: ['Palazzo Cafe',\n",
       "              'The Station',\n",
       "              'Treehouse Coffee',\n",
       "              'Trinity Market',\n",
       "              'World Class Coffee'],\n",
       "             2: ['Dilettante Mocha Café - Rainier Square',\n",
       "              'Ghost Alley Espresso',\n",
       "              'Phoenix Cafe',\n",
       "              'Uptown Espresso',\n",
       "              'Uptown Espresso Gameporium  - Delridge'],\n",
       "             3: ['Einstein Bros Bagels',\n",
       "              'Einstein Bros Bagels',\n",
       "              'Fat Ducks Deli & Bakery',\n",
       "              'Grateful Bread Baking Company & Cafe',\n",
       "              \"Lama G's\"],\n",
       "             4: ['Cafe Javasti',\n",
       "              'Citizen Cafe',\n",
       "              'Essential Bakery Cafe',\n",
       "              'Joe Bar',\n",
       "              'Le Petite Cafe'],\n",
       "             5: ['Cubes Baking Co.',\n",
       "              'Cupcake Royale and Verite Coffee',\n",
       "              'Cupcake Royale and Verite Coffee',\n",
       "              'Cupcake Royale and Vérité Coffee',\n",
       "              'The Yellow Leaf Cupcake Co'],\n",
       "             6: ['Meadow Brew',\n",
       "              'Mocha Mojo',\n",
       "              'Standard Bakery',\n",
       "              \"Tully's Coffee\",\n",
       "              \"Tully's Coffee Drive-Thru\"],\n",
       "             7: ['Uptown Espresso',\n",
       "              'Uptown Espresso Magnolia',\n",
       "              'Voxx Coffee',\n",
       "              'Wayward Coffeehouse',\n",
       "              'Woodland Coffee'],\n",
       "             8: ['Tempesta',\n",
       "              'Top Pot Doughnuts',\n",
       "              'Top Pot Doughnuts',\n",
       "              'Top Pot Doughnuts',\n",
       "              'Top Pot Doughnuts'],\n",
       "             9: ['Fresh Flours',\n",
       "              'Inès Pâtisserie',\n",
       "              'Le Fournil',\n",
       "              'Le Panier',\n",
       "              \"Nielsen's Pastries\"],\n",
       "             10: ['Dog In The Park',\n",
       "              'El Diablo Coffee',\n",
       "              'Kakao',\n",
       "              'Storyville Coffee Company',\n",
       "              'Storyville Coffee Company'],\n",
       "             11: ['Fuel Coffee',\n",
       "              'Fuel Coffee  - Montlake',\n",
       "              'Fulcrum Coffee',\n",
       "              'Herkimer Coffee',\n",
       "              'Street Bean Espresso'],\n",
       "             12: ['Caffe Vita', 'FIX Coffeehouse', 'MiiR Flagship'],\n",
       "             13: ['Caffe Zingaro',\n",
       "              'Cederberg Tea House',\n",
       "              'Fremont Coffee Company',\n",
       "              'Makeda & Mingus Café',\n",
       "              'Moore Coffee'],\n",
       "             14: [\"Caffé D'arte\",\n",
       "              'Coffee Inn',\n",
       "              'Hilaal Coffee',\n",
       "              'Local Color',\n",
       "              \"Seattle's Best Coffee - Retail Cafes- Down\"],\n",
       "             15: ['Cafe Lulu',\n",
       "              'Cortona Cafe',\n",
       "              'Empire Espresso',\n",
       "              'Métier',\n",
       "              'Sweet Iron Waffles'],\n",
       "             16: ['Conduit Coffee Roasters',\n",
       "              'Copper Tree Cafe',\n",
       "              'North Star Fine Coffees',\n",
       "              'Prūf Cafe & Bar',\n",
       "              'Retreat'],\n",
       "             17: ['Gourmet Latte',\n",
       "              'Herkimer Coffee',\n",
       "              'Monorail Espresso',\n",
       "              'Slate Coffee',\n",
       "              'Slate Coffee Bar'],\n",
       "             18: ['Caffe Appassionato',\n",
       "              'Callus Café',\n",
       "              'Parnassus Art Gallery & Coffee Shop',\n",
       "              'Seattle Grind',\n",
       "              \"Tully's Coffee\"],\n",
       "             19: ['Rococo Coffee Roasting',\n",
       "              'Starbucks Coffee Gear',\n",
       "              'Team Refreshers & Doubleshot',\n",
       "              \"Tully's Coffee\",\n",
       "              \"Tully's Coffee\"],\n",
       "             20: ['Cascade Coffee Works',\n",
       "              'Craftworks Coffee',\n",
       "              'Honor Coffee & Tea',\n",
       "              'Olympia Coffee Roasters',\n",
       "              'Starbucks Reserve Bar'],\n",
       "             21: ['Pearls Tea & Coffee',\n",
       "              'QED Coffee',\n",
       "              'Realfine Coffee',\n",
       "              'Shack Coffee',\n",
       "              'Sound & Fog'],\n",
       "             22: ['La Copa Cafe',\n",
       "              'Let It Bean',\n",
       "              'Planet Java',\n",
       "              'Seattle Central Grind',\n",
       "              'Seattle Espresso'],\n",
       "             23: ['Cafe Cuzco',\n",
       "              'Dutch Bike Company | Cafe',\n",
       "              'Espresso by Design',\n",
       "              'Macrina Bakery & Cafe',\n",
       "              'Petra Mediterranean Bistro'],\n",
       "             24: ['0 Deck Sky Cafe',\n",
       "              'All City Coffee',\n",
       "              'City Grind Espresso',\n",
       "              'Slate'],\n",
       "             25: ['Dilettante Mocha Café',\n",
       "              'Dorothea Coffee',\n",
       "              'Honor Society Coffee',\n",
       "              'QED Coffee',\n",
       "              'The Highlands'],\n",
       "             26: ['Moonshot Coffee',\n",
       "              'Portside Coffee Company',\n",
       "              'Red Cup Espresso',\n",
       "              'Sky High Espresso',\n",
       "              'Sureshot'],\n",
       "             27: ['Flying Apron Bakery',\n",
       "              \"Freshy's Coffee\",\n",
       "              'Gallery Cafè at The Frye',\n",
       "              'Repast',\n",
       "              'Seattle Aquarium Cafe'],\n",
       "             28: [\"Joelle's Espresso Cafe\",\n",
       "              \"Rooster's Espresso\",\n",
       "              'Royal Drummer',\n",
       "              'Solsticio',\n",
       "              'Third Ave Cafe'],\n",
       "             29: ['La Vita e Bella',\n",
       "              'La Vita e Bella Express',\n",
       "              'Pineapple Espresso & Bar',\n",
       "              'Starbucks Secure Access Sodo 8',\n",
       "              'Tutta Bella Neapolitan Pizzeria'],\n",
       "             30: ['Chelan Cafe',\n",
       "              'Fonté Café & Wine Bar',\n",
       "              'Hi Spot Cafe',\n",
       "              'Stone Way Café',\n",
       "              \"Terry's 14 Carrot Cafe\"],\n",
       "             31: ['Lighthouse Roasters',\n",
       "              'Pico Café',\n",
       "              'Polar Cafe',\n",
       "              'Starbucks Reserve Roastery & Tasting Room',\n",
       "              'Victrola Cafe and Roastery'],\n",
       "             32: ['The Bistro at Aljoya',\n",
       "              \"Tully's - Pioneer Square\",\n",
       "              \"Tully's Coffee\",\n",
       "              \"Tully's Coffee\",\n",
       "              'Urban Coffee House'],\n",
       "             33: ['Biscuit & Bean', 'Biscuit Bitch - Belltown', 'Caffé Lieto'],\n",
       "             34: ['Kaladi Brothers Coffee',\n",
       "              'Macrina Bakery',\n",
       "              'Pegasus Coffee',\n",
       "              'Squirrel Chops',\n",
       "              'The Bridge Coffee House'],\n",
       "             35: ['Peloton',\n",
       "              'S + L',\n",
       "              'Sugar Bakery & Coffeehouse',\n",
       "              'The Daily Dose',\n",
       "              'The Dane'],\n",
       "             36: ['Bus Stop Espresso & Gyros',\n",
       "              'Gelatiamo',\n",
       "              'Kosmic Koffee',\n",
       "              'Seattles Best Coffee',\n",
       "              \"The Scoop at Walter's\"],\n",
       "             37: ['Overpass Espresso',\n",
       "              'Tripod Coffee',\n",
       "              'Ventoux Cafe & Hart Roasters',\n",
       "              'West Bay Espresso',\n",
       "              'ladybug espresso'],\n",
       "             38: ['Specialty’s Café & Bakery',\n",
       "              'Specialty’s Café & Bakery',\n",
       "              'Suzzallo Espresso',\n",
       "              'Victrola',\n",
       "              'Zoka Coffee Roaster & Tea Company'],\n",
       "             39: ['Sip and Ship',\n",
       "              'Slate Coffee Roasters',\n",
       "              \"Tully's Coffee\",\n",
       "              \"Tully's Coffee\",\n",
       "              'Van Gogh Coffee']})"
      ]
     },
     "execution_count": 398,
     "metadata": {},
     "output_type": "execute_result"
    }
   ],
   "source": [
    "#def top_shops(W):\n",
    "shop_dict = defaultdict(list)\n",
    "for index, item in enumerate(W):\n",
    "    key = np.argmax(item)\n",
    "    value = item[key]\n",
    "    name = over20_data['name'][index]\n",
    "    shop_dict[key].append([value, name])\n",
    "top_shop_names = defaultdict(list)\n",
    "for feature in shop_dict:\n",
    "    top_shop_names[feature] = list(np.sort(np.array(shop_dict[feature]).T)[1,-6:-1])\n",
    "top_shop_names"
   ]
  },
  {
   "cell_type": "code",
   "execution_count": null,
   "metadata": {
    "collapsed": true
   },
   "outputs": [],
   "source": []
  }
 ],
 "metadata": {
  "kernelspec": {
   "display_name": "Python 3",
   "language": "python",
   "name": "python3"
  },
  "language_info": {
   "codemirror_mode": {
    "name": "ipython",
    "version": 3
   },
   "file_extension": ".py",
   "mimetype": "text/x-python",
   "name": "python",
   "nbconvert_exporter": "python",
   "pygments_lexer": "ipython3",
   "version": "3.6.3"
  }
 },
 "nbformat": 4,
 "nbformat_minor": 2
}
