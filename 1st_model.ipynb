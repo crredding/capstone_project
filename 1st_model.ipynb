{
 "cells": [
  {
   "cell_type": "code",
   "execution_count": 454,
   "metadata": {},
   "outputs": [],
   "source": [
    "import numpy as np\n",
    "import pandas as pd\n",
    "from sklearn.feature_extraction.text import TfidfVectorizer\n",
    "from sklearn.cluster import KMeans \n",
    "from sklearn.metrics import silhouette_score, silhouette_samples\n",
    "from sklearn.decomposition import NMF\n",
    "from collections import defaultdict\n",
    "from nltk import word_tokenize\n",
    "from nltk.stem import WordNetLemmatizer\n",
    "from nltk import pos_tag\n",
    "#from nltk.corpus import stopwords\n",
    "from sklearn.feature_extraction import stop_words\n",
    "from geopy.distance import vincenty\n",
    "from geopy.distance import great_circle"
   ]
  },
  {
   "cell_type": "code",
   "execution_count": 359,
   "metadata": {},
   "outputs": [],
   "source": [
    "data = pd.read_csv('data/data_not_starbucks.csv').drop('Unnamed: 0', axis=1)"
   ]
  },
  {
   "cell_type": "code",
   "execution_count": 360,
   "metadata": {},
   "outputs": [
    {
     "name": "stdout",
     "output_type": "stream",
     "text": [
      "<class 'pandas.core.frame.DataFrame'>\n",
      "RangeIndex: 474 entries, 0 to 473\n",
      "Data columns (total 6 columns):\n",
      "location.lat        474 non-null float64\n",
      "location.lng        474 non-null float64\n",
      "name                474 non-null object\n",
      "combined_reviews    474 non-null object\n",
      "num_review_words    474 non-null int64\n",
      "final_address       474 non-null object\n",
      "dtypes: float64(2), int64(1), object(3)\n",
      "memory usage: 22.3+ KB\n"
     ]
    }
   ],
   "source": [
    "data.info()"
   ]
  },
  {
   "cell_type": "markdown",
   "metadata": {},
   "source": [
    "### Filter out shops with less than 20 words in their review"
   ]
  },
  {
   "cell_type": "code",
   "execution_count": 361,
   "metadata": {
    "collapsed": true
   },
   "outputs": [],
   "source": [
    "over20_data = data[data['num_review_words'] >= 20].reset_index().drop('index', axis=1)"
   ]
  },
  {
   "cell_type": "markdown",
   "metadata": {},
   "source": [
    "### Adding custom stopwords to sklearns defaults"
   ]
  },
  {
   "cell_type": "code",
   "execution_count": 520,
   "metadata": {
    "collapsed": true
   },
   "outputs": [],
   "source": [
    "stopwords = list(stop_words.ENGLISH_STOP_WORDS)"
   ]
  },
  {
   "cell_type": "code",
   "execution_count": 521,
   "metadata": {},
   "outputs": [],
   "source": [
    "stopwords += ['coffee', 'shop', 'coffeeshop', 'starbucks', 'wa', 'seattle', 'cafe', 'caffee']"
   ]
  },
  {
   "cell_type": "markdown",
   "metadata": {},
   "source": [
    "### Added LemmaTokenizer to lemmatize words "
   ]
  },
  {
   "cell_type": "code",
   "execution_count": 522,
   "metadata": {
    "collapsed": true
   },
   "outputs": [],
   "source": [
    "class LemmaTokenizer(object):\n",
    "    def __init__(self):\n",
    "        self.wnl = WordNetLemmatizer()\n",
    "    def __call__(self, doc):\n",
    "        return [self.wnl.lemmatize(t) for t in word_tokenize(doc)]"
   ]
  },
  {
   "cell_type": "code",
   "execution_count": 523,
   "metadata": {},
   "outputs": [],
   "source": [
    "tf = TfidfVectorizer(strip_accents='unicode',\n",
    "                     tokenizer=LemmaTokenizer(),\n",
    "                     stop_words=stopwords,\n",
    "                     max_features=500)"
   ]
  },
  {
   "cell_type": "code",
   "execution_count": 524,
   "metadata": {},
   "outputs": [],
   "source": [
    "tfidf = tf.fit_transform(over20_data['combined_reviews'])"
   ]
  },
  {
   "cell_type": "code",
   "execution_count": 525,
   "metadata": {},
   "outputs": [],
   "source": [
    "words = tf.get_feature_names()"
   ]
  },
  {
   "cell_type": "code",
   "execution_count": 526,
   "metadata": {},
   "outputs": [
    {
     "data": {
      "text/plain": [
       "NMF(alpha=0.0, beta_loss='frobenius', init=None, l1_ratio=0.0, max_iter=200,\n",
       "  n_components=40, random_state=None, shuffle=False, solver='cd',\n",
       "  tol=0.0001, verbose=0)"
      ]
     },
     "execution_count": 526,
     "metadata": {},
     "output_type": "execute_result"
    }
   ],
   "source": [
    "nmf = NMF(n_components=40)\n",
    "nmf.fit(tfidf)"
   ]
  },
  {
   "cell_type": "code",
   "execution_count": 527,
   "metadata": {},
   "outputs": [],
   "source": [
    "H = nmf.components_\n",
    "W = nmf.transform(tfidf)"
   ]
  },
  {
   "cell_type": "code",
   "execution_count": 528,
   "metadata": {},
   "outputs": [
    {
     "data": {
      "text/plain": [
       "(40, 500)"
      ]
     },
     "execution_count": 528,
     "metadata": {},
     "output_type": "execute_result"
    }
   ],
   "source": [
    "H.shape"
   ]
  },
  {
   "cell_type": "code",
   "execution_count": 529,
   "metadata": {},
   "outputs": [
    {
     "data": {
      "text/plain": [
       "(435, 40)"
      ]
     },
     "execution_count": 529,
     "metadata": {},
     "output_type": "execute_result"
    }
   ],
   "source": [
    "W.shape"
   ]
  },
  {
   "cell_type": "code",
   "execution_count": 533,
   "metadata": {},
   "outputs": [
    {
     "name": "stdout",
     "output_type": "stream",
     "text": [
      "0 ['wifi' 'lot' 'place' 'work' 'outlet' 'space' 'table' 'music' 'seating'\n",
      " 'great' 'atmosphere' 'plenty' 'nice' 'study' 'chair' 'big']\n",
      "1 ['sandwich' 'breakfast' 'delicious' 'egg' 'turkey' 'yum' 'panini' 'snack'\n",
      " 'try' 'sweet' 'nice' 'muffin' 'chai' 'coconut' 'wifi' 'bomb']\n",
      "2 ['latte' 'best' 'try' 'art' 'iced' 'amazing' 'soy' 'just' 'ive' 'bean'\n",
      " 'yum' 'make' 'chai' 'town' 'raspberry' 'come']\n",
      "3 ['bagel' 'cheese' 'cream' 'breakfast' 'sandwich' 'good' 'egg' 'street'\n",
      " 'really' 'try' 'tomato' 'love' 'best' 'lady' 'chai' 'bread']\n",
      "4 ['crepe' 'like' 'wanted' 'stop' 'neighborhood' 'instead' 'strawberry'\n",
      " 'great' 'regular' 'daily' 'quite' 'door' 'maple' 'usually' 'dont'\n",
      " 'ordered']\n",
      "5 ['cupcake' 'cake' 'velvet' 'red' 'free' 'salted' 'delicious' 'order'\n",
      " 'bakery' 'hour' 'today' '10' 'ice' 'caramel' 'lavender' 'stumptown']\n",
      "6 ['customer' 'service' 'place' 'right' 'rude' 'location' 'asked'\n",
      " 'convenient' '3' 'say' 'time' '’' 'dont' 'think' 'star' 'making']\n",
      "7 ['beer' 'wine' 'good' 'selection' 'night' 'work' 'vibe' 'cool' 'space'\n",
      " 'spot' 'place' 'local' 'buy' 'new' 'bar' 'stumptown']\n",
      "8 ['donut' 'doughnut' 'fashioned' 'pot' 'old' 'maple' 'pumpkin' 'cake'\n",
      " 'lemon' 'apple' 'wonderful' 'cream' 'bar' 'good' 'like' 'raspberry']\n",
      "9 ['croissant' 'pastry' 'bakery' 'baked' 'good' 'macaroon' 'amazing' 'almond'\n",
      " 'bread' 'quiche' 'ham' 'taste' 'cake' 'best' 'fresh' 'dont']\n",
      "10 ['chocolate' 'hot' 'dark' 'rich' 'favorite' 'cooky' 'delicious' 'cookie'\n",
      " 'chip' 'try' 'mocha' 'order' 'far' 'coconut' 'minute' 'day']\n",
      "11 ['great' 'love' 'service' 'people' 'awesome' 'place' 'super' 'customer'\n",
      " 'house' 'meeting' 'little' 'really' 'check' 'wonderful' 'afternoon'\n",
      " 'small']\n",
      "12 ['owner' 'local' 'business' 'neighborhood' 'ha' 'roasted' 'bean' 'area'\n",
      " 'enjoy' 'house' 'excellent' 'coming' 'space' 'family' 'lovely' 'hang']\n",
      "13 ['brew' 'cold' 'pour' 'bean' 'different' 'hill' 'space' 'single' 'roasted'\n",
      " 'excellent' 'roast' 'knowledgeable' 'roaster' 'origin' 'location'\n",
      " 'tasting']\n",
      "14 ['market' 'pike' 'view' 'place' 'day' 'loved' 'atmosphere' 'quiet'\n",
      " 'recommend' 'restaurant' 'hour' 'favorite' 'fun' 'chai' 'great' 'highly']\n",
      "15 ['waffle' 'delicious' 'place' 'mean' 'try' 'early' 'juice' 'art' 'think'\n",
      " 'staff' 'nutella' 'sweet' 'small' 'panini' 'second' 'like']\n",
      "16 ['card' 'almond' 'best' 'free' 'check' 'work' 'try' '1' 'good' '10' 'great'\n",
      " 'buy' 'studying' 'building' 'milk' 'hidden']\n",
      "17 ['espresso' 'best' 'milk' 'cappuccino' 'nico' 'delicious' 'great' 'velvet'\n",
      " 'shot' 'good' 'ive' 'small' 'place' 'grab' 'probably' 'bar']\n",
      "18 ['tea' 'green' 'place' 'red' 'latte' 'try' 'sweet' 'friendly' 'happy'\n",
      " 'book' 'service' 'friend' 'pastry' 'weekend' 'hour' 'near']\n",
      "19 ['located' 'building' 'floor' 'store' 'center' 'inside' 'employee' 'menu'\n",
      " 'review' 'item' 'make' 'stay' 'open' 'hour' 'right' 'cup']\n",
      "20 ['mocha' 'orange' 'best' 'try' 'lavender' 'dark' 'game' 'foam' 'caffe'\n",
      " 'worth' 'good' 'cappuccino' 'like' 'tip' 'location' 'nutella']\n",
      "21 ['burrito' 'breakfast' 'vegan' 'spicy' 'good' 'chicken' 'day' 'food' 'best'\n",
      " 'town' 'happy' 'awesome' 'service' 'little' 'quick' 'sauce']\n",
      "22 ['biscuit' 'breakfast' 'jam' 'delicious' 'worth' 'sandwich' 'place' 'bacon'\n",
      " 'easy' 'amazing' 'loved' 'definitely' 'food' 'best' 'wait' 'try']\n",
      "23 ['lunch' 'food' 'place' 'chicken' 'quick' 'panini' 'special' 'try' 'order'\n",
      " 'like' 'stop' 'leave' 'pot' 'chill' 'italian' 'really']\n",
      "24 ['drink' 'free' 'snack' 'square' '1' 'choice' 'good' 'small' 'menu' 'taste'\n",
      " 'gem' 'way' 'wifi' 'caramel' 'double' 'unique']\n",
      "25 ['white' 'shot' 'place' 'nico' 'make' 'far' 'favorite' 'center' 'barista'\n",
      " 'like' 'music' 'velvet' 'sweet' 'high' 'chocolate' 'unique']\n",
      "26 ['west' 'juice' 'location' 'real' 'used' 'friendly' 'really' 'little'\n",
      " 'roast' 'place' 'best' 'right' 'strawberry' 'lady' 'store' 'yes']\n",
      "27 ['soup' 'salad' 'bread' 'vegan' 'sandwich' 'bite' 'offer' 'try' 'gluten'\n",
      " 'menu' 'house' 'delicious' 'kid' 'ask' 'dish' 'looked']\n",
      "28 ['food' 'egg' 'brunch' 'breakfast' 'benedict' 'restaurant' 'toast'\n",
      " 'chicken' 'french' 'good' 'menu' 'service' 'wait' 'bacon' 'time' 'price']\n",
      "29 ['friendly' 'staff' 'work' 'super' 'helpful' 'need' 'just' 'place'\n",
      " 'ballard' 'make' 'better' 'come' 'ive' 'left' 'time' 'delicious']\n",
      "30 ['walked' 'visiting' 'barista' 'experience' 'milk' 'warm' 'place' 'ha'\n",
      " 'recommend' 'welcoming' 'chai' 'highly' 'nice' 'really' 'corner' 'cozy']\n",
      "31 ['baristas' 'nice' 'great' 'pastry' 'friendly' 'barista' 'best' 'make'\n",
      " 'cup' 'morning' 'town' 'came' 'excellent' 'amazing' 'drink' 'oh']\n",
      "32 ['pizza' 'gelato' 'food' 'salad' 'order' 'italian' 'come' 'hour' 'try' '10'\n",
      " 'night' 'friend' 'service' 'dish' '5' 'happy']\n",
      "33 ['stand' 'girl' 'beautiful' 'come' 'half' 'barista' 'day' 'lady' 'visit'\n",
      " 'roast' 'sunny' 'want' 'view' 'favorite' 'need' 'im']\n",
      "34 ['new' 'year' 'italian' 'spot' 'style' 'coming' 'wonderful' 'environment'\n",
      " 'pretty' 'service' 'caffe' 'old' 'employee' 'brunch' 'took' 'busy']\n",
      "35 ['good' 'kid' 'little' 'neighborhood' 'staff' 'nice' 'play' 'stop' 'drip'\n",
      " 'cute' 'baked' 'small' 'price' 'area' 'location' 'vibe']\n",
      "36 ['order' 'line' 'slow' 'long' 'bar' 'chip' 'cookie' 'veggie' 'want' 'bad'\n",
      " 'time' 'cooky' 'half' 'food' 'fast' 'large']\n",
      "37 ['ice' 'cream' 'year' 'ballard' 'beer' 'neighborhood' 'gelato' 'ha'\n",
      " 'awesome' 'family' 'reason' 'quiet' 'open' 'donut' 'coming' 'flavor']\n",
      "38 ['parking' 'street' 'lot' 'got' 'came' 'love' 'thing' 'night' 'fan'\n",
      " 'couple' 'start' 'pastry' 'different' 'restaurant' 'neighborhood'\n",
      " 'serving']\n",
      "39 ['dog' 'hot' 'friendly' 'cute' 'wifi' 'went' 'comfortable' 'chair' 'comfy'\n",
      " 'delicious' 'grab' 'pastry' 'park' 'awesome' 'walking' 'house']\n"
     ]
    }
   ],
   "source": [
    "top_words_index = np.argsort(-H)[:,0:16]\n",
    "most_common_words_per_topic = np.array(words)[top_words_index]\n",
    "for i, items in enumerate(most_common_words_per_topic):\n",
    "    print(i, items)"
   ]
  },
  {
   "cell_type": "code",
   "execution_count": 531,
   "metadata": {
    "scrolled": true
   },
   "outputs": [
    {
     "data": {
      "text/plain": [
       "defaultdict(list,\n",
       "            {0: ['Down Pour Coffee Bar',\n",
       "              'Drip City Coffee',\n",
       "              'Porchlight Coffee & Records',\n",
       "              'Roy Street Coffee & Tea',\n",
       "              'Seattle Sunshine Coffee',\n",
       "              'Stage Door Cafe',\n",
       "              'The Highlands',\n",
       "              'The Maple Leaf Living Room',\n",
       "              'Uptown Espresso'],\n",
       "             1: ['Cafe Kopi',\n",
       "              'Celesto Espresso',\n",
       "              'Discovery Espresso',\n",
       "              'Grand Central Bakery',\n",
       "              'Midtown Espresso Cafe',\n",
       "              'Monkey Grind Espresso Bar',\n",
       "              'Treehouse Coffee',\n",
       "              'Trinity Market',\n",
       "              'World Class Coffee'],\n",
       "             2: ['Bustle Caffe',\n",
       "              'Fremont Coffee Company',\n",
       "              'Makeda & Mingus Café',\n",
       "              'Monorail Espresso',\n",
       "              'Moore Coffee',\n",
       "              \"Natalie's Organic Coffee\",\n",
       "              'Rococo Coffee Roasting'],\n",
       "             3: ['Cherry Street Coffee House',\n",
       "              'Cherry Street Coffee House',\n",
       "              'Einstein Bros Bagels',\n",
       "              'Einstein Bros Bagels',\n",
       "              'Einstein Bros Bagels',\n",
       "              'Einstein Bros Bagels',\n",
       "              'Fat Ducks Deli & Bakery',\n",
       "              'Grateful Bread Baking Company & Cafe',\n",
       "              \"Lama G's\"],\n",
       "             4: ['Back to the Grind',\n",
       "              'Cafe Javasti',\n",
       "              'Cafe Javasti',\n",
       "              'Citizen Cafe',\n",
       "              'Essential Bakery Cafe',\n",
       "              'Joe Bar',\n",
       "              'Le Petite Cafe'],\n",
       "             5: ['Cubes Baking Co.',\n",
       "              'Cupcake Royale and Verite Coffee',\n",
       "              'Cupcake Royale and Verite Coffee',\n",
       "              'Cupcake Royale and Vérité Coffee',\n",
       "              'Pineapple Espresso & Bar',\n",
       "              'The Yellow Leaf Cupcake Co'],\n",
       "             6: ['Konvene Coffee',\n",
       "              'Meadow Brew',\n",
       "              'Peloton',\n",
       "              'Pho Than Brothers - West Seattle',\n",
       "              'Seattles Best Coffee',\n",
       "              'Standard Bakery',\n",
       "              \"Tully's Coffee\",\n",
       "              \"Tully's Coffee\",\n",
       "              \"Tully's Coffee Drive-Thru\"],\n",
       "             7: ['Ballard Coffee Works',\n",
       "              'Cafe Solstice',\n",
       "              'Caffe Vita',\n",
       "              'FIX Coffeehouse',\n",
       "              'MiiR Flagship',\n",
       "              'The Station'],\n",
       "             8: ['General Porpoise Coffee & Doughnuts',\n",
       "              'Mighty-O Donuts',\n",
       "              'Tempesta',\n",
       "              'Top Pot Doughnuts',\n",
       "              'Top Pot Doughnuts',\n",
       "              'Top Pot Doughnuts',\n",
       "              'Top Pot Doughnuts'],\n",
       "             9: ['Caffe Senso Unico',\n",
       "              'Celine Patisserie',\n",
       "              'CoffeeMind',\n",
       "              'Fresh Flours',\n",
       "              'Fresh Flours',\n",
       "              'Inès Pâtisserie',\n",
       "              'Le Fournil',\n",
       "              'Le Panier',\n",
       "              \"Nielsen's Pastries\"],\n",
       "             10: ['Caffè Fiorè',\n",
       "              'Chocolati Cafe',\n",
       "              'Chocolati Cafe',\n",
       "              'Chocolati Greenwood',\n",
       "              'Dilettante Mocha Café',\n",
       "              'El Diablo Coffee',\n",
       "              'Kakao',\n",
       "              'Storyville Coffee Company',\n",
       "              'Storyville Coffee Company'],\n",
       "             11: ['Cedar & Spokes',\n",
       "              'Cherry Street Coffee',\n",
       "              'Convoy Coffee',\n",
       "              'Fuel Coffee',\n",
       "              'Fuel Coffee  - Montlake',\n",
       "              'Fulcrum Coffee',\n",
       "              'Squirrel Chops',\n",
       "              'Street Bean Espresso',\n",
       "              'UW: Husky Grind'],\n",
       "             12: ['Bean City Coffee',\n",
       "              'Conduit Coffee Roasters',\n",
       "              'Copper Tree Cafe',\n",
       "              'El Portal Coffee Roasters',\n",
       "              'North Star Fine Coffees',\n",
       "              'Palazzo Cafe',\n",
       "              'Prūf Cafe & Bar',\n",
       "              'Retreat'],\n",
       "             13: ['Elm Coffee Roasters',\n",
       "              'Honor Coffee & Tea',\n",
       "              'La Marzocco Cafe',\n",
       "              'Lighthouse Roasters',\n",
       "              'Olympia Coffee Roasters',\n",
       "              'Starbucks Reserve Bar',\n",
       "              'Starbucks Reserve Roastery & Tasting Room',\n",
       "              'Stumptown Coffee Roasters',\n",
       "              'True North Coffee'],\n",
       "             14: ['Amazon - Van Vorst (SEA21)',\n",
       "              \"Caffé D'arte\",\n",
       "              'Coffee Inn',\n",
       "              'Hilaal Coffee',\n",
       "              'Honor Society Coffee',\n",
       "              'Local Color',\n",
       "              \"Seattle's Best Coffee - Retail Cafes- Down\"],\n",
       "             15: ['Admiral Bird',\n",
       "              'Cafe Lulu',\n",
       "              'Cortona Cafe',\n",
       "              'Empire Espresso',\n",
       "              'Métier',\n",
       "              'Sweet Iron Waffles'],\n",
       "             16: ['Cafe Osseo',\n",
       "              'Herkimer Coffee',\n",
       "              'Herkimer Coffee',\n",
       "              \"Jumpin' Jimmy's\",\n",
       "              'Parnassus Art Gallery & Coffee Shop'],\n",
       "             17: ['ETG Coffee & Bakery',\n",
       "              'Espresso Vivace Sidewalk Bar',\n",
       "              'Ghost Alley Espresso',\n",
       "              'Gourmet Latte',\n",
       "              'Slate Coffee'],\n",
       "             18: ['Caffe Zingaro',\n",
       "              'Cederberg Tea House',\n",
       "              'Honor Coffee & Tea',\n",
       "              'Moondrop Coffee & Tea',\n",
       "              'Panama Hotel Tea & Coffee'],\n",
       "             19: ['Azaleos Corporation',\n",
       "              'Dorothea Coffee',\n",
       "              'Phoenix Cafe',\n",
       "              'Starbucks Coffee Gear',\n",
       "              'Team Refreshers & Doubleshot'],\n",
       "             20: ['Bedlam Coffee',\n",
       "              'Caffe Ladro',\n",
       "              'Cuppajo On The Go',\n",
       "              'Dilettante Mocha Café',\n",
       "              'Dilettante Mocha Café - Rainier Square',\n",
       "              'Uptown Espresso',\n",
       "              'Uptown Espresso Gameporium  - Delridge'],\n",
       "             21: ['Baja Bistro',\n",
       "              'Bang Bang Cafe',\n",
       "              'Bird on a Wire Espresso',\n",
       "              'Electric Cloud Coffee',\n",
       "              \"Joelle's Espresso Cafe\",\n",
       "              \"Rooster's Espresso\",\n",
       "              'Solsticio'],\n",
       "             22: ['Biscuit & Bean',\n",
       "              'Biscuit Bitch - Belltown',\n",
       "              'Caffé Lieto',\n",
       "              'Macrina Bakery'],\n",
       "             23: ['Cafe Cuzco',\n",
       "              'Caffé Torino',\n",
       "              'Café 815 Mercer',\n",
       "              'Espresso by Design',\n",
       "              'Macrina Bakery & Cafe',\n",
       "              'Petra Mediterranean Bistro',\n",
       "              'Pico Café',\n",
       "              'Seattle Central Grind',\n",
       "              'Seattles Best Coffee'],\n",
       "             24: ['Caffe Appassionato',\n",
       "              'Callus Café',\n",
       "              'Diva Espresso - Green Lake',\n",
       "              'Ghost Note Coffee',\n",
       "              'Hotwire Coffeehouse',\n",
       "              'Impulse Coffee',\n",
       "              'Mosaic Coffeehouse',\n",
       "              \"Tully's Coffee\",\n",
       "              \"Tully's Coffee\"],\n",
       "             25: ['Dubsea Coffee',\n",
       "              'Espresso Vivace',\n",
       "              'Espresso Vivace',\n",
       "              'Moonshot Coffee',\n",
       "              'Portside Coffee Company',\n",
       "              'Red Cup Espresso',\n",
       "              'Sky High Espresso',\n",
       "              'Sureshot',\n",
       "              \"Tully's Coffee\"],\n",
       "             26: ['Alki Juice & Java',\n",
       "              'Jucivana Coffee',\n",
       "              'Pearls Tea & Coffee',\n",
       "              'QED Coffee',\n",
       "              'Realfine Coffee',\n",
       "              'Shack Coffee',\n",
       "              'Sound & Fog'],\n",
       "             27: ['5th avenue cafe',\n",
       "              'Chaco Canyon Organic Cafe',\n",
       "              'Cherry Street Coffee House',\n",
       "              'Essential Baking Company',\n",
       "              'Flying Apron Bakery',\n",
       "              \"Freshy's Coffee\",\n",
       "              'Gallery Cafè at The Frye',\n",
       "              'Repast',\n",
       "              'Seattle Aquarium Cafe'],\n",
       "             28: ['Cherry Street Public House',\n",
       "              'Fonté Café & Wine Bar',\n",
       "              'Hi Spot Cafe',\n",
       "              'Let It Bean',\n",
       "              'Planet Java',\n",
       "              'Seattle Espresso',\n",
       "              \"Seattle's Best Coffee\",\n",
       "              'Stone Way Café',\n",
       "              \"Terry's 14 Carrot Cafe\"],\n",
       "             29: ['La Copa Cafe',\n",
       "              'Monorail Espresso',\n",
       "              'Preserve and Gather',\n",
       "              'Sip and Ship',\n",
       "              'Slate Coffee Roasters',\n",
       "              'Tin Umbrella Coffee',\n",
       "              \"Tully's Coffee\",\n",
       "              \"Tully's Coffee\",\n",
       "              'Victrola'],\n",
       "             30: ['Good Citizen',\n",
       "              'Honor Coffee & Tea',\n",
       "              'Middle Fork Roasters',\n",
       "              \"Peet's Coffee & Tea\",\n",
       "              'Port & Anchor',\n",
       "              'QED Coffee',\n",
       "              'Seven Coffee Roasters',\n",
       "              \"Tully's Coffee\",\n",
       "              'Urban Coffee House'],\n",
       "             31: ['Espresso Elegance',\n",
       "              'Java Bean',\n",
       "              'Java Jahn',\n",
       "              'Kaladi Brothers Coffee',\n",
       "              'Milstead & Co.',\n",
       "              'Mocha Mojo',\n",
       "              'Pegasus Coffee',\n",
       "              'Pegasus Coffee',\n",
       "              'Van Gogh Coffee'],\n",
       "             32: ['Caffe Vita',\n",
       "              'La Vita e Bella',\n",
       "              'La Vita e Bella Express',\n",
       "              'Starbucks Secure Access Sodo 8',\n",
       "              'Tutta Bella Neapolitan Pizzeria'],\n",
       "             33: ['Chicka Latte',\n",
       "              'City Grind Espresso',\n",
       "              'Foxy Lady Latte',\n",
       "              'Green Lake Boathouse',\n",
       "              'Java Express',\n",
       "              'Ladybug Espresso',\n",
       "              'Overpass Espresso',\n",
       "              'Tripod Coffee',\n",
       "              'Ventoux Cafe & Hart Roasters'],\n",
       "             34: ['Caffe Ladro',\n",
       "              'Caffe Umbria',\n",
       "              'Caffè Umbria',\n",
       "              'City Latte Belltown',\n",
       "              'Ground Control',\n",
       "              'The Bistro at Aljoya'],\n",
       "             35: ['Jibe Espresso Bar',\n",
       "              'My Coffeehouse',\n",
       "              'QED Coffee',\n",
       "              'Slate Coffee Bar',\n",
       "              'The Bridge Coffee House',\n",
       "              'The Seattle Grind',\n",
       "              'Tougo Coffee Co.',\n",
       "              'UW: Tower Café',\n",
       "              'Union Coffee'],\n",
       "             36: ['Seattle Coffee Works',\n",
       "              'Sip and Ship',\n",
       "              \"Specialty's Cafe & Bakery/Peet's Coffee - SLU\",\n",
       "              \"Specialty's Café & Bakery\",\n",
       "              'Specialty’s Café & Bakery',\n",
       "              'Specialty’s Café & Bakery',\n",
       "              'Suzzallo Espresso',\n",
       "              'Zoka Coffee Roaster & Tea Company',\n",
       "              'Zoka Coffee Roaster & Tea Company'],\n",
       "             37: ['Bus Stop Espresso & Gyros',\n",
       "              'Caffè Umbria',\n",
       "              'Gelatiamo',\n",
       "              'Kosmic Koffee',\n",
       "              'Slate',\n",
       "              \"The Scoop at Walter's\"],\n",
       "             38: ['Coffee Crew',\n",
       "              'Crazy Bean',\n",
       "              'Diva Espresso',\n",
       "              'Royal Drummer',\n",
       "              'S + L',\n",
       "              'Seattle Grind',\n",
       "              'Slow Coffee Shop',\n",
       "              'Sugar Bakery & Coffeehouse',\n",
       "              'The Daily Dose'],\n",
       "             39: ['Cafe Ladro',\n",
       "              'Caffe Ladro',\n",
       "              'Dog In The Park',\n",
       "              'Dutch Bike Company | Cafe',\n",
       "              'Evoke Coffee Co',\n",
       "              \"Fergy's Cafe & Hawaiian Vacation Travel Agency\",\n",
       "              'Holy Grounds Coffee House',\n",
       "              'Polar Cafe',\n",
       "              'Uptown Espresso & Bakery']})"
      ]
     },
     "execution_count": 531,
     "metadata": {},
     "output_type": "execute_result"
    }
   ],
   "source": [
    "#def top_shops(W):\n",
    "shop_dict = defaultdict(list)\n",
    "for index, item in enumerate(W):\n",
    "    key = np.argmax(item)\n",
    "    value = item[key]\n",
    "    name = over20_data['name'][index]\n",
    "    shop_dict[key].append([value, name])\n",
    "top_shop_names = defaultdict(list)\n",
    "for feature in shop_dict:\n",
    "    top_shop_names[feature] = list(np.sort(np.array(shop_dict[feature]).T)[1,-10:-1])\n",
    "top_shop_names"
   ]
  },
  {
   "cell_type": "code",
   "execution_count": 544,
   "metadata": {},
   "outputs": [],
   "source": [
    "a = [len(shop_dict[feature]) for feature in shop_dict]"
   ]
  },
  {
   "cell_type": "code",
   "execution_count": 550,
   "metadata": {},
   "outputs": [
    {
     "data": {
      "text/plain": [
       "array([27, 39, 31, 34, 25,  6, 18, 17, 11, 16,  4, 38, 26, 22, 15, 32, 36,\n",
       "       30, 37, 23, 21, 13, 12,  5,  2, 24,  9, 14, 35, 33, 20, 29,  1, 10,\n",
       "       19,  8,  0, 28,  7,  3])"
      ]
     },
     "execution_count": 550,
     "metadata": {},
     "output_type": "execute_result"
    }
   ],
   "source": [
    "np.argsort(a)"
   ]
  },
  {
   "cell_type": "code",
   "execution_count": 549,
   "metadata": {
    "collapsed": true
   },
   "outputs": [],
   "source": [
    "np.argsort?"
   ]
  },
  {
   "cell_type": "code",
   "execution_count": null,
   "metadata": {
    "collapsed": true
   },
   "outputs": [],
   "source": []
  }
 ],
 "metadata": {
  "kernelspec": {
   "display_name": "Python 3",
   "language": "python",
   "name": "python3"
  },
  "language_info": {
   "codemirror_mode": {
    "name": "ipython",
    "version": 3
   },
   "file_extension": ".py",
   "mimetype": "text/x-python",
   "name": "python",
   "nbconvert_exporter": "python",
   "pygments_lexer": "ipython3",
   "version": "3.6.3"
  }
 },
 "nbformat": 4,
 "nbformat_minor": 2
}
