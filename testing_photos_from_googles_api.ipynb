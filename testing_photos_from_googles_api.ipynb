{
 "cells": [
  {
   "cell_type": "code",
   "execution_count": 3,
   "metadata": {},
   "outputs": [
    {
     "name": "stdout",
     "output_type": "stream",
     "text": [
      "/Users/ReddingSkinnyRobot/Galvanize/capstone_project/website\n"
     ]
    }
   ],
   "source": [
    "cd website"
   ]
  },
  {
   "cell_type": "code",
   "execution_count": 54,
   "metadata": {},
   "outputs": [],
   "source": [
    "from google_api_functions import *\n",
    "import pandas as pd\n",
    "import numpy as np\n",
    "import yaml\n",
    "import json, requests\n",
    "from recommender_model import *"
   ]
  },
  {
   "cell_type": "code",
   "execution_count": 47,
   "metadata": {},
   "outputs": [],
   "source": [
    "with open('/Users/ReddingSkinnyRobot/.secrets/google_api.yaml') as f:\n",
    "    google_secrets = yaml.load(f)"
   ]
  },
  {
   "cell_type": "code",
   "execution_count": 59,
   "metadata": {},
   "outputs": [],
   "source": [
    "search_url = populate_google_search_url(47.613288, -122.308731, 'Tougo Coffee Co.', google_secrets['key'])\n",
    "search_resp = requests.get(url=search_url)\n",
    "search_data = json.loads(search_resp.text)"
   ]
  },
  {
   "cell_type": "code",
   "execution_count": 60,
   "metadata": {},
   "outputs": [
    {
     "data": {
      "text/plain": [
       "'CmRaAAAAggKHIzY09cDdHRtjmFaUwDyRf8fghcxTZc3mnm4_IoVPyAqtYyrtnjOd04UCsZDMCHI-VMTsfUmETbXH5D32JgqyJZidC0qCTqpXK8SZDo04-menrnjQA82wpQwJmVQzEhCHRFGaJTOU2Sdryp5uEz4AGhTXBAeSneN0XMO4U5WSIceDPrcs_w'"
      ]
     },
     "execution_count": 60,
     "metadata": {},
     "output_type": "execute_result"
    }
   ],
   "source": [
    "search_data['results'][0]['photos'][0]['photo_reference']"
   ]
  },
  {
   "cell_type": "code",
   "execution_count": 61,
   "metadata": {},
   "outputs": [],
   "source": [
    "photoreference = get_google_api_photo_id(47.613288, -122.308731, 'Tougo Coffee Co.', google_secrets['key'])\n",
    "photo_url = populate_google_photos_url(photoreference, google_secrets['key'])\n",
    "photo_resp = requests.get(url=photo_url)"
   ]
  },
  {
   "cell_type": "code",
   "execution_count": 65,
   "metadata": {},
   "outputs": [],
   "source": [
    "x = get_google_photo(47.613288, -122.308731, 'Tougo Coffee Co.', google_secrets['key'])"
   ]
  },
  {
   "cell_type": "code",
   "execution_count": 95,
   "metadata": {},
   "outputs": [],
   "source": [
    "x.content.decode?"
   ]
  },
  {
   "cell_type": "code",
   "execution_count": null,
   "metadata": {
    "collapsed": true
   },
   "outputs": [],
   "source": []
  }
 ],
 "metadata": {
  "kernelspec": {
   "display_name": "Python 3",
   "language": "python",
   "name": "python3"
  },
  "language_info": {
   "codemirror_mode": {
    "name": "ipython",
    "version": 3
   },
   "file_extension": ".py",
   "mimetype": "text/x-python",
   "name": "python",
   "nbconvert_exporter": "python",
   "pygments_lexer": "ipython3",
   "version": "3.6.3"
  }
 },
 "nbformat": 4,
 "nbformat_minor": 2
}
